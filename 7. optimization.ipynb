{
 "cells": [
  {
   "cell_type": "code",
   "execution_count": 304,
   "metadata": {},
   "outputs": [],
   "source": [
    "'''\n",
    "------------------------------------------------------------------------------------------------------\n",
    "\n",
    "ОПИСАНИЕ РАБОТЫ ПРОГРАММЫ:\n",
    "\n",
    "Введите ограничения, которые хотите использовать, [*] - обозначает, что переменная обязательна,\n",
    "если не ввести значения переменной код не будет работать. [opt] - опциональные переменные.\n",
    "Далее можно выбрать один из способов формирования стратегии коммуникации:\n",
    "\n",
    "1. Только бюджет - программа выбирает лучшие коммуникации для максимизирования прибыли, подстраиваясь \n",
    "под бюджет. Можно добавить ограничения на количество звонков, SMS и (или) email.\n",
    "\n",
    "2. Бюджет и процентное соотношение коммуникаций - фиксирует количество звонков, SMS и email, \n",
    "в зависимости от бюджета и отсылает предложения лучшим клиентам.\n",
    "\n",
    "3. Только количественное соотношение коммуникаций - отправляет звонки лучшим клиентам, SMS \n",
    "следующим и email оставшимся. Может быть задано через одну количественную переменную и все \n",
    "относительные.\n",
    "\n",
    "Кодировка результата – UTF-8\n",
    "\n",
    "---------------------------------------------------------------------------------------------------\n",
    "\n",
    "ФИЛЬТРЫ:\n",
    "\n",
    "[opt] REGIONS               #  Регионы, которые хотите рассматривать. Список доступных регионов:\n",
    "                            #  ['NORTH', 'SOUTHERN', 'CENTRAL', 'PRIVOLZIE',\n",
    "                            #  'URAL', 'SIBERIA', 'FAR EAST']. Следует выбрать подмножество.\n",
    "                            #  Если хотите рассматривать все регионы оставьте None.\n",
    "\n",
    "\n",
    "[opt] MIN_MEAN_CHECK        #  Ограничения на cредний чек. Будут рассматриваться все клиенты в\n",
    "[opt] MAX_MEAN_CHECK        #  интервале от MIN_MEAN_CHECK до MAX_MEAN_CHECK. \n",
    "                            #  Если не хотите использовать какую-либо границу оставьте для этой границы None.\n",
    "\n",
    "\n",
    "[opt] MIN_DATE              #  Ограничения на дату последнего заказа. Будут рассматриваться все клиенты \n",
    "[opt] MAX_DATE              #  в интервале от MIN_DATE до до MAX_DATE. Задавать значение следует в днях \n",
    "                            #  с последнего заказа. Если не хотите использовать какую-либо границу\n",
    "                            #  оставьте для этой границы None.\n",
    "   \n",
    "\n",
    "[opt] MIN_NUMBER_OF_CHECKS  #  Ограничения на количество чеков. Будут рассматриваться все клиенты в \n",
    "[opt] MAX_NUMBER_OF_CHECKS  #  интервле от MIN_NUMBER_OF_CHECKS до MAX_NUMBER_OF_CHECKS.\n",
    "                            #  Если не хотите использовать какую-либо границу оставьте для этой границы None.\n",
    "\n",
    "---------------------------------------------------------------------------------------------------\n",
    "\n",
    "ПАРАМЕТРЫ СРЕДЫ:\n",
    "\n",
    "[*] DATA_PATH          #  путь до файла с исходными данными\n",
    "[*] PATH_TO_RESULTS    #  путь до итоговой базы с клиентами на коммуникацию\n",
    "\n",
    "[*] CALL_COST          #  стоимость коммуникации по звонку\n",
    "[*] SMS_COST           #  стоимость коммуникации по SMS\n",
    "[*] EMAIL_COST         #  стоимость коммуникации по email\n",
    "\n",
    "[*] CALL_PROBABILITY   #  вероятность отклика по звонку, число от 0 до 1\n",
    "[*] SMS_PROBABILITY    #  вероятность отклика по SMS, число от 0 до 1\n",
    "[*] EMAIL_PROBABILITY  #  вероятность отклика по email, число от 0 до 1\n",
    "\n",
    "---------------------------------------------------------------------------------------------------\n",
    "\n",
    "ПАРАМЕТРЫ ФОРМИРОВАНИЯ СТРАТЕГИИ:\n",
    "\n",
    "BUDGET               #  размер бюджета\n",
    "\n",
    "PERCENTAGE_OF_CALL   #  доля коммуникаций по телефону, число от 0 до 1\n",
    "PERCENTAGE_OF_SMS    #  доля коммуникаций по SMS, число от 0 до 1\n",
    "PERCENTAGE_OF_EMAIL  #  доля коммуникаций по email, число от 0 до 1\n",
    "\n",
    "NUMBER_OF_CALL       #  количество коммуникаций с помощью звонков\n",
    "NUMBER_OF_SMS        #  количество коммуникаций с помощью SMS\n",
    "NUMBER_OF_EMAIL      #  количество коммуникаций с помощью email\n",
    "\n",
    "1. Ограничение только на бюджет:\n",
    "[*] BUDGET\n",
    "[opt] NUMBER_OF_CALL \n",
    "[opt] NUMBER_OF_SMS \n",
    "[opt] NUMBER_OF_EMAIL\n",
    "\n",
    "2. Ограничение на бюджет и процентное соотношение коммуникаций:\n",
    "[*] BUDGET\n",
    "[*] PERCENTAGE_OF_CALL\n",
    "[*] PERCENTAGE_OF_SMS\n",
    "[*] PERCENTAGE_OF_EMAIL\n",
    "\n",
    "3. Ограничение только на количественное и/или процентное соотношение коммуникаций:\n",
    "[*] NUMBER_OF_CALL\n",
    "[*] NUMBER_OF_SMS \n",
    "[*] NUMBER_OF_EMAIL\n",
    "ИЛИ\n",
    "[*] NUMBER_OF_CALL | NUMBER_OF_SMS | NUMBER_OF_EMAIL (только одно из них)\n",
    "[*] PERCENTAGE_OF_CALL\n",
    "[*] PERCENTAGE_OF_SMS\n",
    "[*] PERCENTAGE_OF_EMAIL\n",
    "\n",
    "------------------------------------------------------------------------------------------------------\n",
    "\n",
    "ДОПОЛНИТЕЛЬНЫЕ ВОЗМОЖНОСТИ:\n",
    "\n",
    "[*] BUILD_PLOT    #  Нужна ли визуализация. Возомжно при только первом и втором \n",
    "                  #  способах формирования стратегии. Приминает значения True или False.\n",
    "                  \n",
    "[*] PLOT_TARGET   #  Вид графика: прибыль от бюджета (значение = 1) или выручка от бюджета (значение = 2).\n",
    "                  #  По умолчанию выводится график прибыли от бюджета\n",
    "                  \n",
    "[*] CHART_BORDER  #  максимальный рассматриваемый бюджет на графике (ось X)\n",
    "[*] NUM_DOTS      #  число точек на графике (число от 0 до CHART_BORDER)\n",
    "[*] LOG_SCALE     #  нужна ли логарифмическая шкала (True / False)\n",
    "\n",
    "------------------------------------------------------------------------------------------------------\n",
    "'''\n",
    "\n",
    "### ФИЛЬТРЫ ###\n",
    "\n",
    "REGIONS = None\n",
    "\n",
    "MIN_MEAN_CHECK = None\n",
    "MAX_MEAN_CHECK = None\n",
    "\n",
    "MIN_DATE = None\n",
    "MAX_DATE = None\n",
    "\n",
    "MIN_NUMBER_OF_CHECKS = None\n",
    "MAX_NUMBER_OF_CHECKS = None\n",
    "\n",
    "### ПАРАМЕТРЫ СРЕДЫ ###\n",
    "\n",
    "DATA_PATH = './data/scores.csv'\n",
    "PATH_TO_RESULTS = './data/results.csv'\n",
    "\n",
    "CALL_COST = 3.4    # среднее значение \n",
    "SMS_COST = 1.5     # среднее значение\n",
    "EMAIL_COST = 0.01  # среднее значение\n",
    "\n",
    "CALL_PROBABILITY = 0.05 \n",
    "SMS_PROBABILITY = 0.02\n",
    "EMAIL_PROBABILITY = 0.003 \n",
    "\n",
    "### ПАРАМЕТРЫ ФОРМИРОВАНИЯ СТРАТЕГИИ ###\n",
    "\n",
    "BUDGET = 50000\n",
    "\n",
    "PERCENTAGE_OF_CALL = None\n",
    "PERCENTAGE_OF_SMS = None\n",
    "PERCENTAGE_OF_EMAIL = None\n",
    "\n",
    "NUMBER_OF_CALL = None\n",
    "NUMBER_OF_SMS = None\n",
    "NUMBER_OF_EMAIL = None\n",
    "\n",
    "### ПАРАМЕТРЫ ВИЗУАЛИЗАЦИИ ###\n",
    "\n",
    "BUILD_PLOT = True\n",
    "PLOT_TARGET = 1\n",
    "PLOT_BORDER = 100000\n",
    "NUM_DOTS = 50\n",
    "LOG_SCALE = False"
   ]
  },
  {
   "cell_type": "code",
   "execution_count": 305,
   "metadata": {},
   "outputs": [],
   "source": [
    "### Убедитесь, что все параметры настроены правильно и запустите эту ячейку.\n",
    "\n",
    "assert CALL_COST is not None, 'CALL_COST не задан'\n",
    "assert SMS_COST is not None, 'SMS_COST не задан'\n",
    "assert EMAIL_COST is not None, 'EMAIL_COST не задан'\n",
    "assert CALL_PROBABILITY is not None, 'CALL_PROBABILITY не задан'\n",
    "assert SMS_PROBABILITY is not None, 'SMS_PROBABILITY не задан'\n",
    "assert EMAIL_PROBABILITY is not None, 'EMAIL_PROBABILITY не задан'\n",
    "assert DATA_PATH is not None, 'DATA_PATH не задан'\n",
    "assert PATH_TO_RESULTS is not None, 'PATH_TO_RESULTS не задан'\n",
    "assert BUILD_PLOT is not None, 'BUILD_PLOT не задан'\n",
    "assert PLOT_TARGET is not None, 'PLOT_TARGET не задан'\n",
    "assert PLOT_BORDER is not None, 'PLOT_BORDER не задан'\n",
    "assert NUM_DOTS is not None, 'NUM_DOTS не задан'\n",
    "assert LOG_SCALE is not None, 'LOG_SCALE не задан'\n",
    "\n",
    "def check_percentages():\n",
    "    assert PERCENTAGE_OF_CALL is not None, 'PERCENTAGE_OF_CALL не задан'\n",
    "    assert PERCENTAGE_OF_SMS is not None, 'PERCENTAGE_OF_SMS не задан'\n",
    "    assert PERCENTAGE_OF_EMAIL is not None, 'PERCENTAGE_OF_EMAIL не задан'\n",
    "    assert PERCENTAGE_OF_CALL + PERCENTAGE_OF_SMS + PERCENTAGE_OF_EMAIL == 1, \\\n",
    "    'PERCENTAGE_OF_CALL + PERCENTAGE_OF_SMS + PERCENTAGE_OF_EMAIL != 1'\n",
    "\n",
    "def check_numbers():\n",
    "    alert_message = 'При неопределенном бюджете должна быть определена одна или все \\\n",
    "из переменных NUMBER_OF_CALL, NUMBER_OF_SMS, NUMBER_OF_CALL'\n",
    "    \n",
    "    assert ((NUMBER_OF_CALL is not None) or\n",
    "            (NUMBER_OF_SMS is not None) or\n",
    "            (NUMBER_OF_CALL is not None)), alert_message\n",
    "\n",
    "    if (NUMBER_OF_CALL is None) or (NUMBER_OF_SMS is None) or (NUMBER_OF_CALL is None):\n",
    "        check_percentages()\n",
    "        assert ((NUMBER_OF_CALL is not None) and (NUMBER_OF_SMS is None) and (NUMBER_OF_CALL is None) or \n",
    "               (NUMBER_OF_CALL is None) and (NUMBER_OF_SMS is not None) and (NUMBER_OF_CALL is None) or\n",
    "               (NUMBER_OF_CALL is None) and (NUMBER_OF_SMS is None) and (NUMBER_OF_CALL is not None)), \\\n",
    "        alert_message\n",
    "    \n",
    "    if NUMBER_OF_CALL is not None and NUMBER_OF_SMS is None and NUMBER_OF_EMAIL is None:\n",
    "        NUMBER_OF_SMS = NUMBER_OF_CALL * PERCENTAGE_OF_SMS // PERCENTAGE_OF_CALL\n",
    "        NUMBER_OF_EMAIL = NUMBER_OF_CALL * PERCENTAGE_OF_EMAIL // PERCENTAGE_OF_CALL\n",
    "    elif NUMBER_OF_SMS is not None and NUMBER_OF_CALL is None and NUMBER_OF_EMAIL is None:\n",
    "        NUMBER_OF_CALL = NUMBER_OF_SMS * PERCENTAGE_OF_CALL // PERCENTAGE_OF_SMS\n",
    "        NUMBER_OF_EMAIL = NUMBER_OF_SMS * PERCENTAGE_OF_EMAIL // PERCENTAGE_OF_SMS\n",
    "    elif NUMBER_OF_EMAIL is not None and NUMBER_OF_SMS is None and NUMBER_OF_CALL is None:\n",
    "        NUMBER_OF_CALL = NUMBER_OF_EMAIL * PERCENTAGE_OF_CALL // PERCENTAGE_OF_EMAIL\n",
    "        NUMBER_OF_SMS = NUMBER_OF_EMAIL * PERCENTAGE_OF_SMS // PERCENTAGE_OF_EMAIL"
   ]
  },
  {
   "cell_type": "code",
   "execution_count": 306,
   "metadata": {},
   "outputs": [],
   "source": [
    "def build_result_dataframe(df, n_call, n_sms, n_email):\n",
    "    print('Строится результирующий датафрейм...')\n",
    "\n",
    "    group_sgm = ['ТЕКСТИЛЬ, ТРИКОТАЖ', \n",
    "                 'КОСМЕТИКА/ГИГИЕНА', \n",
    "                 'ТЕКСТИЛЬ, ТРИКОТАЖ', \n",
    "                 'КОСМЕТИКА/ГИГИЕНА', \n",
    "                 'КОСМЕТИКА/ГИГИЕНА']\n",
    "    \n",
    "    clients = []\n",
    "    comm_types = []\n",
    "    groups = []\n",
    "    segments = []\n",
    "    discounts = ['5%'] * (n_call + n_sms + n_email)\n",
    "    \n",
    "    for i in tqdm(range(n_call + n_sms + n_email)):\n",
    "        if i < n_call:\n",
    "            comm_types.append('Call')\n",
    "        elif i < n_call + n_sms:\n",
    "            comm_types.append('SMS')\n",
    "        else:\n",
    "            comm_types.append('Email')\n",
    "        clients.append(df.iloc[i:i+1].index[0])\n",
    "        segment = df.iloc[i:i+1]['Сегмент'][0]\n",
    "        segments.append(segment)\n",
    "        groups.append(group_sgm[segment - 1])\n",
    "    \n",
    "    return pd.DataFrame({'Клиент' : clients,\n",
    "                         'Cпособ коммуникации' : comm_types,\n",
    "                         'Сегмент' : segments,\n",
    "                         'Размер скидки': discounts,\n",
    "                         'Категория товаров' : groups})\n",
    "\n",
    "def get_total_exp_income(df, n_call, n_sms, n_email):\n",
    "    exp_income_call = df.iloc[:n_call]['income'].sum() * CALL_PROBABILITY\n",
    "    exp_income_sms = df.iloc[n_call:n_sms+n_call]['income'].sum() * SMS_PROBABILITY\n",
    "    exp_income_email = df.iloc[n_call+n_sms:n_call+n_sms+n_email]['income'].sum() * EMAIL_PROBABILITY\n",
    "    exp_income_total = exp_income_call + exp_income_sms + exp_income_email \n",
    "    \n",
    "    return exp_income_total\n",
    "\n",
    "def calc_stats_by_segment(df, n_call, n_sms, n_email):\n",
    "    print('Подсчитывается статистика по сегментам...')\n",
    "    \n",
    "    ### Для каждого сегмента:\n",
    "    ### Общее количество коммуникаций + % от общего кол-ва коммуникаций всех сегментов\n",
    "    ### Кол-во коммуникаций по звонкам + % от кол-ва коммуникаций в этом сегменте\n",
    "    ### Кол-во коммуникаций по SMS + % от кол-ва коммуникаций в этом сегменте\n",
    "    ### Кол-во коммуникаций по email + % от кол-ва коммуникаций в этом сегменте\n",
    "    ### Бюджет\n",
    "    ### Ожидаемая прибыль\n",
    "    \n",
    "    SEP = '\\n--------------------------------------------------------------------\\n'\n",
    "    \n",
    "    N_SEGMENTS = 5\n",
    "    comm = [0] * N_SEGMENTS\n",
    "    call = [0] * N_SEGMENTS\n",
    "    sms = [0] * N_SEGMENTS\n",
    "    email = [0] * N_SEGMENTS\n",
    "    exp_income = [0] * N_SEGMENTS\n",
    "    \n",
    "    for i in tqdm(range(n_call + n_sms + n_email)):\n",
    "        segment = int(df.iloc[i]['Сегмент']) - 1\n",
    "        comm[segment] += 1\n",
    "        if i < n_call:\n",
    "            call[segment] += 1\n",
    "            exp_income[segment] += df.iloc[i]['income'] * CALL_PROBABILITY\n",
    "        elif i < n_call + n_sms:\n",
    "            sms[segment] += 1\n",
    "            exp_income[segment] += df.iloc[i]['income'] * SMS_PROBABILITY\n",
    "        else:\n",
    "            email[segment] += 1\n",
    "            exp_income[segment] += df.iloc[i]['income'] * EMAIL_PROBABILITY\n",
    "    \n",
    "    total_budget = n_call * CALL_COST + n_sms * SMS_COST + n_email * EMAIL_COST\n",
    "    total_num_comm = n_call + n_sms + n_email\n",
    "    total_exp_income = get_total_exp_income(df, n_call, n_sms, n_email)\n",
    "        \n",
    "    print(f'Общий бюджет = {total_budget:.2f}')\n",
    "    print(f'Общий ожидаемый доход = {total_exp_income:.2f}')\n",
    "    print(f'Общее кол-во коммуникаций = {total_num_comm}')\n",
    "    print(f'Общее кол-во коммуникаций по звонкам = {n_call}')\n",
    "    print(f'Общее кол-во коммуникаций по SMS = {n_sms}')\n",
    "    print(f'Общее кол-во коммуникаций по email = {n_email}')\n",
    "    print(SEP)\n",
    "    \n",
    "    for i in range(N_SEGMENTS):\n",
    "        budget = call[i] * CALL_COST + sms[i] * SMS_COST + email[i] * EMAIL_COST\n",
    "        comm_percent = comm[i] / sum(comm) * 100\n",
    "        if comm[i] > 0:\n",
    "            call_percent = call[i] / comm[i] * 100\n",
    "            sms_percent = sms[i] / comm[i] * 100\n",
    "            email_percent = email[i] / comm[i] * 100\n",
    "        else:\n",
    "            call_percent = 0\n",
    "            sms_percent = 0\n",
    "            email_percent = 0\n",
    "            \n",
    "        print(f'Сегмент {i+1}')\n",
    "        print(f'Бюджет = {budget:.2f}')\n",
    "        print(f'Ожидаемый доход = {exp_income[i]:.2f}')\n",
    "        print(f'Кол-во коммуникаций = {comm[i]} ({comm_percent:.2f}%)')\n",
    "        if comm[i] > 0:\n",
    "            print(f'Кол-во коммуникаций по звонкам = {call[i]} ({call_percent:.2f}%)')\n",
    "            print(f'Кол-во коммуникаций по SMS = {sms[i]} ({sms_percent:.2f}%)')\n",
    "            print(f'Кол-во коммуникаций по email = {email[i]} ({email_percent:.2f}%)')\n",
    "        print(SEP)\n",
    "\n",
    "def apply_restrictions(df):\n",
    "    '''Функция, применяющая ограничения на коммуникацию'''\n",
    "    total_size = df.shape[0]\n",
    "\n",
    "    if REGIONS is not None:\n",
    "        masks = []\n",
    "        for region in REGIONS:\n",
    "            masks.append(df[region] == 1)\n",
    "        res_mask = masks[0]\n",
    "        for mask in masks[1:]:\n",
    "            res_mask |= mask\n",
    "        df = df[res_mask]\n",
    "        \n",
    "    if MIN_MEAN_CHECK is not None:\n",
    "        df = df[df['СреднийЧек'] >= MIN_MEAN_CHECK]\n",
    "    if MAX_MEAN_CHECK is not None:\n",
    "        df = df[df['СреднийЧек'] <= MAX_MEAN_CHECK]\n",
    "        \n",
    "    if MIN_DATE is not None:\n",
    "        df = df[df['ДатаПоследнегоЗаказаВЫК'] >= MIN_DATE]\n",
    "    if MAX_DATE is not None:\n",
    "        df = df[df['ДатаПоследнегоЗаказаВЫК'] <= MAX_DATE]\n",
    "        \n",
    "    if MIN_NUMBER_OF_CHECKS is not None:\n",
    "        df = df[df['КоличествоЧеков'] >= MIN_NUMBER_OF_CHECKS]\n",
    "    if MAX_NUMBER_OF_CHECKS is not None:\n",
    "        df = df[df['КоличествоЧеков'] <= MAX_NUMBER_OF_CHECKS]\n",
    "    \n",
    "    comm_size = df.shape[0]\n",
    "    comm_percent = comm_size / total_size * 100\n",
    "    print(f'Кол-во клиентов для коммуникации = {comm_size} ({comm_percent:.2f}%)')\n",
    "    return df\n",
    "\n",
    "def strategy1(df, budget=BUDGET, delta=300, for_chart=False):\n",
    "    if not for_chart:\n",
    "        print('Формирование стратегии 1-ым способом...')\n",
    "    \n",
    "    n_clients = df.shape[0]\n",
    "    if NUMBER_OF_CALL is None:\n",
    "        n_call_max = min(int(budget / CALL_COST) + 1, n_clients)\n",
    "        n_call_range = list(map(int, np.linspace(0, n_call_max, num=delta)))\n",
    "    else:\n",
    "        n_call_range = [NUMBER_OF_CALL]\n",
    "    best_exp_income = 0\n",
    "    best_n_call, best_n_sms, best_n_email = -1, -1, -1\n",
    "    \n",
    "    if not for_chart:\n",
    "        displayed_range = tqdm(n_call_range)\n",
    "    else:\n",
    "        displayed_range = n_call_range\n",
    "        \n",
    "    for n_call in displayed_range:\n",
    "        if n_call * CALL_COST > budget:\n",
    "            continue\n",
    "        if NUMBER_OF_SMS is None:\n",
    "            n_sms_max = min(\n",
    "                int((budget - n_call * CALL_COST) / SMS_COST) + 1,\n",
    "                n_clients - n_call\n",
    "            )\n",
    "            n_sms_range = list(map(int, np.linspace(0, n_sms_max, num=delta)))\n",
    "        else:\n",
    "            n_sms_range = [NUMBER_OF_SMS]\n",
    "        for n_sms in n_sms_range:\n",
    "            if n_call * CALL_COST + n_sms * SMS_COST > budget:\n",
    "                continue\n",
    "            if NUMBER_OF_EMAIL is None:\n",
    "                n_email = min(\n",
    "                    int((budget - n_call * CALL_COST - n_sms * SMS_COST) / EMAIL_COST) + 1, \n",
    "                    n_clients - n_call - n_sms\n",
    "                )\n",
    "            else:\n",
    "                n_email = NUMBER_OF_EMAIL\n",
    "            if n_call * CALL_COST + n_sms * SMS_COST + n_email * EMAIL_COST > budget:\n",
    "                continue\n",
    "            exp_income = get_total_exp_income(df, n_call, n_sms, n_email)\n",
    "            if exp_income > best_exp_income:\n",
    "                best_exp_income = exp_income\n",
    "                best_n_call = n_call\n",
    "                best_n_sms = n_sms\n",
    "                best_n_email = n_email\n",
    "                \n",
    "    res_df = None\n",
    "    if not for_chart:\n",
    "        calc_stats_by_segment(df, best_n_call, best_n_sms, best_n_email)\n",
    "        res_df = build_result_dataframe(df, best_n_call, best_n_sms, best_n_email)\n",
    "    total_exp_income = get_total_exp_income(df, best_n_call, best_n_sms, best_n_email)\n",
    "    return res_df, total_exp_income\n",
    "\n",
    "    \n",
    "def strategy2(df, budget=BUDGET, for_chart=False):\n",
    "    if not for_chart:\n",
    "        print('Формирование стратегии 2-ым способом...')\n",
    "    min_diff = budget\n",
    "    best_n_call = -1\n",
    "    best_n_sms = -1\n",
    "    best_n_email = -1\n",
    "    \n",
    "    if not for_chart:\n",
    "        n_client_range = tqdm(list(range(df.shape[0])))\n",
    "    else:\n",
    "        n_client_range = list(range(df.shape[0]))\n",
    "    \n",
    "    for n_client in n_client_range:\n",
    "        n_call = int(PERCENTAGE_OF_CALL * n_client)\n",
    "        n_sms = int(PERCENTAGE_OF_SMS * n_client)\n",
    "        n_email = int(PERCENTAGE_OF_EMAIL * n_client)\n",
    "        \n",
    "        cost = n_call * CALL_COST  + n_sms * SMS_COST + n_email * EMAIL_COST\n",
    "        diff = budget - cost\n",
    "        if 0 <= diff < min_diff:\n",
    "            min_diff = diff\n",
    "            best_n_call = n_call\n",
    "            best_n_sms = n_sms\n",
    "            best_n_email = n_email\n",
    "    \n",
    "    res_df = None\n",
    "    if not for_chart:\n",
    "        calc_stats_by_segment(df, best_n_call, best_n_sms, best_n_email)\n",
    "        res_df = build_result_dataframe(df, best_n_call, best_n_sms, best_n_email)\n",
    "    total_exp_income = get_total_exp_income(df, best_n_call, best_n_sms, best_n_email)\n",
    "    return res_df, total_exp_income\n",
    "\n",
    "def strategy3(df):\n",
    "    print('Формирование стратегии 3-им способом...')\n",
    "    \n",
    "    n_clients = df.shape[0]\n",
    "    if NUMBER_OF_CALL + NUMBER_OF_EMAIL + NUMBER_OF_SMS > n_clients:\n",
    "        print('WARNING: кол-во коммуникаций больше кол-ва клиентов')\n",
    "    n_call = min(NUMBER_OF_CALL, n_clients)\n",
    "    n_sms = min(n_clients - n_call, NUMBER_OF_SMS)\n",
    "    n_email = min(n_clients - n_call - n_sms, NUMBER_OF_EMAIL)\n",
    "    \n",
    "    calc_stats_by_segment(df, n_call, n_sms, n_email)\n",
    "    total_exp_income = get_total_exp_income(df, n_call, n_sms, n_email)\n",
    "    res_df = build_result_dataframe(df, n_call, n_sms, n_email)\n",
    "    return res_df, total_exp_income\n",
    "\n",
    "def build_plot(df, strategy):\n",
    "    assert strategy in [1, 2], 'Построение графика невозможно для данной стратегии'\n",
    "    print('Построение графика...')\n",
    "\n",
    "    x, y = [], []\n",
    "    orig_budget, orig_target = BUDGET, None\n",
    "    best_budget, best_target = -1, -1\n",
    "    \n",
    "    budget_grid = list(np.unique(np.int64(np.linspace(100, PLOT_BORDER, num=NUM_DOTS))))\n",
    "    budget_grid.append(orig_budget)\n",
    "    budget_grid = list(np.unique(sorted(budget_grid)))\n",
    "    \n",
    "    for budget in tqdm(budget_grid):\n",
    "        if strategy == 1:\n",
    "            res_df, total_exp_income = strategy1(df, budget=budget, delta=50, for_chart=True)\n",
    "        elif strategy == 2:\n",
    "            res_df, total_exp_income = strategy2(df, budget=budget, for_chart=True)\n",
    "        \n",
    "        if PLOT_TARGET == 1:\n",
    "            target = total_exp_income - budget\n",
    "        elif PLOT_TARGET == 2:\n",
    "            target = total_exp_income\n",
    "        if budget == orig_budget:\n",
    "            orig_target = target\n",
    "        if LOG_SCALE:\n",
    "            target = np.log10(target)\n",
    "        \n",
    "        if target > best_target:\n",
    "            best_target = target\n",
    "            best_budget = budget\n",
    "        \n",
    "        y.append(target)\n",
    "        x.append(budget)\n",
    "        \n",
    "    color = ['blue'] * len(budget_grid)\n",
    "    color[x.index(orig_budget)] = 'black'\n",
    "    color[x.index(best_budget)] = 'red'\n",
    "    fig = go.Figure(data=go.Scatter(x=x, y=y, mode='lines+markers', name='lines',\n",
    "                                    marker = {'color': color, 'size': 6}))\n",
    "    if PLOT_TARGET == 1:\n",
    "        fig.update_layout(title='Зависимость ожидаемой прибыли от бюджета', width=1000, height=600)\n",
    "        fig.update_xaxes(title_text='Бюджет')\n",
    "        fig.update_yaxes(title_text='Прибыль')\n",
    "    else:\n",
    "        fig.update_layout(title='Зависимость ожидаемого дохода от бюджета', width=1000, height=600)\n",
    "        fig.update_xaxes(title_text='Бюджет')\n",
    "        fig.update_yaxes(title_text='Доход')\n",
    "    fig.show()"
   ]
  },
  {
   "cell_type": "code",
   "execution_count": 307,
   "metadata": {
    "scrolled": false
   },
   "outputs": [
    {
     "name": "stdout",
     "output_type": "stream",
     "text": [
      "Кол-во клиентов для коммуникации = 29858 (100.00%)\n",
      "Формирование стратегии 1-ым способом...\n"
     ]
    },
    {
     "data": {
      "application/vnd.jupyter.widget-view+json": {
       "model_id": "598e847b09b74653b512601f89bf52d7",
       "version_major": 2,
       "version_minor": 0
      },
      "text/plain": [
       "  0%|          | 0/300 [00:00<?, ?it/s]"
      ]
     },
     "metadata": {},
     "output_type": "display_data"
    },
    {
     "name": "stdout",
     "output_type": "stream",
     "text": [
      "Подсчитывается статистика по сегментам...\n"
     ]
    },
    {
     "data": {
      "application/vnd.jupyter.widget-view+json": {
       "model_id": "7bacd2bb315d4bdbb42006c489c107d2",
       "version_major": 2,
       "version_minor": 0
      },
      "text/plain": [
       "  0%|          | 0/29858 [00:00<?, ?it/s]"
      ]
     },
     "metadata": {},
     "output_type": "display_data"
    },
    {
     "name": "stdout",
     "output_type": "stream",
     "text": [
      "Общий бюджет = 49998.81\n",
      "Общий ожидаемый доход = 245570.25\n",
      "Общее кол-во коммуникаций = 29858\n",
      "Общее кол-во коммуникаций по звонкам = 14656\n",
      "Общее кол-во коммуникаций по SMS = 11\n",
      "Общее кол-во коммуникаций по email = 15191\n",
      "\n",
      "--------------------------------------------------------------------\n",
      "\n",
      "Сегмент 1\n",
      "Бюджет = 13151.20\n",
      "Ожидаемый доход = 104161.95\n",
      "Кол-во коммуникаций = 3868 (12.95%)\n",
      "Кол-во коммуникаций по звонкам = 3868 (100.00%)\n",
      "Кол-во коммуникаций по SMS = 0 (0.00%)\n",
      "Кол-во коммуникаций по email = 0 (0.00%)\n",
      "\n",
      "--------------------------------------------------------------------\n",
      "\n",
      "Сегмент 2\n",
      "Бюджет = 15679.34\n",
      "Ожидаемый доход = 23181.87\n",
      "Кол-во коммуникаций = 9335 (31.26%)\n",
      "Кол-во коммуникаций по звонкам = 4595 (49.22%)\n",
      "Кол-во коммуникаций по SMS = 6 (0.06%)\n",
      "Кол-во коммуникаций по email = 4734 (50.71%)\n",
      "\n",
      "--------------------------------------------------------------------\n",
      "\n",
      "Сегмент 3\n",
      "Бюджет = 10359.85\n",
      "Ожидаемый доход = 97968.17\n",
      "Кол-во коммуникаций = 3052 (10.22%)\n",
      "Кол-во коммуникаций по звонкам = 3047 (99.84%)\n",
      "Кол-во коммуникаций по SMS = 0 (0.00%)\n",
      "Кол-во коммуникаций по email = 5 (0.16%)\n",
      "\n",
      "--------------------------------------------------------------------\n",
      "\n",
      "Сегмент 4\n",
      "Бюджет = 597.93\n",
      "Ожидаемый доход = 2942.05\n",
      "Кол-во коммуникаций = 5065 (16.96%)\n",
      "Кол-во коммуникаций по звонкам = 161 (3.18%)\n",
      "Кол-во коммуникаций по SMS = 1 (0.02%)\n",
      "Кол-во коммуникаций по email = 4903 (96.80%)\n",
      "\n",
      "--------------------------------------------------------------------\n",
      "\n",
      "Сегмент 5\n",
      "Бюджет = 10210.49\n",
      "Ожидаемый доход = 17316.21\n",
      "Кол-во коммуникаций = 8538 (28.60%)\n",
      "Кол-во коммуникаций по звонкам = 2985 (34.96%)\n",
      "Кол-во коммуникаций по SMS = 4 (0.05%)\n",
      "Кол-во коммуникаций по email = 5549 (64.99%)\n",
      "\n",
      "--------------------------------------------------------------------\n",
      "\n",
      "Строится результирующий датафрейм...\n"
     ]
    },
    {
     "data": {
      "application/vnd.jupyter.widget-view+json": {
       "model_id": "6d795200bb3b4c3a8cd1186c6b08ec0c",
       "version_major": 2,
       "version_minor": 0
      },
      "text/plain": [
       "  0%|          | 0/29858 [00:00<?, ?it/s]"
      ]
     },
     "metadata": {},
     "output_type": "display_data"
    }
   ],
   "source": [
    "import pandas as pd\n",
    "import numpy as np\n",
    "from tqdm.notebook import tqdm\n",
    "import matplotlib.pyplot as plt\n",
    "import plotly.graph_objects as go\n",
    "\n",
    "pd.options.display.max_columns = 300\n",
    "pd.options.display.max_rows = 300\n",
    "\n",
    "df = pd.read_csv(DATA_PATH, index_col=[0])               # Загружаем данные по клиентам\n",
    "df = apply_restrictions(df)                              # Применяем ограничения\n",
    "df = df.sort_values(by=['real_score'], ascending=False)  # Сортируем по рейтингу\n",
    "\n",
    "res_df = None\n",
    "strategy = None\n",
    "\n",
    "if BUDGET is not None:\n",
    "    try:\n",
    "        check_percentages()\n",
    "        res_df, _ = strategy2(df)\n",
    "        strategy = 2\n",
    "    except AssertionError:\n",
    "        res_df, _ = strategy1(df)\n",
    "        strategy = 1\n",
    "else:\n",
    "    check_numbers()\n",
    "    res_df = strategy3(df)\n",
    "    strategy = 3\n",
    "\n",
    "res_df.to_csv(PATH_TO_RESULTS)  # Сохраняем результат"
   ]
  },
  {
   "cell_type": "code",
   "execution_count": 308,
   "metadata": {},
   "outputs": [
    {
     "name": "stdout",
     "output_type": "stream",
     "text": [
      "Построение графика...\n",
      "50000\n"
     ]
    },
    {
     "data": {
      "application/vnd.jupyter.widget-view+json": {
       "model_id": "c63ab3667e5245c7affe98893a8f2d18",
       "version_major": 2,
       "version_minor": 0
      },
      "text/plain": [
       "  0%|          | 0/51 [00:00<?, ?it/s]"
      ]
     },
     "metadata": {},
     "output_type": "display_data"
    },
    {
     "data": {
      "application/vnd.plotly.v1+json": {
       "config": {
        "plotlyServerURL": "https://plot.ly"
       },
       "data": [
        {
         "marker": {
          "color": [
           "blue",
           "blue",
           "blue",
           "blue",
           "blue",
           "blue",
           "blue",
           "blue",
           "blue",
           "blue",
           "blue",
           "blue",
           "blue",
           "blue",
           "blue",
           "blue",
           "blue",
           "blue",
           "blue",
           "blue",
           "blue",
           "blue",
           "blue",
           "blue",
           "red",
           "black",
           "blue",
           "blue",
           "blue",
           "blue",
           "blue",
           "blue",
           "blue",
           "blue",
           "blue",
           "blue",
           "blue",
           "blue",
           "blue",
           "blue",
           "blue",
           "blue",
           "blue",
           "blue",
           "blue",
           "blue",
           "blue",
           "blue",
           "blue",
           "blue",
           "blue"
          ],
          "size": 6
         },
         "mode": "lines+markers",
         "name": "lines",
         "type": "scatter",
         "x": [
          100,
          2138,
          4177,
          6216,
          8255,
          10293,
          12332,
          14371,
          16410,
          18448,
          20487,
          22526,
          24565,
          26604,
          28642,
          30681,
          32720,
          34759,
          36797,
          38836,
          40875,
          42914,
          44953,
          46991,
          49030,
          50000,
          51069,
          53108,
          55146,
          57185,
          59224,
          61263,
          63302,
          65340,
          67379,
          69418,
          71457,
          73495,
          75534,
          77573,
          79612,
          81651,
          83689,
          85728,
          87767,
          89806,
          91844,
          93883,
          95922,
          97961,
          100000
         ],
         "y": [
          13149.455738567352,
          45648.21488753333,
          67488.53740545722,
          87502.97906431388,
          103938.64397351138,
          119650.63489926394,
          133410.99971358557,
          147045.77112923205,
          158483.38231803186,
          167876.0693562802,
          175346.63050640206,
          180638.6967024247,
          184226.61497811315,
          186781.41779205954,
          188762.9992893419,
          190209.4136437482,
          191369.69031763097,
          192373.22180626637,
          193217.93209400921,
          193876.02616038668,
          194408.3815476116,
          194827.47066418917,
          195152.43594038923,
          195375.0128793718,
          195418.7400628132,
          195411.66074194486,
          195407.8586663536,
          195383.32516580645,
          195269.873243514,
          195016.42539090733,
          194704.945652672,
          194277.33193229508,
          193756.15971666083,
          193081.49338860868,
          192242.47039529213,
          191302.78245374773,
          190556.98865878995,
          190705.80020769453,
          190653.93720254558,
          190512.38605851936,
          190094.780567486,
          189471.18131294922,
          188671.6337681294,
          187782.42796505167,
          186804.4684480488,
          188123.1388372694,
          189663.11648907256,
          190726.940960426,
          191368.613991417,
          191492.89631809853,
          190992.2765762423
         ]
        }
       ],
       "layout": {
        "height": 600,
        "template": {
         "data": {
          "bar": [
           {
            "error_x": {
             "color": "#2a3f5f"
            },
            "error_y": {
             "color": "#2a3f5f"
            },
            "marker": {
             "line": {
              "color": "#E5ECF6",
              "width": 0.5
             }
            },
            "type": "bar"
           }
          ],
          "barpolar": [
           {
            "marker": {
             "line": {
              "color": "#E5ECF6",
              "width": 0.5
             }
            },
            "type": "barpolar"
           }
          ],
          "carpet": [
           {
            "aaxis": {
             "endlinecolor": "#2a3f5f",
             "gridcolor": "white",
             "linecolor": "white",
             "minorgridcolor": "white",
             "startlinecolor": "#2a3f5f"
            },
            "baxis": {
             "endlinecolor": "#2a3f5f",
             "gridcolor": "white",
             "linecolor": "white",
             "minorgridcolor": "white",
             "startlinecolor": "#2a3f5f"
            },
            "type": "carpet"
           }
          ],
          "choropleth": [
           {
            "colorbar": {
             "outlinewidth": 0,
             "ticks": ""
            },
            "type": "choropleth"
           }
          ],
          "contour": [
           {
            "colorbar": {
             "outlinewidth": 0,
             "ticks": ""
            },
            "colorscale": [
             [
              0,
              "#0d0887"
             ],
             [
              0.1111111111111111,
              "#46039f"
             ],
             [
              0.2222222222222222,
              "#7201a8"
             ],
             [
              0.3333333333333333,
              "#9c179e"
             ],
             [
              0.4444444444444444,
              "#bd3786"
             ],
             [
              0.5555555555555556,
              "#d8576b"
             ],
             [
              0.6666666666666666,
              "#ed7953"
             ],
             [
              0.7777777777777778,
              "#fb9f3a"
             ],
             [
              0.8888888888888888,
              "#fdca26"
             ],
             [
              1,
              "#f0f921"
             ]
            ],
            "type": "contour"
           }
          ],
          "contourcarpet": [
           {
            "colorbar": {
             "outlinewidth": 0,
             "ticks": ""
            },
            "type": "contourcarpet"
           }
          ],
          "heatmap": [
           {
            "colorbar": {
             "outlinewidth": 0,
             "ticks": ""
            },
            "colorscale": [
             [
              0,
              "#0d0887"
             ],
             [
              0.1111111111111111,
              "#46039f"
             ],
             [
              0.2222222222222222,
              "#7201a8"
             ],
             [
              0.3333333333333333,
              "#9c179e"
             ],
             [
              0.4444444444444444,
              "#bd3786"
             ],
             [
              0.5555555555555556,
              "#d8576b"
             ],
             [
              0.6666666666666666,
              "#ed7953"
             ],
             [
              0.7777777777777778,
              "#fb9f3a"
             ],
             [
              0.8888888888888888,
              "#fdca26"
             ],
             [
              1,
              "#f0f921"
             ]
            ],
            "type": "heatmap"
           }
          ],
          "heatmapgl": [
           {
            "colorbar": {
             "outlinewidth": 0,
             "ticks": ""
            },
            "colorscale": [
             [
              0,
              "#0d0887"
             ],
             [
              0.1111111111111111,
              "#46039f"
             ],
             [
              0.2222222222222222,
              "#7201a8"
             ],
             [
              0.3333333333333333,
              "#9c179e"
             ],
             [
              0.4444444444444444,
              "#bd3786"
             ],
             [
              0.5555555555555556,
              "#d8576b"
             ],
             [
              0.6666666666666666,
              "#ed7953"
             ],
             [
              0.7777777777777778,
              "#fb9f3a"
             ],
             [
              0.8888888888888888,
              "#fdca26"
             ],
             [
              1,
              "#f0f921"
             ]
            ],
            "type": "heatmapgl"
           }
          ],
          "histogram": [
           {
            "marker": {
             "colorbar": {
              "outlinewidth": 0,
              "ticks": ""
             }
            },
            "type": "histogram"
           }
          ],
          "histogram2d": [
           {
            "colorbar": {
             "outlinewidth": 0,
             "ticks": ""
            },
            "colorscale": [
             [
              0,
              "#0d0887"
             ],
             [
              0.1111111111111111,
              "#46039f"
             ],
             [
              0.2222222222222222,
              "#7201a8"
             ],
             [
              0.3333333333333333,
              "#9c179e"
             ],
             [
              0.4444444444444444,
              "#bd3786"
             ],
             [
              0.5555555555555556,
              "#d8576b"
             ],
             [
              0.6666666666666666,
              "#ed7953"
             ],
             [
              0.7777777777777778,
              "#fb9f3a"
             ],
             [
              0.8888888888888888,
              "#fdca26"
             ],
             [
              1,
              "#f0f921"
             ]
            ],
            "type": "histogram2d"
           }
          ],
          "histogram2dcontour": [
           {
            "colorbar": {
             "outlinewidth": 0,
             "ticks": ""
            },
            "colorscale": [
             [
              0,
              "#0d0887"
             ],
             [
              0.1111111111111111,
              "#46039f"
             ],
             [
              0.2222222222222222,
              "#7201a8"
             ],
             [
              0.3333333333333333,
              "#9c179e"
             ],
             [
              0.4444444444444444,
              "#bd3786"
             ],
             [
              0.5555555555555556,
              "#d8576b"
             ],
             [
              0.6666666666666666,
              "#ed7953"
             ],
             [
              0.7777777777777778,
              "#fb9f3a"
             ],
             [
              0.8888888888888888,
              "#fdca26"
             ],
             [
              1,
              "#f0f921"
             ]
            ],
            "type": "histogram2dcontour"
           }
          ],
          "mesh3d": [
           {
            "colorbar": {
             "outlinewidth": 0,
             "ticks": ""
            },
            "type": "mesh3d"
           }
          ],
          "parcoords": [
           {
            "line": {
             "colorbar": {
              "outlinewidth": 0,
              "ticks": ""
             }
            },
            "type": "parcoords"
           }
          ],
          "pie": [
           {
            "automargin": true,
            "type": "pie"
           }
          ],
          "scatter": [
           {
            "marker": {
             "colorbar": {
              "outlinewidth": 0,
              "ticks": ""
             }
            },
            "type": "scatter"
           }
          ],
          "scatter3d": [
           {
            "line": {
             "colorbar": {
              "outlinewidth": 0,
              "ticks": ""
             }
            },
            "marker": {
             "colorbar": {
              "outlinewidth": 0,
              "ticks": ""
             }
            },
            "type": "scatter3d"
           }
          ],
          "scattercarpet": [
           {
            "marker": {
             "colorbar": {
              "outlinewidth": 0,
              "ticks": ""
             }
            },
            "type": "scattercarpet"
           }
          ],
          "scattergeo": [
           {
            "marker": {
             "colorbar": {
              "outlinewidth": 0,
              "ticks": ""
             }
            },
            "type": "scattergeo"
           }
          ],
          "scattergl": [
           {
            "marker": {
             "colorbar": {
              "outlinewidth": 0,
              "ticks": ""
             }
            },
            "type": "scattergl"
           }
          ],
          "scattermapbox": [
           {
            "marker": {
             "colorbar": {
              "outlinewidth": 0,
              "ticks": ""
             }
            },
            "type": "scattermapbox"
           }
          ],
          "scatterpolar": [
           {
            "marker": {
             "colorbar": {
              "outlinewidth": 0,
              "ticks": ""
             }
            },
            "type": "scatterpolar"
           }
          ],
          "scatterpolargl": [
           {
            "marker": {
             "colorbar": {
              "outlinewidth": 0,
              "ticks": ""
             }
            },
            "type": "scatterpolargl"
           }
          ],
          "scatterternary": [
           {
            "marker": {
             "colorbar": {
              "outlinewidth": 0,
              "ticks": ""
             }
            },
            "type": "scatterternary"
           }
          ],
          "surface": [
           {
            "colorbar": {
             "outlinewidth": 0,
             "ticks": ""
            },
            "colorscale": [
             [
              0,
              "#0d0887"
             ],
             [
              0.1111111111111111,
              "#46039f"
             ],
             [
              0.2222222222222222,
              "#7201a8"
             ],
             [
              0.3333333333333333,
              "#9c179e"
             ],
             [
              0.4444444444444444,
              "#bd3786"
             ],
             [
              0.5555555555555556,
              "#d8576b"
             ],
             [
              0.6666666666666666,
              "#ed7953"
             ],
             [
              0.7777777777777778,
              "#fb9f3a"
             ],
             [
              0.8888888888888888,
              "#fdca26"
             ],
             [
              1,
              "#f0f921"
             ]
            ],
            "type": "surface"
           }
          ],
          "table": [
           {
            "cells": {
             "fill": {
              "color": "#EBF0F8"
             },
             "line": {
              "color": "white"
             }
            },
            "header": {
             "fill": {
              "color": "#C8D4E3"
             },
             "line": {
              "color": "white"
             }
            },
            "type": "table"
           }
          ]
         },
         "layout": {
          "annotationdefaults": {
           "arrowcolor": "#2a3f5f",
           "arrowhead": 0,
           "arrowwidth": 1
          },
          "coloraxis": {
           "colorbar": {
            "outlinewidth": 0,
            "ticks": ""
           }
          },
          "colorscale": {
           "diverging": [
            [
             0,
             "#8e0152"
            ],
            [
             0.1,
             "#c51b7d"
            ],
            [
             0.2,
             "#de77ae"
            ],
            [
             0.3,
             "#f1b6da"
            ],
            [
             0.4,
             "#fde0ef"
            ],
            [
             0.5,
             "#f7f7f7"
            ],
            [
             0.6,
             "#e6f5d0"
            ],
            [
             0.7,
             "#b8e186"
            ],
            [
             0.8,
             "#7fbc41"
            ],
            [
             0.9,
             "#4d9221"
            ],
            [
             1,
             "#276419"
            ]
           ],
           "sequential": [
            [
             0,
             "#0d0887"
            ],
            [
             0.1111111111111111,
             "#46039f"
            ],
            [
             0.2222222222222222,
             "#7201a8"
            ],
            [
             0.3333333333333333,
             "#9c179e"
            ],
            [
             0.4444444444444444,
             "#bd3786"
            ],
            [
             0.5555555555555556,
             "#d8576b"
            ],
            [
             0.6666666666666666,
             "#ed7953"
            ],
            [
             0.7777777777777778,
             "#fb9f3a"
            ],
            [
             0.8888888888888888,
             "#fdca26"
            ],
            [
             1,
             "#f0f921"
            ]
           ],
           "sequentialminus": [
            [
             0,
             "#0d0887"
            ],
            [
             0.1111111111111111,
             "#46039f"
            ],
            [
             0.2222222222222222,
             "#7201a8"
            ],
            [
             0.3333333333333333,
             "#9c179e"
            ],
            [
             0.4444444444444444,
             "#bd3786"
            ],
            [
             0.5555555555555556,
             "#d8576b"
            ],
            [
             0.6666666666666666,
             "#ed7953"
            ],
            [
             0.7777777777777778,
             "#fb9f3a"
            ],
            [
             0.8888888888888888,
             "#fdca26"
            ],
            [
             1,
             "#f0f921"
            ]
           ]
          },
          "colorway": [
           "#636efa",
           "#EF553B",
           "#00cc96",
           "#ab63fa",
           "#FFA15A",
           "#19d3f3",
           "#FF6692",
           "#B6E880",
           "#FF97FF",
           "#FECB52"
          ],
          "font": {
           "color": "#2a3f5f"
          },
          "geo": {
           "bgcolor": "white",
           "lakecolor": "white",
           "landcolor": "#E5ECF6",
           "showlakes": true,
           "showland": true,
           "subunitcolor": "white"
          },
          "hoverlabel": {
           "align": "left"
          },
          "hovermode": "closest",
          "mapbox": {
           "style": "light"
          },
          "paper_bgcolor": "white",
          "plot_bgcolor": "#E5ECF6",
          "polar": {
           "angularaxis": {
            "gridcolor": "white",
            "linecolor": "white",
            "ticks": ""
           },
           "bgcolor": "#E5ECF6",
           "radialaxis": {
            "gridcolor": "white",
            "linecolor": "white",
            "ticks": ""
           }
          },
          "scene": {
           "xaxis": {
            "backgroundcolor": "#E5ECF6",
            "gridcolor": "white",
            "gridwidth": 2,
            "linecolor": "white",
            "showbackground": true,
            "ticks": "",
            "zerolinecolor": "white"
           },
           "yaxis": {
            "backgroundcolor": "#E5ECF6",
            "gridcolor": "white",
            "gridwidth": 2,
            "linecolor": "white",
            "showbackground": true,
            "ticks": "",
            "zerolinecolor": "white"
           },
           "zaxis": {
            "backgroundcolor": "#E5ECF6",
            "gridcolor": "white",
            "gridwidth": 2,
            "linecolor": "white",
            "showbackground": true,
            "ticks": "",
            "zerolinecolor": "white"
           }
          },
          "shapedefaults": {
           "line": {
            "color": "#2a3f5f"
           }
          },
          "ternary": {
           "aaxis": {
            "gridcolor": "white",
            "linecolor": "white",
            "ticks": ""
           },
           "baxis": {
            "gridcolor": "white",
            "linecolor": "white",
            "ticks": ""
           },
           "bgcolor": "#E5ECF6",
           "caxis": {
            "gridcolor": "white",
            "linecolor": "white",
            "ticks": ""
           }
          },
          "title": {
           "x": 0.05
          },
          "xaxis": {
           "automargin": true,
           "gridcolor": "white",
           "linecolor": "white",
           "ticks": "",
           "title": {
            "standoff": 15
           },
           "zerolinecolor": "white",
           "zerolinewidth": 2
          },
          "yaxis": {
           "automargin": true,
           "gridcolor": "white",
           "linecolor": "white",
           "ticks": "",
           "title": {
            "standoff": 15
           },
           "zerolinecolor": "white",
           "zerolinewidth": 2
          }
         }
        },
        "title": {
         "text": "Зависимость ожидаемой прибыли от бюджета"
        },
        "width": 1000,
        "xaxis": {
         "title": {
          "text": "Бюджет"
         }
        },
        "yaxis": {
         "title": {
          "text": "Прибыль"
         }
        }
       }
      },
      "text/html": [
       "<div>                            <div id=\"12e83141-694f-4333-967c-dec660b39a13\" class=\"plotly-graph-div\" style=\"height:600px; width:1000px;\"></div>            <script type=\"text/javascript\">                require([\"plotly\"], function(Plotly) {                    window.PLOTLYENV=window.PLOTLYENV || {};                                    if (document.getElementById(\"12e83141-694f-4333-967c-dec660b39a13\")) {                    Plotly.newPlot(                        \"12e83141-694f-4333-967c-dec660b39a13\",                        [{\"marker\": {\"color\": [\"blue\", \"blue\", \"blue\", \"blue\", \"blue\", \"blue\", \"blue\", \"blue\", \"blue\", \"blue\", \"blue\", \"blue\", \"blue\", \"blue\", \"blue\", \"blue\", \"blue\", \"blue\", \"blue\", \"blue\", \"blue\", \"blue\", \"blue\", \"blue\", \"red\", \"black\", \"blue\", \"blue\", \"blue\", \"blue\", \"blue\", \"blue\", \"blue\", \"blue\", \"blue\", \"blue\", \"blue\", \"blue\", \"blue\", \"blue\", \"blue\", \"blue\", \"blue\", \"blue\", \"blue\", \"blue\", \"blue\", \"blue\", \"blue\", \"blue\", \"blue\"], \"size\": 6}, \"mode\": \"lines+markers\", \"name\": \"lines\", \"type\": \"scatter\", \"x\": [100, 2138, 4177, 6216, 8255, 10293, 12332, 14371, 16410, 18448, 20487, 22526, 24565, 26604, 28642, 30681, 32720, 34759, 36797, 38836, 40875, 42914, 44953, 46991, 49030, 50000, 51069, 53108, 55146, 57185, 59224, 61263, 63302, 65340, 67379, 69418, 71457, 73495, 75534, 77573, 79612, 81651, 83689, 85728, 87767, 89806, 91844, 93883, 95922, 97961, 100000], \"y\": [13149.455738567352, 45648.21488753333, 67488.53740545722, 87502.97906431388, 103938.64397351138, 119650.63489926394, 133410.99971358557, 147045.77112923205, 158483.38231803186, 167876.0693562802, 175346.63050640206, 180638.6967024247, 184226.61497811315, 186781.41779205954, 188762.9992893419, 190209.4136437482, 191369.69031763097, 192373.22180626637, 193217.93209400921, 193876.02616038668, 194408.3815476116, 194827.47066418917, 195152.43594038923, 195375.0128793718, 195418.7400628132, 195411.66074194486, 195407.8586663536, 195383.32516580645, 195269.873243514, 195016.42539090733, 194704.945652672, 194277.33193229508, 193756.15971666083, 193081.49338860868, 192242.47039529213, 191302.78245374773, 190556.98865878995, 190705.80020769453, 190653.93720254558, 190512.38605851936, 190094.780567486, 189471.18131294922, 188671.6337681294, 187782.42796505167, 186804.4684480488, 188123.1388372694, 189663.11648907256, 190726.940960426, 191368.613991417, 191492.89631809853, 190992.2765762423]}],                        {\"height\": 600, \"template\": {\"data\": {\"bar\": [{\"error_x\": {\"color\": \"#2a3f5f\"}, \"error_y\": {\"color\": \"#2a3f5f\"}, \"marker\": {\"line\": {\"color\": \"#E5ECF6\", \"width\": 0.5}}, \"type\": \"bar\"}], \"barpolar\": [{\"marker\": {\"line\": {\"color\": \"#E5ECF6\", \"width\": 0.5}}, \"type\": \"barpolar\"}], \"carpet\": [{\"aaxis\": {\"endlinecolor\": \"#2a3f5f\", \"gridcolor\": \"white\", \"linecolor\": \"white\", \"minorgridcolor\": \"white\", \"startlinecolor\": \"#2a3f5f\"}, \"baxis\": {\"endlinecolor\": \"#2a3f5f\", \"gridcolor\": \"white\", \"linecolor\": \"white\", \"minorgridcolor\": \"white\", \"startlinecolor\": \"#2a3f5f\"}, \"type\": \"carpet\"}], \"choropleth\": [{\"colorbar\": {\"outlinewidth\": 0, \"ticks\": \"\"}, \"type\": \"choropleth\"}], \"contour\": [{\"colorbar\": {\"outlinewidth\": 0, \"ticks\": \"\"}, \"colorscale\": [[0.0, \"#0d0887\"], [0.1111111111111111, \"#46039f\"], [0.2222222222222222, \"#7201a8\"], [0.3333333333333333, \"#9c179e\"], [0.4444444444444444, \"#bd3786\"], [0.5555555555555556, \"#d8576b\"], [0.6666666666666666, \"#ed7953\"], [0.7777777777777778, \"#fb9f3a\"], [0.8888888888888888, \"#fdca26\"], [1.0, \"#f0f921\"]], \"type\": \"contour\"}], \"contourcarpet\": [{\"colorbar\": {\"outlinewidth\": 0, \"ticks\": \"\"}, \"type\": \"contourcarpet\"}], \"heatmap\": [{\"colorbar\": {\"outlinewidth\": 0, \"ticks\": \"\"}, \"colorscale\": [[0.0, \"#0d0887\"], [0.1111111111111111, \"#46039f\"], [0.2222222222222222, \"#7201a8\"], [0.3333333333333333, \"#9c179e\"], [0.4444444444444444, \"#bd3786\"], [0.5555555555555556, \"#d8576b\"], [0.6666666666666666, \"#ed7953\"], [0.7777777777777778, \"#fb9f3a\"], [0.8888888888888888, \"#fdca26\"], [1.0, \"#f0f921\"]], \"type\": \"heatmap\"}], \"heatmapgl\": [{\"colorbar\": {\"outlinewidth\": 0, \"ticks\": \"\"}, \"colorscale\": [[0.0, \"#0d0887\"], [0.1111111111111111, \"#46039f\"], [0.2222222222222222, \"#7201a8\"], [0.3333333333333333, \"#9c179e\"], [0.4444444444444444, \"#bd3786\"], [0.5555555555555556, \"#d8576b\"], [0.6666666666666666, \"#ed7953\"], [0.7777777777777778, \"#fb9f3a\"], [0.8888888888888888, \"#fdca26\"], [1.0, \"#f0f921\"]], \"type\": \"heatmapgl\"}], \"histogram\": [{\"marker\": {\"colorbar\": {\"outlinewidth\": 0, \"ticks\": \"\"}}, \"type\": \"histogram\"}], \"histogram2d\": [{\"colorbar\": {\"outlinewidth\": 0, \"ticks\": \"\"}, \"colorscale\": [[0.0, \"#0d0887\"], [0.1111111111111111, \"#46039f\"], [0.2222222222222222, \"#7201a8\"], [0.3333333333333333, \"#9c179e\"], [0.4444444444444444, \"#bd3786\"], [0.5555555555555556, \"#d8576b\"], [0.6666666666666666, \"#ed7953\"], [0.7777777777777778, \"#fb9f3a\"], [0.8888888888888888, \"#fdca26\"], [1.0, \"#f0f921\"]], \"type\": \"histogram2d\"}], \"histogram2dcontour\": [{\"colorbar\": {\"outlinewidth\": 0, \"ticks\": \"\"}, \"colorscale\": [[0.0, \"#0d0887\"], [0.1111111111111111, \"#46039f\"], [0.2222222222222222, \"#7201a8\"], [0.3333333333333333, \"#9c179e\"], [0.4444444444444444, \"#bd3786\"], [0.5555555555555556, \"#d8576b\"], [0.6666666666666666, \"#ed7953\"], [0.7777777777777778, \"#fb9f3a\"], [0.8888888888888888, \"#fdca26\"], [1.0, \"#f0f921\"]], \"type\": \"histogram2dcontour\"}], \"mesh3d\": [{\"colorbar\": {\"outlinewidth\": 0, \"ticks\": \"\"}, \"type\": \"mesh3d\"}], \"parcoords\": [{\"line\": {\"colorbar\": {\"outlinewidth\": 0, \"ticks\": \"\"}}, \"type\": \"parcoords\"}], \"pie\": [{\"automargin\": true, \"type\": \"pie\"}], \"scatter\": [{\"marker\": {\"colorbar\": {\"outlinewidth\": 0, \"ticks\": \"\"}}, \"type\": \"scatter\"}], \"scatter3d\": [{\"line\": {\"colorbar\": {\"outlinewidth\": 0, \"ticks\": \"\"}}, \"marker\": {\"colorbar\": {\"outlinewidth\": 0, \"ticks\": \"\"}}, \"type\": \"scatter3d\"}], \"scattercarpet\": [{\"marker\": {\"colorbar\": {\"outlinewidth\": 0, \"ticks\": \"\"}}, \"type\": \"scattercarpet\"}], \"scattergeo\": [{\"marker\": {\"colorbar\": {\"outlinewidth\": 0, \"ticks\": \"\"}}, \"type\": \"scattergeo\"}], \"scattergl\": [{\"marker\": {\"colorbar\": {\"outlinewidth\": 0, \"ticks\": \"\"}}, \"type\": \"scattergl\"}], \"scattermapbox\": [{\"marker\": {\"colorbar\": {\"outlinewidth\": 0, \"ticks\": \"\"}}, \"type\": \"scattermapbox\"}], \"scatterpolar\": [{\"marker\": {\"colorbar\": {\"outlinewidth\": 0, \"ticks\": \"\"}}, \"type\": \"scatterpolar\"}], \"scatterpolargl\": [{\"marker\": {\"colorbar\": {\"outlinewidth\": 0, \"ticks\": \"\"}}, \"type\": \"scatterpolargl\"}], \"scatterternary\": [{\"marker\": {\"colorbar\": {\"outlinewidth\": 0, \"ticks\": \"\"}}, \"type\": \"scatterternary\"}], \"surface\": [{\"colorbar\": {\"outlinewidth\": 0, \"ticks\": \"\"}, \"colorscale\": [[0.0, \"#0d0887\"], [0.1111111111111111, \"#46039f\"], [0.2222222222222222, \"#7201a8\"], [0.3333333333333333, \"#9c179e\"], [0.4444444444444444, \"#bd3786\"], [0.5555555555555556, \"#d8576b\"], [0.6666666666666666, \"#ed7953\"], [0.7777777777777778, \"#fb9f3a\"], [0.8888888888888888, \"#fdca26\"], [1.0, \"#f0f921\"]], \"type\": \"surface\"}], \"table\": [{\"cells\": {\"fill\": {\"color\": \"#EBF0F8\"}, \"line\": {\"color\": \"white\"}}, \"header\": {\"fill\": {\"color\": \"#C8D4E3\"}, \"line\": {\"color\": \"white\"}}, \"type\": \"table\"}]}, \"layout\": {\"annotationdefaults\": {\"arrowcolor\": \"#2a3f5f\", \"arrowhead\": 0, \"arrowwidth\": 1}, \"coloraxis\": {\"colorbar\": {\"outlinewidth\": 0, \"ticks\": \"\"}}, \"colorscale\": {\"diverging\": [[0, \"#8e0152\"], [0.1, \"#c51b7d\"], [0.2, \"#de77ae\"], [0.3, \"#f1b6da\"], [0.4, \"#fde0ef\"], [0.5, \"#f7f7f7\"], [0.6, \"#e6f5d0\"], [0.7, \"#b8e186\"], [0.8, \"#7fbc41\"], [0.9, \"#4d9221\"], [1, \"#276419\"]], \"sequential\": [[0.0, \"#0d0887\"], [0.1111111111111111, \"#46039f\"], [0.2222222222222222, \"#7201a8\"], [0.3333333333333333, \"#9c179e\"], [0.4444444444444444, \"#bd3786\"], [0.5555555555555556, \"#d8576b\"], [0.6666666666666666, \"#ed7953\"], [0.7777777777777778, \"#fb9f3a\"], [0.8888888888888888, \"#fdca26\"], [1.0, \"#f0f921\"]], \"sequentialminus\": [[0.0, \"#0d0887\"], [0.1111111111111111, \"#46039f\"], [0.2222222222222222, \"#7201a8\"], [0.3333333333333333, \"#9c179e\"], [0.4444444444444444, \"#bd3786\"], [0.5555555555555556, \"#d8576b\"], [0.6666666666666666, \"#ed7953\"], [0.7777777777777778, \"#fb9f3a\"], [0.8888888888888888, \"#fdca26\"], [1.0, \"#f0f921\"]]}, \"colorway\": [\"#636efa\", \"#EF553B\", \"#00cc96\", \"#ab63fa\", \"#FFA15A\", \"#19d3f3\", \"#FF6692\", \"#B6E880\", \"#FF97FF\", \"#FECB52\"], \"font\": {\"color\": \"#2a3f5f\"}, \"geo\": {\"bgcolor\": \"white\", \"lakecolor\": \"white\", \"landcolor\": \"#E5ECF6\", \"showlakes\": true, \"showland\": true, \"subunitcolor\": \"white\"}, \"hoverlabel\": {\"align\": \"left\"}, \"hovermode\": \"closest\", \"mapbox\": {\"style\": \"light\"}, \"paper_bgcolor\": \"white\", \"plot_bgcolor\": \"#E5ECF6\", \"polar\": {\"angularaxis\": {\"gridcolor\": \"white\", \"linecolor\": \"white\", \"ticks\": \"\"}, \"bgcolor\": \"#E5ECF6\", \"radialaxis\": {\"gridcolor\": \"white\", \"linecolor\": \"white\", \"ticks\": \"\"}}, \"scene\": {\"xaxis\": {\"backgroundcolor\": \"#E5ECF6\", \"gridcolor\": \"white\", \"gridwidth\": 2, \"linecolor\": \"white\", \"showbackground\": true, \"ticks\": \"\", \"zerolinecolor\": \"white\"}, \"yaxis\": {\"backgroundcolor\": \"#E5ECF6\", \"gridcolor\": \"white\", \"gridwidth\": 2, \"linecolor\": \"white\", \"showbackground\": true, \"ticks\": \"\", \"zerolinecolor\": \"white\"}, \"zaxis\": {\"backgroundcolor\": \"#E5ECF6\", \"gridcolor\": \"white\", \"gridwidth\": 2, \"linecolor\": \"white\", \"showbackground\": true, \"ticks\": \"\", \"zerolinecolor\": \"white\"}}, \"shapedefaults\": {\"line\": {\"color\": \"#2a3f5f\"}}, \"ternary\": {\"aaxis\": {\"gridcolor\": \"white\", \"linecolor\": \"white\", \"ticks\": \"\"}, \"baxis\": {\"gridcolor\": \"white\", \"linecolor\": \"white\", \"ticks\": \"\"}, \"bgcolor\": \"#E5ECF6\", \"caxis\": {\"gridcolor\": \"white\", \"linecolor\": \"white\", \"ticks\": \"\"}}, \"title\": {\"x\": 0.05}, \"xaxis\": {\"automargin\": true, \"gridcolor\": \"white\", \"linecolor\": \"white\", \"ticks\": \"\", \"title\": {\"standoff\": 15}, \"zerolinecolor\": \"white\", \"zerolinewidth\": 2}, \"yaxis\": {\"automargin\": true, \"gridcolor\": \"white\", \"linecolor\": \"white\", \"ticks\": \"\", \"title\": {\"standoff\": 15}, \"zerolinecolor\": \"white\", \"zerolinewidth\": 2}}}, \"title\": {\"text\": \"\\u0417\\u0430\\u0432\\u0438\\u0441\\u0438\\u043c\\u043e\\u0441\\u0442\\u044c \\u043e\\u0436\\u0438\\u0434\\u0430\\u0435\\u043c\\u043e\\u0439 \\u043f\\u0440\\u0438\\u0431\\u044b\\u043b\\u0438 \\u043e\\u0442 \\u0431\\u044e\\u0434\\u0436\\u0435\\u0442\\u0430\"}, \"width\": 1000, \"xaxis\": {\"title\": {\"text\": \"\\u0411\\u044e\\u0434\\u0436\\u0435\\u0442\"}}, \"yaxis\": {\"title\": {\"text\": \"\\u041f\\u0440\\u0438\\u0431\\u044b\\u043b\\u044c\"}}},                        {\"responsive\": true}                    ).then(function(){\n",
       "                            \n",
       "var gd = document.getElementById('12e83141-694f-4333-967c-dec660b39a13');\n",
       "var x = new MutationObserver(function (mutations, observer) {{\n",
       "        var display = window.getComputedStyle(gd).display;\n",
       "        if (!display || display === 'none') {{\n",
       "            console.log([gd, 'removed!']);\n",
       "            Plotly.purge(gd);\n",
       "            observer.disconnect();\n",
       "        }}\n",
       "}});\n",
       "\n",
       "// Listen for the removal of the full notebook cells\n",
       "var notebookContainer = gd.closest('#notebook-container');\n",
       "if (notebookContainer) {{\n",
       "    x.observe(notebookContainer, {childList: true});\n",
       "}}\n",
       "\n",
       "// Listen for the clearing of the current output cell\n",
       "var outputEl = gd.closest('.output');\n",
       "if (outputEl) {{\n",
       "    x.observe(outputEl, {childList: true});\n",
       "}}\n",
       "\n",
       "                        })                };                });            </script>        </div>"
      ]
     },
     "metadata": {},
     "output_type": "display_data"
    }
   ],
   "source": [
    "### Запустите ячейку после получения результата для визуализации\n",
    "### Красным цветом выделена точка, соответствующая текущему бюджету\n",
    "### Желтым цветом выделена точка, соответствующая наилучшему возможному значению\n",
    "\n",
    "build_plot(df, strategy) "
   ]
  }
 ],
 "metadata": {
  "kernelspec": {
   "display_name": "Python 3",
   "language": "python",
   "name": "python3"
  },
  "language_info": {
   "codemirror_mode": {
    "name": "ipython",
    "version": 3
   },
   "file_extension": ".py",
   "mimetype": "text/x-python",
   "name": "python",
   "nbconvert_exporter": "python",
   "pygments_lexer": "ipython3",
   "version": "3.7.6"
  }
 },
 "nbformat": 4,
 "nbformat_minor": 4
}
