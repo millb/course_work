{
 "cells": [
  {
   "cell_type": "code",
   "execution_count": 19,
   "metadata": {},
   "outputs": [],
   "source": [
    "import pandas as pd\n",
    "import numpy as np\n",
    "\n",
    "from matplotlib import pyplot as plt\n",
    "\n",
    "from sklearn.metrics import accuracy_score\n",
    "from sklearn.metrics import roc_curve, roc_auc_score"
   ]
  },
  {
   "cell_type": "markdown",
   "metadata": {},
   "source": [
    "## Построение обучающей выборки"
   ]
  },
  {
   "cell_type": "code",
   "execution_count": 262,
   "metadata": {},
   "outputs": [],
   "source": [
    "b_all = pd.read_csv('./data/baskets_all.csv', engine='python')\n",
    "b3 = pd.read_csv('./data/baskets_3M.csv', engine='python')\n",
    "b1 = pd.read_csv('./data/baskets_1M.csv', engine='python')"
   ]
  },
  {
   "cell_type": "code",
   "execution_count": 265,
   "metadata": {},
   "outputs": [],
   "source": [
    "b_all.rename(columns={'Unnamed: 0': 'id'}, inplace=True)\n",
    "b3.rename(columns={'Unnamed: 0': 'id'}, inplace=True)\n",
    "b1.rename(columns={'Unnamed: 0': 'id'}, inplace=True)"
   ]
  },
  {
   "cell_type": "code",
   "execution_count": 266,
   "metadata": {},
   "outputs": [],
   "source": [
    "b_all.set_index('id', inplace=True)\n",
    "b3.set_index('id', inplace=True)\n",
    "b1.set_index('id', inplace=True)"
   ]
  },
  {
   "cell_type": "code",
   "execution_count": 5,
   "metadata": {},
   "outputs": [],
   "source": [
    "target = pd.DataFrame({'target': (b1['КоличествоЧеков'] > 0).astype(int)}, index=b1.index)"
   ]
  },
  {
   "cell_type": "code",
   "execution_count": 6,
   "metadata": {},
   "outputs": [
    {
     "data": {
      "text/html": [
       "<div>\n",
       "<style scoped>\n",
       "    .dataframe tbody tr th:only-of-type {\n",
       "        vertical-align: middle;\n",
       "    }\n",
       "\n",
       "    .dataframe tbody tr th {\n",
       "        vertical-align: top;\n",
       "    }\n",
       "\n",
       "    .dataframe thead th {\n",
       "        text-align: right;\n",
       "    }\n",
       "</style>\n",
       "<table border=\"1\" class=\"dataframe\">\n",
       "  <thead>\n",
       "    <tr style=\"text-align: right;\">\n",
       "      <th></th>\n",
       "      <th>КоличествоЧеков</th>\n",
       "      <th>КоличествоЧековВсе</th>\n",
       "      <th>СреднийЧек</th>\n",
       "      <th>СреднееЧислоТоваровЧека</th>\n",
       "      <th>СреднееЧислоТоваровЧекаВсе</th>\n",
       "      <th>Выручка</th>\n",
       "      <th>ВыручкаВся</th>\n",
       "      <th>КоличествоТоваров</th>\n",
       "      <th>КоличествоТоваровВсе</th>\n",
       "      <th>СредняяМаржа</th>\n",
       "      <th>...</th>\n",
       "      <th>SOUTHERN</th>\n",
       "      <th>CENTRAL</th>\n",
       "      <th>PRIVOLZIE</th>\n",
       "      <th>URAL</th>\n",
       "      <th>SIBERIA</th>\n",
       "      <th>FAR EAST</th>\n",
       "      <th>Безналичная</th>\n",
       "      <th>Наличная</th>\n",
       "      <th>Самовывоз</th>\n",
       "      <th>Курьер</th>\n",
       "    </tr>\n",
       "    <tr>\n",
       "      <th>id</th>\n",
       "      <th></th>\n",
       "      <th></th>\n",
       "      <th></th>\n",
       "      <th></th>\n",
       "      <th></th>\n",
       "      <th></th>\n",
       "      <th></th>\n",
       "      <th></th>\n",
       "      <th></th>\n",
       "      <th></th>\n",
       "      <th></th>\n",
       "      <th></th>\n",
       "      <th></th>\n",
       "      <th></th>\n",
       "      <th></th>\n",
       "      <th></th>\n",
       "      <th></th>\n",
       "      <th></th>\n",
       "      <th></th>\n",
       "      <th></th>\n",
       "      <th></th>\n",
       "    </tr>\n",
       "  </thead>\n",
       "  <tbody>\n",
       "    <tr>\n",
       "      <th>55574954-53565454575771</th>\n",
       "      <td>1.0</td>\n",
       "      <td>2.0</td>\n",
       "      <td>645.0</td>\n",
       "      <td>1.0</td>\n",
       "      <td>1.0</td>\n",
       "      <td>645.0</td>\n",
       "      <td>1495.0</td>\n",
       "      <td>1.0</td>\n",
       "      <td>2.0</td>\n",
       "      <td>272.66</td>\n",
       "      <td>...</td>\n",
       "      <td>0.0</td>\n",
       "      <td>1.0</td>\n",
       "      <td>0.0</td>\n",
       "      <td>0.0</td>\n",
       "      <td>0.0</td>\n",
       "      <td>0.0</td>\n",
       "      <td>1.0</td>\n",
       "      <td>0.0</td>\n",
       "      <td>1.0</td>\n",
       "      <td>0.0</td>\n",
       "    </tr>\n",
       "  </tbody>\n",
       "</table>\n",
       "<p>1 rows × 126 columns</p>\n",
       "</div>"
      ],
      "text/plain": [
       "                         КоличествоЧеков  КоличествоЧековВсе  СреднийЧек  \\\n",
       "id                                                                         \n",
       "55574954-53565454575771              1.0                 2.0       645.0   \n",
       "\n",
       "                         СреднееЧислоТоваровЧека  СреднееЧислоТоваровЧекаВсе  \\\n",
       "id                                                                             \n",
       "55574954-53565454575771                      1.0                         1.0   \n",
       "\n",
       "                         Выручка  ВыручкаВся  КоличествоТоваров  \\\n",
       "id                                                                \n",
       "55574954-53565454575771    645.0      1495.0                1.0   \n",
       "\n",
       "                         КоличествоТоваровВсе  СредняяМаржа  ...  SOUTHERN  \\\n",
       "id                                                           ...             \n",
       "55574954-53565454575771                   2.0        272.66  ...       0.0   \n",
       "\n",
       "                         CENTRAL  PRIVOLZIE  URAL  SIBERIA  FAR EAST  \\\n",
       "id                                                                     \n",
       "55574954-53565454575771      1.0        0.0   0.0      0.0       0.0   \n",
       "\n",
       "                         Безналичная  Наличная  Самовывоз  Курьер  \n",
       "id                                                                 \n",
       "55574954-53565454575771          1.0       0.0        1.0     0.0  \n",
       "\n",
       "[1 rows x 126 columns]"
      ]
     },
     "execution_count": 6,
     "metadata": {},
     "output_type": "execute_result"
    }
   ],
   "source": [
    "b3.sample(1)"
   ]
  },
  {
   "cell_type": "code",
   "execution_count": 7,
   "metadata": {},
   "outputs": [
    {
     "data": {
      "text/html": [
       "<div>\n",
       "<style scoped>\n",
       "    .dataframe tbody tr th:only-of-type {\n",
       "        vertical-align: middle;\n",
       "    }\n",
       "\n",
       "    .dataframe tbody tr th {\n",
       "        vertical-align: top;\n",
       "    }\n",
       "\n",
       "    .dataframe thead th {\n",
       "        text-align: right;\n",
       "    }\n",
       "</style>\n",
       "<table border=\"1\" class=\"dataframe\">\n",
       "  <thead>\n",
       "    <tr style=\"text-align: right;\">\n",
       "      <th></th>\n",
       "      <th>КоличествоЧеков</th>\n",
       "      <th>КоличествоЧековВсе</th>\n",
       "      <th>СреднийЧек</th>\n",
       "      <th>СреднееЧислоТоваровЧека</th>\n",
       "      <th>СреднееЧислоТоваровЧекаВсе</th>\n",
       "      <th>Выручка</th>\n",
       "      <th>ВыручкаВся</th>\n",
       "      <th>КоличествоТоваров</th>\n",
       "      <th>КоличествоТоваровВсе</th>\n",
       "      <th>СредняяМаржа</th>\n",
       "      <th>...</th>\n",
       "      <th>SOUTHERN</th>\n",
       "      <th>CENTRAL</th>\n",
       "      <th>PRIVOLZIE</th>\n",
       "      <th>URAL</th>\n",
       "      <th>SIBERIA</th>\n",
       "      <th>FAR EAST</th>\n",
       "      <th>Безналичная</th>\n",
       "      <th>Наличная</th>\n",
       "      <th>Самовывоз</th>\n",
       "      <th>Курьер</th>\n",
       "    </tr>\n",
       "    <tr>\n",
       "      <th>id</th>\n",
       "      <th></th>\n",
       "      <th></th>\n",
       "      <th></th>\n",
       "      <th></th>\n",
       "      <th></th>\n",
       "      <th></th>\n",
       "      <th></th>\n",
       "      <th></th>\n",
       "      <th></th>\n",
       "      <th></th>\n",
       "      <th></th>\n",
       "      <th></th>\n",
       "      <th></th>\n",
       "      <th></th>\n",
       "      <th></th>\n",
       "      <th></th>\n",
       "      <th></th>\n",
       "      <th></th>\n",
       "      <th></th>\n",
       "      <th></th>\n",
       "      <th></th>\n",
       "    </tr>\n",
       "  </thead>\n",
       "  <tbody>\n",
       "    <tr>\n",
       "      <th>55574948-52555053565775</th>\n",
       "      <td>1.0</td>\n",
       "      <td>1.0</td>\n",
       "      <td>3350.0</td>\n",
       "      <td>3.0</td>\n",
       "      <td>3.0</td>\n",
       "      <td>3350.0</td>\n",
       "      <td>3350.0</td>\n",
       "      <td>3.0</td>\n",
       "      <td>3.0</td>\n",
       "      <td>223.333333</td>\n",
       "      <td>...</td>\n",
       "      <td>0.0</td>\n",
       "      <td>1.0</td>\n",
       "      <td>0.0</td>\n",
       "      <td>0.0</td>\n",
       "      <td>0.0</td>\n",
       "      <td>0.0</td>\n",
       "      <td>1.0</td>\n",
       "      <td>0.0</td>\n",
       "      <td>1.0</td>\n",
       "      <td>0.0</td>\n",
       "    </tr>\n",
       "  </tbody>\n",
       "</table>\n",
       "<p>1 rows × 126 columns</p>\n",
       "</div>"
      ],
      "text/plain": [
       "                         КоличествоЧеков  КоличествоЧековВсе  СреднийЧек  \\\n",
       "id                                                                         \n",
       "55574948-52555053565775              1.0                 1.0      3350.0   \n",
       "\n",
       "                         СреднееЧислоТоваровЧека  СреднееЧислоТоваровЧекаВсе  \\\n",
       "id                                                                             \n",
       "55574948-52555053565775                      3.0                         3.0   \n",
       "\n",
       "                         Выручка  ВыручкаВся  КоличествоТоваров  \\\n",
       "id                                                                \n",
       "55574948-52555053565775   3350.0      3350.0                3.0   \n",
       "\n",
       "                         КоличествоТоваровВсе  СредняяМаржа  ...  SOUTHERN  \\\n",
       "id                                                           ...             \n",
       "55574948-52555053565775                   3.0    223.333333  ...       0.0   \n",
       "\n",
       "                         CENTRAL  PRIVOLZIE  URAL  SIBERIA  FAR EAST  \\\n",
       "id                                                                     \n",
       "55574948-52555053565775      1.0        0.0   0.0      0.0       0.0   \n",
       "\n",
       "                         Безналичная  Наличная  Самовывоз  Курьер  \n",
       "id                                                                 \n",
       "55574948-52555053565775          1.0       0.0        1.0     0.0  \n",
       "\n",
       "[1 rows x 126 columns]"
      ]
     },
     "execution_count": 7,
     "metadata": {},
     "output_type": "execute_result"
    }
   ],
   "source": [
    "b1.sample(1)"
   ]
  },
  {
   "cell_type": "code",
   "execution_count": 8,
   "metadata": {},
   "outputs": [
    {
     "data": {
      "text/html": [
       "<div>\n",
       "<style scoped>\n",
       "    .dataframe tbody tr th:only-of-type {\n",
       "        vertical-align: middle;\n",
       "    }\n",
       "\n",
       "    .dataframe tbody tr th {\n",
       "        vertical-align: top;\n",
       "    }\n",
       "\n",
       "    .dataframe thead th {\n",
       "        text-align: right;\n",
       "    }\n",
       "</style>\n",
       "<table border=\"1\" class=\"dataframe\">\n",
       "  <thead>\n",
       "    <tr style=\"text-align: right;\">\n",
       "      <th></th>\n",
       "      <th>target</th>\n",
       "    </tr>\n",
       "    <tr>\n",
       "      <th>id</th>\n",
       "      <th></th>\n",
       "    </tr>\n",
       "  </thead>\n",
       "  <tbody>\n",
       "    <tr>\n",
       "      <th>55575351-52495756485173</th>\n",
       "      <td>1</td>\n",
       "    </tr>\n",
       "  </tbody>\n",
       "</table>\n",
       "</div>"
      ],
      "text/plain": [
       "                         target\n",
       "id                             \n",
       "55575351-52495756485173       1"
      ]
     },
     "execution_count": 8,
     "metadata": {},
     "output_type": "execute_result"
    }
   ],
   "source": [
    "target.sample(1)"
   ]
  },
  {
   "cell_type": "code",
   "execution_count": 9,
   "metadata": {},
   "outputs": [],
   "source": [
    "df = b3.merge(target, on='id', how='left').fillna(0)"
   ]
  },
  {
   "cell_type": "code",
   "execution_count": 46,
   "metadata": {},
   "outputs": [],
   "source": [
    "df = df[df['КоличествоЧековВсе'] > 0]"
   ]
  },
  {
   "cell_type": "code",
   "execution_count": 47,
   "metadata": {},
   "outputs": [
    {
     "data": {
      "text/html": [
       "<div>\n",
       "<style scoped>\n",
       "    .dataframe tbody tr th:only-of-type {\n",
       "        vertical-align: middle;\n",
       "    }\n",
       "\n",
       "    .dataframe tbody tr th {\n",
       "        vertical-align: top;\n",
       "    }\n",
       "\n",
       "    .dataframe thead th {\n",
       "        text-align: right;\n",
       "    }\n",
       "</style>\n",
       "<table border=\"1\" class=\"dataframe\">\n",
       "  <thead>\n",
       "    <tr style=\"text-align: right;\">\n",
       "      <th></th>\n",
       "      <th>КоличествоЧеков</th>\n",
       "      <th>КоличествоЧековВсе</th>\n",
       "      <th>СреднийЧек</th>\n",
       "      <th>СреднееЧислоТоваровЧека</th>\n",
       "      <th>СреднееЧислоТоваровЧекаВсе</th>\n",
       "      <th>Выручка</th>\n",
       "      <th>ВыручкаВся</th>\n",
       "      <th>КоличествоТоваров</th>\n",
       "      <th>КоличествоТоваровВсе</th>\n",
       "      <th>СредняяМаржа</th>\n",
       "      <th>...</th>\n",
       "      <th>CENTRAL</th>\n",
       "      <th>PRIVOLZIE</th>\n",
       "      <th>URAL</th>\n",
       "      <th>SIBERIA</th>\n",
       "      <th>FAR EAST</th>\n",
       "      <th>Безналичная</th>\n",
       "      <th>Наличная</th>\n",
       "      <th>Самовывоз</th>\n",
       "      <th>Курьер</th>\n",
       "      <th>target</th>\n",
       "    </tr>\n",
       "    <tr>\n",
       "      <th>id</th>\n",
       "      <th></th>\n",
       "      <th></th>\n",
       "      <th></th>\n",
       "      <th></th>\n",
       "      <th></th>\n",
       "      <th></th>\n",
       "      <th></th>\n",
       "      <th></th>\n",
       "      <th></th>\n",
       "      <th></th>\n",
       "      <th></th>\n",
       "      <th></th>\n",
       "      <th></th>\n",
       "      <th></th>\n",
       "      <th></th>\n",
       "      <th></th>\n",
       "      <th></th>\n",
       "      <th></th>\n",
       "      <th></th>\n",
       "      <th></th>\n",
       "      <th></th>\n",
       "    </tr>\n",
       "  </thead>\n",
       "  <tbody>\n",
       "    <tr>\n",
       "      <th>55575653-57545452545672</th>\n",
       "      <td>4.0</td>\n",
       "      <td>4.0</td>\n",
       "      <td>1531.25</td>\n",
       "      <td>3.5</td>\n",
       "      <td>3.5</td>\n",
       "      <td>6125.0</td>\n",
       "      <td>6125.0</td>\n",
       "      <td>14.0</td>\n",
       "      <td>14.0</td>\n",
       "      <td>52.919286</td>\n",
       "      <td>...</td>\n",
       "      <td>0.714286</td>\n",
       "      <td>0.0</td>\n",
       "      <td>0.0</td>\n",
       "      <td>0.0</td>\n",
       "      <td>0.0</td>\n",
       "      <td>0.714286</td>\n",
       "      <td>0.0</td>\n",
       "      <td>0.714286</td>\n",
       "      <td>0.0</td>\n",
       "      <td>1.0</td>\n",
       "    </tr>\n",
       "  </tbody>\n",
       "</table>\n",
       "<p>1 rows × 127 columns</p>\n",
       "</div>"
      ],
      "text/plain": [
       "                         КоличествоЧеков  КоличествоЧековВсе  СреднийЧек  \\\n",
       "id                                                                         \n",
       "55575653-57545452545672              4.0                 4.0     1531.25   \n",
       "\n",
       "                         СреднееЧислоТоваровЧека  СреднееЧислоТоваровЧекаВсе  \\\n",
       "id                                                                             \n",
       "55575653-57545452545672                      3.5                         3.5   \n",
       "\n",
       "                         Выручка  ВыручкаВся  КоличествоТоваров  \\\n",
       "id                                                                \n",
       "55575653-57545452545672   6125.0      6125.0               14.0   \n",
       "\n",
       "                         КоличествоТоваровВсе  СредняяМаржа  ...   CENTRAL  \\\n",
       "id                                                           ...             \n",
       "55575653-57545452545672                  14.0     52.919286  ...  0.714286   \n",
       "\n",
       "                         PRIVOLZIE  URAL  SIBERIA  FAR EAST  Безналичная  \\\n",
       "id                                                                         \n",
       "55575653-57545452545672        0.0   0.0      0.0       0.0     0.714286   \n",
       "\n",
       "                         Наличная  Самовывоз  Курьер  target  \n",
       "id                                                            \n",
       "55575653-57545452545672       0.0   0.714286     0.0     1.0  \n",
       "\n",
       "[1 rows x 127 columns]"
      ]
     },
     "execution_count": 47,
     "metadata": {},
     "output_type": "execute_result"
    }
   ],
   "source": [
    "df.sample(1)"
   ]
  },
  {
   "cell_type": "markdown",
   "metadata": {},
   "source": [
    "## Разбиваем на трейн и тест"
   ]
  },
  {
   "cell_type": "code",
   "execution_count": 48,
   "metadata": {},
   "outputs": [],
   "source": [
    "from sklearn.model_selection import train_test_split\n",
    "\n",
    "X = df.drop(columns=['target'])\n",
    "y = df['target']\n",
    "\n",
    "X_train, X_test, y_train, y_test = train_test_split(X, y, test_size=0.3, random_state=1)"
   ]
  },
  {
   "cell_type": "markdown",
   "metadata": {},
   "source": [
    "## Отбор значимых признаков (Lasso)"
   ]
  },
  {
   "cell_type": "code",
   "execution_count": 68,
   "metadata": {
    "scrolled": false
   },
   "outputs": [
    {
     "name": "stdout",
     "output_type": "stream",
     "text": [
      "Fitting 5 folds for each of 9 candidates, totalling 45 fits\n",
      "best params: {'model__alpha': 0.1}\n"
     ]
    }
   ],
   "source": [
    "from sklearn.model_selection import GridSearchCV\n",
    "from sklearn.preprocessing import StandardScaler\n",
    "from sklearn.pipeline import Pipeline\n",
    "from sklearn.linear_model import Lasso\n",
    "\n",
    "pipeline = Pipeline([\n",
    "    ('scaler', StandardScaler()),\n",
    "    ('model', Lasso()),\n",
    "])\n",
    "\n",
    "search = GridSearchCV(\n",
    "    pipeline,\n",
    "    {'model__alpha':np.arange(0.1,1,0.1)},\n",
    "    scoring=\"neg_mean_squared_error\",\n",
    "    n_jobs=4,\n",
    "    verbose=4,\n",
    ")\n",
    "search.fit(X_train, y_train)\n",
    "\n",
    "print('best params:', search.best_params_)\n",
    "\n",
    "coefficients = search.best_estimator_.named_steps['model'].coef_\n",
    "importance = np.abs(coefficients)"
   ]
  },
  {
   "cell_type": "code",
   "execution_count": 69,
   "metadata": {},
   "outputs": [
    {
     "data": {
      "text/plain": [
       "Index(['КоличествоЧеков'], dtype='object')"
      ]
     },
     "execution_count": 69,
     "metadata": {},
     "output_type": "execute_result"
    }
   ],
   "source": [
    "X_train.columns[importance > 0]"
   ]
  },
  {
   "cell_type": "code",
   "execution_count": 70,
   "metadata": {},
   "outputs": [
    {
     "name": "stdout",
     "output_type": "stream",
     "text": [
      "Fitting 5 folds for each of 6 candidates, totalling 30 fits\n",
      "best params: {'model__alpha': 0.05}\n"
     ]
    }
   ],
   "source": [
    "pipeline = Pipeline([\n",
    "    ('scaler', StandardScaler()),\n",
    "    ('model', Lasso()),\n",
    "])\n",
    "\n",
    "search = GridSearchCV(\n",
    "    pipeline,\n",
    "    {'model__alpha':np.arange(0.05,0.11,0.01)},\n",
    "    scoring=\"neg_mean_squared_error\",\n",
    "    n_jobs=4,\n",
    "    verbose=4,\n",
    ")\n",
    "search.fit(X_train, y_train)\n",
    "\n",
    "print('best params:', search.best_params_)\n",
    "\n",
    "coefficients = search.best_estimator_.named_steps['model'].coef_\n",
    "importance = np.abs(coefficients)"
   ]
  },
  {
   "cell_type": "code",
   "execution_count": 71,
   "metadata": {},
   "outputs": [
    {
     "data": {
      "text/plain": [
       "Index(['КоличествоЧеков'], dtype='object')"
      ]
     },
     "execution_count": 71,
     "metadata": {},
     "output_type": "execute_result"
    }
   ],
   "source": [
    "X_train.columns[importance > 0]"
   ]
  },
  {
   "cell_type": "code",
   "execution_count": 72,
   "metadata": {},
   "outputs": [
    {
     "name": "stdout",
     "output_type": "stream",
     "text": [
      "Fitting 5 folds for each of 108 candidates, totalling 540 fits\n",
      "best params: {'model__alpha': 0.01}\n"
     ]
    }
   ],
   "source": [
    "pipeline = Pipeline([\n",
    "    ('scaler', StandardScaler()),\n",
    "    ('model', Lasso()),\n",
    "])\n",
    "\n",
    "search = GridSearchCV(\n",
    "    pipeline,\n",
    "    {'model__alpha':np.arange(0.01,0.55,0.005)},\n",
    "    scoring=\"neg_mean_squared_error\",\n",
    "    n_jobs=4,\n",
    "    verbose=4,\n",
    ")\n",
    "search.fit(X_train, y_train)\n",
    "\n",
    "print('best params:', search.best_params_)\n",
    "\n",
    "coefficients = search.best_estimator_.named_steps['model'].coef_\n",
    "importance = np.abs(coefficients)"
   ]
  },
  {
   "cell_type": "code",
   "execution_count": 73,
   "metadata": {},
   "outputs": [
    {
     "data": {
      "text/plain": [
       "Index(['КоличествоЧеков', 'КоличествоЧековВсе', 'КоличествоТоваров',\n",
       "       'КоличествоТоваровВсе', 'ДоляВыкупленных', 'ИГРУШКИ', 'ППКП',\n",
       "       'ПОДГУЗНИКИ', 'ПЮРЕ', 'Безналичная', 'Самовывоз'],\n",
       "      dtype='object')"
      ]
     },
     "execution_count": 73,
     "metadata": {},
     "output_type": "execute_result"
    }
   ],
   "source": [
    "important_features = X_train.columns[importance > 0]\n",
    "important_features"
   ]
  },
  {
   "cell_type": "code",
   "execution_count": 75,
   "metadata": {},
   "outputs": [
    {
     "data": {
      "text/html": [
       "<div>\n",
       "<style scoped>\n",
       "    .dataframe tbody tr th:only-of-type {\n",
       "        vertical-align: middle;\n",
       "    }\n",
       "\n",
       "    .dataframe tbody tr th {\n",
       "        vertical-align: top;\n",
       "    }\n",
       "\n",
       "    .dataframe thead th {\n",
       "        text-align: right;\n",
       "    }\n",
       "</style>\n",
       "<table border=\"1\" class=\"dataframe\">\n",
       "  <thead>\n",
       "    <tr style=\"text-align: right;\">\n",
       "      <th></th>\n",
       "      <th>КоличествоЧеков</th>\n",
       "      <th>КоличествоЧековВсе</th>\n",
       "      <th>КоличествоТоваров</th>\n",
       "      <th>КоличествоТоваровВсе</th>\n",
       "      <th>ДоляВыкупленных</th>\n",
       "      <th>ИГРУШКИ</th>\n",
       "      <th>ППКП</th>\n",
       "      <th>ПОДГУЗНИКИ</th>\n",
       "      <th>ПЮРЕ</th>\n",
       "      <th>Безналичная</th>\n",
       "      <th>Самовывоз</th>\n",
       "    </tr>\n",
       "    <tr>\n",
       "      <th>id</th>\n",
       "      <th></th>\n",
       "      <th></th>\n",
       "      <th></th>\n",
       "      <th></th>\n",
       "      <th></th>\n",
       "      <th></th>\n",
       "      <th></th>\n",
       "      <th></th>\n",
       "      <th></th>\n",
       "      <th></th>\n",
       "      <th></th>\n",
       "    </tr>\n",
       "  </thead>\n",
       "  <tbody>\n",
       "    <tr>\n",
       "      <th>55575651-49555351525772</th>\n",
       "      <td>1.0</td>\n",
       "      <td>2.0</td>\n",
       "      <td>5.0</td>\n",
       "      <td>10.0</td>\n",
       "      <td>0.500000</td>\n",
       "      <td>0.000000</td>\n",
       "      <td>0.000000</td>\n",
       "      <td>0.000000</td>\n",
       "      <td>0.0</td>\n",
       "      <td>1.000000</td>\n",
       "      <td>1.000000</td>\n",
       "    </tr>\n",
       "    <tr>\n",
       "      <th>55574954-57555650505474</th>\n",
       "      <td>1.0</td>\n",
       "      <td>1.0</td>\n",
       "      <td>1.0</td>\n",
       "      <td>1.0</td>\n",
       "      <td>1.000000</td>\n",
       "      <td>0.000000</td>\n",
       "      <td>0.000000</td>\n",
       "      <td>0.000000</td>\n",
       "      <td>0.0</td>\n",
       "      <td>1.000000</td>\n",
       "      <td>1.000000</td>\n",
       "    </tr>\n",
       "    <tr>\n",
       "      <th>55574957-57525557555571</th>\n",
       "      <td>2.0</td>\n",
       "      <td>3.0</td>\n",
       "      <td>12.0</td>\n",
       "      <td>26.0</td>\n",
       "      <td>0.461538</td>\n",
       "      <td>0.916667</td>\n",
       "      <td>0.000000</td>\n",
       "      <td>0.000000</td>\n",
       "      <td>0.0</td>\n",
       "      <td>1.000000</td>\n",
       "      <td>1.000000</td>\n",
       "    </tr>\n",
       "    <tr>\n",
       "      <th>55575053-48525556554876</th>\n",
       "      <td>1.0</td>\n",
       "      <td>1.0</td>\n",
       "      <td>1.0</td>\n",
       "      <td>1.0</td>\n",
       "      <td>1.000000</td>\n",
       "      <td>0.000000</td>\n",
       "      <td>0.000000</td>\n",
       "      <td>0.000000</td>\n",
       "      <td>0.0</td>\n",
       "      <td>1.000000</td>\n",
       "      <td>1.000000</td>\n",
       "    </tr>\n",
       "    <tr>\n",
       "      <th>55575452-53534954524971</th>\n",
       "      <td>2.0</td>\n",
       "      <td>2.0</td>\n",
       "      <td>6.0</td>\n",
       "      <td>7.0</td>\n",
       "      <td>0.857143</td>\n",
       "      <td>0.000000</td>\n",
       "      <td>1.000000</td>\n",
       "      <td>0.500000</td>\n",
       "      <td>0.0</td>\n",
       "      <td>1.000000</td>\n",
       "      <td>1.000000</td>\n",
       "    </tr>\n",
       "    <tr>\n",
       "      <th>...</th>\n",
       "      <td>...</td>\n",
       "      <td>...</td>\n",
       "      <td>...</td>\n",
       "      <td>...</td>\n",
       "      <td>...</td>\n",
       "      <td>...</td>\n",
       "      <td>...</td>\n",
       "      <td>...</td>\n",
       "      <td>...</td>\n",
       "      <td>...</td>\n",
       "      <td>...</td>\n",
       "    </tr>\n",
       "    <tr>\n",
       "      <th>55574949-57575257575779</th>\n",
       "      <td>1.0</td>\n",
       "      <td>1.0</td>\n",
       "      <td>10.0</td>\n",
       "      <td>10.0</td>\n",
       "      <td>1.000000</td>\n",
       "      <td>1.000000</td>\n",
       "      <td>0.000000</td>\n",
       "      <td>0.000000</td>\n",
       "      <td>0.0</td>\n",
       "      <td>1.000000</td>\n",
       "      <td>1.000000</td>\n",
       "    </tr>\n",
       "    <tr>\n",
       "      <th>55575453-50515356564870</th>\n",
       "      <td>1.0</td>\n",
       "      <td>1.0</td>\n",
       "      <td>1.0</td>\n",
       "      <td>2.0</td>\n",
       "      <td>0.500000</td>\n",
       "      <td>0.000000</td>\n",
       "      <td>0.000000</td>\n",
       "      <td>0.000000</td>\n",
       "      <td>0.0</td>\n",
       "      <td>1.000000</td>\n",
       "      <td>1.000000</td>\n",
       "    </tr>\n",
       "    <tr>\n",
       "      <th>55575054-49545457545677</th>\n",
       "      <td>1.0</td>\n",
       "      <td>5.0</td>\n",
       "      <td>1.0</td>\n",
       "      <td>9.0</td>\n",
       "      <td>0.125000</td>\n",
       "      <td>0.000000</td>\n",
       "      <td>1.000000</td>\n",
       "      <td>0.000000</td>\n",
       "      <td>0.0</td>\n",
       "      <td>1.000000</td>\n",
       "      <td>1.000000</td>\n",
       "    </tr>\n",
       "    <tr>\n",
       "      <th>55574851-54555352565770</th>\n",
       "      <td>1.0</td>\n",
       "      <td>1.0</td>\n",
       "      <td>5.0</td>\n",
       "      <td>5.0</td>\n",
       "      <td>1.000000</td>\n",
       "      <td>0.000000</td>\n",
       "      <td>1.000000</td>\n",
       "      <td>0.000000</td>\n",
       "      <td>0.0</td>\n",
       "      <td>1.000000</td>\n",
       "      <td>1.000000</td>\n",
       "    </tr>\n",
       "    <tr>\n",
       "      <th>55575649-56535155565572</th>\n",
       "      <td>2.0</td>\n",
       "      <td>2.0</td>\n",
       "      <td>7.0</td>\n",
       "      <td>7.0</td>\n",
       "      <td>1.000000</td>\n",
       "      <td>0.000000</td>\n",
       "      <td>0.714286</td>\n",
       "      <td>0.428571</td>\n",
       "      <td>0.0</td>\n",
       "      <td>0.857143</td>\n",
       "      <td>0.857143</td>\n",
       "    </tr>\n",
       "  </tbody>\n",
       "</table>\n",
       "<p>57897 rows × 11 columns</p>\n",
       "</div>"
      ],
      "text/plain": [
       "                         КоличествоЧеков  КоличествоЧековВсе  \\\n",
       "id                                                             \n",
       "55575651-49555351525772              1.0                 2.0   \n",
       "55574954-57555650505474              1.0                 1.0   \n",
       "55574957-57525557555571              2.0                 3.0   \n",
       "55575053-48525556554876              1.0                 1.0   \n",
       "55575452-53534954524971              2.0                 2.0   \n",
       "...                                  ...                 ...   \n",
       "55574949-57575257575779              1.0                 1.0   \n",
       "55575453-50515356564870              1.0                 1.0   \n",
       "55575054-49545457545677              1.0                 5.0   \n",
       "55574851-54555352565770              1.0                 1.0   \n",
       "55575649-56535155565572              2.0                 2.0   \n",
       "\n",
       "                         КоличествоТоваров  КоличествоТоваровВсе  \\\n",
       "id                                                                 \n",
       "55575651-49555351525772                5.0                  10.0   \n",
       "55574954-57555650505474                1.0                   1.0   \n",
       "55574957-57525557555571               12.0                  26.0   \n",
       "55575053-48525556554876                1.0                   1.0   \n",
       "55575452-53534954524971                6.0                   7.0   \n",
       "...                                    ...                   ...   \n",
       "55574949-57575257575779               10.0                  10.0   \n",
       "55575453-50515356564870                1.0                   2.0   \n",
       "55575054-49545457545677                1.0                   9.0   \n",
       "55574851-54555352565770                5.0                   5.0   \n",
       "55575649-56535155565572                7.0                   7.0   \n",
       "\n",
       "                         ДоляВыкупленных   ИГРУШКИ      ППКП  ПОДГУЗНИКИ  \\\n",
       "id                                                                         \n",
       "55575651-49555351525772         0.500000  0.000000  0.000000    0.000000   \n",
       "55574954-57555650505474         1.000000  0.000000  0.000000    0.000000   \n",
       "55574957-57525557555571         0.461538  0.916667  0.000000    0.000000   \n",
       "55575053-48525556554876         1.000000  0.000000  0.000000    0.000000   \n",
       "55575452-53534954524971         0.857143  0.000000  1.000000    0.500000   \n",
       "...                                  ...       ...       ...         ...   \n",
       "55574949-57575257575779         1.000000  1.000000  0.000000    0.000000   \n",
       "55575453-50515356564870         0.500000  0.000000  0.000000    0.000000   \n",
       "55575054-49545457545677         0.125000  0.000000  1.000000    0.000000   \n",
       "55574851-54555352565770         1.000000  0.000000  1.000000    0.000000   \n",
       "55575649-56535155565572         1.000000  0.000000  0.714286    0.428571   \n",
       "\n",
       "                         ПЮРЕ  Безналичная  Самовывоз  \n",
       "id                                                     \n",
       "55575651-49555351525772   0.0     1.000000   1.000000  \n",
       "55574954-57555650505474   0.0     1.000000   1.000000  \n",
       "55574957-57525557555571   0.0     1.000000   1.000000  \n",
       "55575053-48525556554876   0.0     1.000000   1.000000  \n",
       "55575452-53534954524971   0.0     1.000000   1.000000  \n",
       "...                       ...          ...        ...  \n",
       "55574949-57575257575779   0.0     1.000000   1.000000  \n",
       "55575453-50515356564870   0.0     1.000000   1.000000  \n",
       "55575054-49545457545677   0.0     1.000000   1.000000  \n",
       "55574851-54555352565770   0.0     1.000000   1.000000  \n",
       "55575649-56535155565572   0.0     0.857143   0.857143  \n",
       "\n",
       "[57897 rows x 11 columns]"
      ]
     },
     "execution_count": 75,
     "metadata": {},
     "output_type": "execute_result"
    }
   ],
   "source": [
    "X_train = X_train[important_features]\n",
    "X_test = X_test[important_features]\n",
    "X_train"
   ]
  },
  {
   "cell_type": "markdown",
   "metadata": {},
   "source": [
    "## Отбор значимых признаков (mutual info)"
   ]
  },
  {
   "cell_type": "code",
   "execution_count": null,
   "metadata": {},
   "outputs": [],
   "source": [
    "# from sklearn.feature_selection import SelectKBest, mutual_info_classif\n",
    "\n",
    "# mutual_info = mutual_info_classif(X_train, y_train)\n",
    "# mutual_info = pd.Series(mutual_info, index=X_train.columns)\n",
    "# plt.rcParams[\"figure.figsize\"] = (24,18)\n",
    "# mutual_info.plot.bar()\n",
    "# plt.rcParams[\"figure.figsize\"] = (8,6)\n",
    "\n",
    "# X_new = SelectKBest(mutual_info_classif, k=42).fit_transform(X_train, y_train)"
   ]
  },
  {
   "cell_type": "markdown",
   "metadata": {},
   "source": [
    "## Отбор значимых признаков (RFE)"
   ]
  },
  {
   "cell_type": "code",
   "execution_count": null,
   "metadata": {},
   "outputs": [],
   "source": [
    "# from sklearn.feature_selection import RFE\n",
    "# from sklearn.linear_model import LogisticRegression\n",
    "\n",
    "# model = LogisticRegression(\n",
    "#     solver='lbfgs', \n",
    "#     max_iter=420,\n",
    "#     tol=1e-3,\n",
    "#     n_jobs=4,\n",
    "# )\n",
    "# rfe = RFE(model, n_features_to_select=42, step=10)\n",
    "# fit = rfe.fit(X_train, y_train)\n",
    "\n",
    "# print(\"num features: %d\" % fit.n_features_)\n",
    "# print(\"selected features: %s\" % fit.support_)\n",
    "# print(\"feature ranking: %s\" % fit.ranking_)"
   ]
  },
  {
   "cell_type": "code",
   "execution_count": null,
   "metadata": {},
   "outputs": [],
   "source": [
    "# selected = []\n",
    "# for i in range(len(X_train.columns)):\n",
    "#     if fit.support_[i]:\n",
    "#         selected.append(X_train.columns[i])\n",
    "# selected\n",
    "\n",
    "# selected = [\n",
    "#     'КоличествоЧеков',\n",
    "#     'ПроцентОтмен',\n",
    "#     'ППКП',\n",
    "#     'КГТ',\n",
    "#     'ИГРУШКИ ДЛЯ РАЗВИТИЯ МАЛЫШЕЙ',\n",
    "#     'ЗАМЕНИТЕЛИ МОЛОКА',\n",
    "#     'АКСЕССУАРЫ',\n",
    "#     'ДЕТСКОЕ БЕЛЬЁ',\n",
    "#     'ПОДГУЗНИКИ',\n",
    "#     'ПРЕДМЕТЫ ПО УХОДУ ЗА НОВОРОЖДЕННЫМИ',\n",
    "#     'БУТЫЛОЧКИ',\n",
    "#     'БАКАЛЕЯ',\n",
    "#     'ОДЕЖДА ДЛЯ НОВОРОЖДЕННЫХ (0-2 лет)',\n",
    "#     'СРЕДСТВА ГИГИЕНЫ',\n",
    "#     'ПЕЛЕНКИ ОДНОРАЗОВЫЕ',\n",
    "#     'ГОЛОВНЫЕ УБОРЫ, ВАРЕЖКИ, ПЕРЧАТКИ',\n",
    "#     'КАШИ',\n",
    "#     'ПОЛИГРАФИЧЕСКАЯ ПРОДУКЦИЯ',\n",
    "#     'МЯГКИЕ ИГРУШКИ',\n",
    "#     'ПЮРЕ',\n",
    "#     'НАПИТКИ',\n",
    "#     'ЭЛЕКТРОПРИБОРЫ',\n",
    "#     'ДЕТСКИЕ КОЛГОТКИ И НОСКИ',\n",
    "#     'ТОВАРЫ ДЛЯ КОШЕК',\n",
    "#     'ПОСУДА',\n",
    "#     'ИЗДЕЛИЯ ИЗ ПЛАСТМАССЫ',\n",
    "#     'ТРУСИКИ НЕПРОМОКАЕМЫЕ',\n",
    "#     'КАТАЛКИ/КАЧАЛКИ',\n",
    "#     'МОЛОКООТСОСЫ',\n",
    "#     'КОНДИТЕРСКИЕ ИЗДЕЛИЯ',\n",
    "#     'ПРОДУКТЫ ПИТАНИЯ ДЛЯ МАМ',\n",
    "#     'МАНЕЖИ/ШЕЗЛОНГИ',\n",
    "#     'ТОВАРЫ ДЛЯ СОБАК',\n",
    "#     'ДЕКОР',\n",
    "#     'АКСЕССУАРЫ ДЛЯ ВОЛОС',\n",
    "#     'ВСЁ ДЛЯ ПРАЗДНИКА',\n",
    "#     'ФОТОАЛЬБОМЫ/ФОТОРАМКИ',\n",
    "#     'САНКИ/СНЕГОКАТЫ',\n",
    "#     'ОДЕЖДА, ОБУВЬ',\n",
    "#     'ЭЛЕКТРОМОБИЛИ/МАШИНЫ ПЕДАЛЬНЫЕ',\n",
    "#     'ОБУВЬ ЖЕНСКАЯ',\n",
    "#     'FAR EAST',\n",
    "# ]"
   ]
  },
  {
   "cell_type": "code",
   "execution_count": null,
   "metadata": {},
   "outputs": [],
   "source": [
    "# X_train = X_train[selected]\n",
    "# X_test = X_test[selected]"
   ]
  },
  {
   "cell_type": "markdown",
   "metadata": {},
   "source": [
    "## Обучаем дерево решений"
   ]
  },
  {
   "cell_type": "code",
   "execution_count": 102,
   "metadata": {},
   "outputs": [],
   "source": [
    "from sklearn.tree import DecisionTreeClassifier\n",
    "\n",
    "clf = DecisionTreeClassifier(\n",
    "    max_depth = 10,\n",
    "    min_samples_leaf = 42,\n",
    "#     max_features = 'log2',\n",
    ")\n",
    "clf = clf.fit(X_train,y_train)\n",
    "\n",
    "y_pred = clf.predict(X_test)\n",
    "probs = clf.predict_proba(X_test)\n",
    "preds = probs[:,1]"
   ]
  },
  {
   "cell_type": "markdown",
   "metadata": {},
   "source": [
    "## Считаем метрики дерева решений"
   ]
  },
  {
   "cell_type": "code",
   "execution_count": 103,
   "metadata": {},
   "outputs": [
    {
     "name": "stdout",
     "output_type": "stream",
     "text": [
      "accuracy: 0.8647886188691412\n",
      "roc_auc: 0.7179560626312447\n"
     ]
    },
    {
     "data": {
      "image/png": "[encoded data removed]",
      "text/plain": [
       "<Figure size 576x432 with 1 Axes>"
      ]
     },
     "metadata": {
      "needs_background": "light"
     },
     "output_type": "display_data"
    }
   ],
   "source": [
    "print(\"accuracy:\", accuracy_score(y_test, y_pred))\n",
    "print(\"roc_auc:\", roc_auc_score(y_test, preds))\n",
    "\n",
    "fpr, tpr, _ = roc_curve(y_test, preds, drop_intermediate=False)\n",
    "\n",
    "plt.clf()\n",
    "plt.plot(fpr, tpr)\n",
    "plt.xlabel('FPR')\n",
    "plt.ylabel('TPR')\n",
    "plt.title('ROC curve')\n",
    "plt.show()"
   ]
  },
  {
   "cell_type": "code",
   "execution_count": 106,
   "metadata": {},
   "outputs": [
    {
     "data": {
      "image/png": "[encoded data removed]",
      "text/plain": [
       "<Figure size 576x432 with 1 Axes>"
      ]
     },
     "metadata": {
      "needs_background": "light"
     },
     "output_type": "display_data"
    }
   ],
   "source": [
    "importance = pd.Series(clf.feature_importances_, index=X_train.columns)\n",
    "\n",
    "importance.plot.bar()\n",
    "plt.title('Feature importances')\n",
    "plt.show()"
   ]
  },
  {
   "cell_type": "markdown",
   "metadata": {},
   "source": [
    "## Смотрим на дерево"
   ]
  },
  {
   "cell_type": "code",
   "execution_count": 107,
   "metadata": {},
   "outputs": [],
   "source": [
    "# from sklearn.tree import export_graphviz\n",
    "# from six import StringIO\n",
    "# from IPython.display import Image  \n",
    "# import pydotplus\n",
    "\n",
    "# dot_data = StringIO()\n",
    "\n",
    "# export_graphviz(clf, out_file=dot_data,\n",
    "#                 filled=True, rounded=True,\n",
    "#                 special_characters=True,\n",
    "#                 feature_names = X_train.columns,\n",
    "#                 class_names=['0','1'])\n",
    "\n",
    "# graph = pydotplus.graph_from_dot_data(dot_data.getvalue())  \n",
    "# graph.write_png('tree.png')\n",
    "\n",
    "# Image(graph.create_png())"
   ]
  },
  {
   "cell_type": "markdown",
   "metadata": {},
   "source": [
    "## Обучаем случайный лес"
   ]
  },
  {
   "cell_type": "code",
   "execution_count": 108,
   "metadata": {},
   "outputs": [],
   "source": [
    "from sklearn.ensemble import RandomForestClassifier\n",
    "\n",
    "clf = RandomForestClassifier(\n",
    "    max_depth=5,\n",
    "#     min_samples_leaf=100,\n",
    "    random_state=42,\n",
    ")\n",
    "clf = clf.fit(X_train,y_train)\n",
    "\n",
    "y_pred = clf.predict(X_test)\n",
    "probs = clf.predict_proba(X_test)\n",
    "preds = probs[:,1]"
   ]
  },
  {
   "cell_type": "markdown",
   "metadata": {},
   "source": [
    "## Считаем метрики случайного леса"
   ]
  },
  {
   "cell_type": "code",
   "execution_count": 109,
   "metadata": {},
   "outputs": [
    {
     "name": "stdout",
     "output_type": "stream",
     "text": [
      "accuracy: 0.8677306250755652\n",
      "roc_auc: 0.7262193798875811\n"
     ]
    },
    {
     "data": {
      "image/png": "[encoded data removed]",
      "text/plain": [
       "<Figure size 576x432 with 1 Axes>"
      ]
     },
     "metadata": {
      "needs_background": "light"
     },
     "output_type": "display_data"
    }
   ],
   "source": [
    "print(\"accuracy:\", accuracy_score(y_test, y_pred))\n",
    "print(\"roc_auc:\", roc_auc_score(y_test, preds))\n",
    "\n",
    "fpr, tpr, _ = roc_curve(y_test, preds, drop_intermediate=False)\n",
    "\n",
    "plt.clf()\n",
    "plt.plot(fpr, tpr)\n",
    "plt.xlabel('FPR')\n",
    "plt.ylabel('TPR')\n",
    "plt.title('ROC curve')\n",
    "plt.show()"
   ]
  },
  {
   "cell_type": "code",
   "execution_count": 110,
   "metadata": {},
   "outputs": [
    {
     "data": {
      "image/png": "[encoded data removed]",
      "text/plain": [
       "<Figure size 576x432 with 1 Axes>"
      ]
     },
     "metadata": {
      "needs_background": "light"
     },
     "output_type": "display_data"
    }
   ],
   "source": [
    "importance = pd.Series(clf.feature_importances_, index=X_train.columns)\n",
    "\n",
    "importance.plot.bar()\n",
    "plt.title('Feature importances')\n",
    "plt.show()"
   ]
  },
  {
   "cell_type": "markdown",
   "metadata": {},
   "source": [
    "## Обучаем логрег"
   ]
  },
  {
   "cell_type": "code",
   "execution_count": 129,
   "metadata": {},
   "outputs": [],
   "source": [
    "from sklearn.linear_model import LogisticRegression\n",
    "\n",
    "pipeline = Pipeline([\n",
    "    ('scaler', StandardScaler()),\n",
    "    ('model', LogisticRegression(\n",
    "        max_iter=10000,\n",
    "    )),\n",
    "])\n",
    "\n",
    "clf = pipeline.fit(X_train, y_train)\n",
    "\n",
    "y_pred = clf.predict(X_test)\n",
    "probs = clf.predict_proba(X_test)\n",
    "preds = probs[:,1]"
   ]
  },
  {
   "cell_type": "markdown",
   "metadata": {},
   "source": [
    "## Метрики логрега"
   ]
  },
  {
   "cell_type": "code",
   "execution_count": 130,
   "metadata": {},
   "outputs": [
    {
     "name": "stdout",
     "output_type": "stream",
     "text": [
      "accuracy: 0.8678515294402128\n",
      "roc_auc: 0.7163226586880203\n"
     ]
    },
    {
     "data": {
      "image/png": "[encoded data removed]",
      "text/plain": [
       "<Figure size 576x432 with 1 Axes>"
      ]
     },
     "metadata": {
      "needs_background": "light"
     },
     "output_type": "display_data"
    }
   ],
   "source": [
    "print(\"accuracy:\", accuracy_score(y_test, y_pred))\n",
    "print(\"roc_auc:\", roc_auc_score(y_test, preds))\n",
    "\n",
    "fpr, tpr, _ = roc_curve(y_test, preds, drop_intermediate=False)\n",
    "\n",
    "plt.clf()\n",
    "plt.plot(fpr, tpr)\n",
    "plt.xlabel('FPR')\n",
    "plt.ylabel('TPR')\n",
    "plt.title('ROC curve')\n",
    "plt.show()"
   ]
  },
  {
   "cell_type": "code",
   "execution_count": 132,
   "metadata": {},
   "outputs": [
    {
     "data": {
      "image/png": "[encoded data removed]",
      "text/plain": [
       "<Figure size 576x432 with 1 Axes>"
      ]
     },
     "metadata": {
      "needs_background": "light"
     },
     "output_type": "display_data"
    }
   ],
   "source": [
    "importance = pd.Series(clf.named_steps['model'].coef_[0], index=X_train.columns)\n",
    "\n",
    "importance.plot.bar()\n",
    "plt.title('Feature importances')\n",
    "plt.show()"
   ]
  },
  {
   "cell_type": "code",
   "execution_count": 133,
   "metadata": {},
   "outputs": [
    {
     "data": {
      "image/png": "[encoded data removed]",
      "text/plain": [
       "<Figure size 576x432 with 1 Axes>"
      ]
     },
     "metadata": {
      "needs_background": "light"
     },
     "output_type": "display_data"
    }
   ],
   "source": [
    "from sklearn.inspection import permutation_importance\n",
    "\n",
    "# plt.rcParams[\"figure.figsize\"] = (24,18)\n",
    "\n",
    "result = permutation_importance(clf, X_train, y_train, n_repeats=16,\n",
    "                                random_state=42)\n",
    "\n",
    "# logreg_importances = pd.Series(result.importances_mean)\n",
    "logreg_importances = pd.Series(result.importances_mean, index=X_train.columns)\n",
    "\n",
    "fig, ax = plt.subplots()\n",
    "logreg_importances.plot.bar(yerr=result.importances_std, ax=ax)\n",
    "ax.set_title(\"Feature importances using permutation on full model\")\n",
    "ax.set_ylabel(\"Mean accuracy decrease\")\n",
    "fig.tight_layout()\n",
    "plt.show()\n",
    "\n",
    "# plt.rcParams[\"figure.figsize\"] = (8,6)"
   ]
  },
  {
   "cell_type": "markdown",
   "metadata": {},
   "source": [
    "## Обучаем XGBoost"
   ]
  },
  {
   "cell_type": "code",
   "execution_count": 216,
   "metadata": {},
   "outputs": [
    {
     "name": "stdout",
     "output_type": "stream",
     "text": [
      "[0]\tvalidation_0-auc:0.70311\n",
      "[1]\tvalidation_0-auc:0.70809\n",
      "[2]\tvalidation_0-auc:0.70827\n",
      "[3]\tvalidation_0-auc:0.71528\n",
      "[4]\tvalidation_0-auc:0.71607\n",
      "[5]\tvalidation_0-auc:0.71811\n",
      "[6]\tvalidation_0-auc:0.71808\n",
      "[7]\tvalidation_0-auc:0.71812\n",
      "[8]\tvalidation_0-auc:0.72119\n",
      "[9]\tvalidation_0-auc:0.72155\n",
      "[10]\tvalidation_0-auc:0.72151\n",
      "[11]\tvalidation_0-auc:0.72159\n",
      "[12]\tvalidation_0-auc:0.72163\n",
      "[13]\tvalidation_0-auc:0.72188\n",
      "[14]\tvalidation_0-auc:0.72543\n",
      "[15]\tvalidation_0-auc:0.72578\n",
      "[16]\tvalidation_0-auc:0.72617\n",
      "[17]\tvalidation_0-auc:0.72643\n",
      "[18]\tvalidation_0-auc:0.72669\n",
      "[19]\tvalidation_0-auc:0.72709\n",
      "[20]\tvalidation_0-auc:0.72680\n",
      "[21]\tvalidation_0-auc:0.72702\n",
      "[22]\tvalidation_0-auc:0.72671\n",
      "[23]\tvalidation_0-auc:0.72734\n",
      "[24]\tvalidation_0-auc:0.72748\n",
      "[25]\tvalidation_0-auc:0.72745\n",
      "[26]\tvalidation_0-auc:0.72742\n",
      "[27]\tvalidation_0-auc:0.72759\n",
      "[28]\tvalidation_0-auc:0.72751\n",
      "[29]\tvalidation_0-auc:0.72749\n",
      "[30]\tvalidation_0-auc:0.72748\n",
      "[31]\tvalidation_0-auc:0.72750\n",
      "[32]\tvalidation_0-auc:0.72737\n",
      "[33]\tvalidation_0-auc:0.72754\n",
      "[34]\tvalidation_0-auc:0.72755\n",
      "[35]\tvalidation_0-auc:0.72752\n",
      "[36]\tvalidation_0-auc:0.72750\n",
      "[37]\tvalidation_0-auc:0.72749\n"
     ]
    },
    {
     "name": "stderr",
     "output_type": "stream",
     "text": [
      "/usr/local/lib/python3.9/site-packages/xgboost/data.py:112: UserWarning: Use subset (sliced data) of np.ndarray is not recommended because it will generate extra copies and increase memory consumption\n",
      "  warnings.warn(\n"
     ]
    }
   ],
   "source": [
    "import xgboost\n",
    "\n",
    "clf = xgboost.XGBClassifier(\n",
    "    use_label_encoder=False,\n",
    "    n_estimators=100,\n",
    "    objective='binary:logistic',\n",
    "    max_depth=3,\n",
    "    eta=0.1,\n",
    ")\n",
    "clf.fit(\n",
    "    X_train, y_train,\n",
    "    early_stopping_rounds=10,\n",
    "    eval_metric='auc',\n",
    "    eval_set=[(X_test, y_test)],\n",
    "    verbose=True,\n",
    ")\n",
    "\n",
    "y_pred = clf.predict(X_test)\n",
    "probs = clf.predict_proba(X_test)\n",
    "preds = probs[:,1]"
   ]
  },
  {
   "cell_type": "markdown",
   "metadata": {},
   "source": [
    "## Метрики XGBoost"
   ]
  },
  {
   "cell_type": "code",
   "execution_count": 217,
   "metadata": {},
   "outputs": [
    {
     "name": "stdout",
     "output_type": "stream",
     "text": [
      "accuracy: 0.8679724338048603\n",
      "roc_auc: 0.7275865571900529\n"
     ]
    },
    {
     "data": {
      "image/png": "[encoded data removed]",
      "text/plain": [
       "<Figure size 576x432 with 1 Axes>"
      ]
     },
     "metadata": {
      "needs_background": "light"
     },
     "output_type": "display_data"
    }
   ],
   "source": [
    "print(\"accuracy:\", accuracy_score(y_test, y_pred))\n",
    "print(\"roc_auc:\", roc_auc_score(y_test, preds))\n",
    "\n",
    "fpr, tpr, _ = roc_curve(y_test, preds, drop_intermediate=False)\n",
    "\n",
    "plt.clf()\n",
    "plt.plot(fpr, tpr)\n",
    "plt.xlabel('FPR')\n",
    "plt.ylabel('TPR')\n",
    "plt.title('ROC curve')\n",
    "plt.show()"
   ]
  },
  {
   "cell_type": "markdown",
   "metadata": {},
   "source": [
    "## Подбор гиперпараметров XGBoost"
   ]
  },
  {
   "cell_type": "code",
   "execution_count": 253,
   "metadata": {},
   "outputs": [],
   "source": [
    "from hyperopt import hp, Trials, fmin, tpe, STATUS_OK\n",
    "\n",
    "params = {\n",
    "    \"learning_rate\":    hp.choice('learning_rate', np.arange(0.05, 0.21, 0.05)),\n",
    "    \"max_depth\":        hp.choice('max_depth', np.arange(1, 5, 1, dtype=int)),\n",
    "    \"min_child_weight\": hp.choice('min_child_weight', np.arange(1, 8, 1, dtype=int)),\n",
    "    \"gamma\":            hp.choice('gamma', np.arange(0.0, 0.5, 0.1)),\n",
    "    \"colsample_bytree\": hp.choice('colsample_bytree', np.arange(0.3, 0.8, 0.1)),\n",
    "    \"subsample\":        hp.choice('subsample', np.arange(0.8, 1.01, 0.05)),\n",
    "    \"n_estimators\":     1000,\n",
    "}\n",
    "\n",
    "fit_params = {\n",
    "    'eval_metric':           'auc',\n",
    "    'eval_set':              [(X_train, y_train), (X_test, y_test)],\n",
    "    'early_stopping_rounds': 10,\n",
    "    'verbose':               False,\n",
    "}\n",
    "\n",
    "def objective(space):\n",
    "    clf = xgboost.XGBClassifier(\n",
    "        verbosity         = 0,\n",
    "        use_label_encoder = False,\n",
    "        learning_rate     = space['learning_rate'],\n",
    "        max_depth         = space['max_depth'],\n",
    "        min_child_weight  = space['min_child_weight'],\n",
    "        gamma             = space['gamma'],\n",
    "        colsample_bytree  = space['colsample_bytree'],\n",
    "        subsample         = space['subsample'],\n",
    "        n_estimators      = space['n_estimators'], \n",
    "    )\n",
    "    print(f'''\n",
    "------------------------\n",
    "learning_rate    = {space['learning_rate']},\n",
    "max_depth        = {space['max_depth']},\n",
    "min_child_weight = {space['min_child_weight']},\n",
    "gamma            = {space['gamma']},\n",
    "colsample_bytree = {space['colsample_bytree']},\n",
    "subsample        = {space['subsample']},\n",
    "n_estimators     = {space['n_estimators']},\n",
    "------------------------\n",
    "''')\n",
    "    \n",
    "    clf.fit(X_train, y_train, **fit_params)\n",
    "    \n",
    "    y_pred = clf.predict(X_test)\n",
    "    preds = clf.predict_proba(X_test)[:,1]\n",
    "    \n",
    "    accuracy = accuracy_score(y_test, y_pred)\n",
    "    roc_auc = roc_auc_score(y_test, preds)\n",
    "\n",
    "    print(f\"accuracy = {accuracy}, roc_auc = {roc_auc}\")\n",
    "    \n",
    "    return {'loss': -roc_auc, 'status': STATUS_OK}"
   ]
  },
  {
   "cell_type": "code",
   "execution_count": 254,
   "metadata": {
    "scrolled": true
   },
   "outputs": [
    {
     "name": "stdout",
     "output_type": "stream",
     "text": [
      "                                                       \n",
      "------------------------\n",
      "learning_rate    = 0.05,\n",
      "max_depth        = 3,\n",
      "min_child_weight = 7,\n",
      "gamma            = 0.4,\n",
      "colsample_bytree = 0.7000000000000002,\n",
      "subsample        = 0.8,\n",
      "n_estimators     = 1000,\n",
      "------------------------\n",
      "\n",
      "accuracy = 0.8681336396243904, roc_auc = 0.727114184327306\n",
      "                                                                                 \n",
      "------------------------\n",
      "learning_rate    = 0.2,\n",
      "max_depth        = 1,\n",
      "min_child_weight = 1,\n",
      "gamma            = 0.1,\n",
      "colsample_bytree = 0.6000000000000001,\n",
      "subsample        = 0.8500000000000001,\n",
      "n_estimators     = 1000,\n",
      "------------------------\n",
      "\n",
      "  1%|          | 1/100 [00:02<04:34,  2.77s/trial, best loss: -0.727114184327306]"
     ]
    },
    {
     "name": "stderr",
     "output_type": "stream",
     "text": [
      "/usr/local/lib/python3.9/site-packages/xgboost/data.py:112: UserWarning: Use subset (sliced data) of np.ndarray is not recommended because it will generate extra copies and increase memory consumption\n",
      "  warnings.warn(\n",
      "\n"
     ]
    },
    {
     "name": "stdout",
     "output_type": "stream",
     "text": [
      "accuracy = 0.8675694192560351, roc_auc = 0.725047219984                          \n",
      "                                                                                 \n",
      "------------------------\n",
      "learning_rate    = 0.1,\n",
      "max_depth        = 4,\n",
      "min_child_weight = 1,\n",
      "gamma            = 0.1,\n",
      "colsample_bytree = 0.3,\n",
      "subsample        = 0.9000000000000001,\n",
      "n_estimators     = 1000,\n",
      "------------------------\n",
      "\n",
      "  2%|▏         | 2/100 [00:03<02:52,  1.76s/trial, best loss: -0.727114184327306]"
     ]
    },
    {
     "name": "stderr",
     "output_type": "stream",
     "text": [
      "/usr/local/lib/python3.9/site-packages/xgboost/data.py:112: UserWarning: Use subset (sliced data) of np.ndarray is not recommended because it will generate extra copies and increase memory consumption\n",
      "  warnings.warn(\n",
      "\n"
     ]
    },
    {
     "name": "stdout",
     "output_type": "stream",
     "text": [
      "accuracy = 0.8666827872486197, roc_auc = 0.726049956013465                       \n",
      "                                                                                 \n",
      "------------------------\n",
      "learning_rate    = 0.2,\n",
      "max_depth        = 4,\n",
      "min_child_weight = 2,\n",
      "gamma            = 0.2,\n",
      "colsample_bytree = 0.5,\n",
      "subsample        = 0.9000000000000001,\n",
      "n_estimators     = 1000,\n",
      "------------------------\n",
      "\n",
      "  3%|▎         | 3/100 [00:08<04:44,  2.94s/trial, best loss: -0.727114184327306]"
     ]
    },
    {
     "name": "stderr",
     "output_type": "stream",
     "text": [
      "/usr/local/lib/python3.9/site-packages/xgboost/data.py:112: UserWarning: Use subset (sliced data) of np.ndarray is not recommended because it will generate extra copies and increase memory consumption\n",
      "  warnings.warn(\n",
      "\n"
     ]
    },
    {
     "name": "stdout",
     "output_type": "stream",
     "text": [
      "accuracy = 0.8674082134365051, roc_auc = 0.7266551757415575                      \n",
      "                                                                                 \n",
      "------------------------\n",
      "learning_rate    = 0.1,\n",
      "max_depth        = 4,\n",
      "min_child_weight = 4,\n",
      "gamma            = 0.2,\n",
      "colsample_bytree = 0.5,\n",
      "subsample        = 0.8500000000000001,\n",
      "n_estimators     = 1000,\n",
      "------------------------\n",
      "\n",
      "  4%|▍         | 4/100 [00:08<03:19,  2.08s/trial, best loss: -0.727114184327306]"
     ]
    },
    {
     "name": "stderr",
     "output_type": "stream",
     "text": [
      "/usr/local/lib/python3.9/site-packages/xgboost/data.py:112: UserWarning: Use subset (sliced data) of np.ndarray is not recommended because it will generate extra copies and increase memory consumption\n",
      "  warnings.warn(\n",
      "\n"
     ]
    },
    {
     "name": "stdout",
     "output_type": "stream",
     "text": [
      "accuracy = 0.8680127352597429, roc_auc = 0.726202977331141                       \n",
      "                                                                                 \n",
      "------------------------\n",
      "learning_rate    = 0.05,\n",
      "max_depth        = 1,\n",
      "min_child_weight = 3,\n",
      "gamma            = 0.2,\n",
      "colsample_bytree = 0.3,\n",
      "subsample        = 0.8500000000000001,\n",
      "n_estimators     = 1000,\n",
      "------------------------\n",
      "\n",
      "  5%|▌         | 5/100 [00:09<02:39,  1.68s/trial, best loss: -0.727114184327306]"
     ]
    },
    {
     "name": "stderr",
     "output_type": "stream",
     "text": [
      "/usr/local/lib/python3.9/site-packages/xgboost/data.py:112: UserWarning: Use subset (sliced data) of np.ndarray is not recommended because it will generate extra copies and increase memory consumption\n",
      "  warnings.warn(\n",
      "\n"
     ]
    },
    {
     "name": "stdout",
     "output_type": "stream",
     "text": [
      "accuracy = 0.8676097207109177, roc_auc = 0.7243417854806952                      \n",
      "                                                                                 \n",
      "------------------------\n",
      "learning_rate    = 0.05,\n",
      "max_depth        = 1,\n",
      "min_child_weight = 7,\n",
      "gamma            = 0.30000000000000004,\n",
      "colsample_bytree = 0.4,\n",
      "subsample        = 1.0000000000000002,\n",
      "n_estimators     = 1000,\n",
      "------------------------\n",
      "\n",
      "  6%|▌         | 6/100 [00:13<03:32,  2.26s/trial, best loss: -0.727114184327306]"
     ]
    },
    {
     "name": "stderr",
     "output_type": "stream",
     "text": [
      "/usr/local/lib/python3.9/site-packages/xgboost/data.py:112: UserWarning: Use subset (sliced data) of np.ndarray is not recommended because it will generate extra copies and increase memory consumption\n",
      "  warnings.warn(\n",
      "\n"
     ]
    },
    {
     "name": "stdout",
     "output_type": "stream",
     "text": [
      "accuracy = 0.8642243985007859, roc_auc = 0.7242915742794405                      \n",
      "                                                                                 \n",
      "------------------------\n",
      "learning_rate    = 0.2,\n",
      "max_depth        = 3,\n",
      "min_child_weight = 3,\n",
      "gamma            = 0.0,\n",
      "colsample_bytree = 0.7000000000000002,\n",
      "subsample        = 0.8,\n",
      "n_estimators     = 1000,\n",
      "------------------------\n",
      "\n",
      "  7%|▋         | 7/100 [00:14<02:59,  1.93s/trial, best loss: -0.727114184327306]"
     ]
    },
    {
     "name": "stderr",
     "output_type": "stream",
     "text": [
      "/usr/local/lib/python3.9/site-packages/xgboost/data.py:112: UserWarning: Use subset (sliced data) of np.ndarray is not recommended because it will generate extra copies and increase memory consumption\n",
      "  warnings.warn(\n",
      "\n"
     ]
    },
    {
     "name": "stdout",
     "output_type": "stream",
     "text": [
      "accuracy = 0.8677709265304477, roc_auc = 0.7267486703132664                      \n",
      "                                                                                 \n",
      "------------------------\n",
      "learning_rate    = 0.1,\n",
      "max_depth        = 2,\n",
      "min_child_weight = 4,\n",
      "gamma            = 0.4,\n",
      "colsample_bytree = 0.5,\n",
      "subsample        = 0.9000000000000001,\n",
      "n_estimators     = 1000,\n",
      "------------------------\n",
      "\n",
      "  8%|▊         | 8/100 [00:16<03:09,  2.06s/trial, best loss: -0.727114184327306]"
     ]
    },
    {
     "name": "stderr",
     "output_type": "stream",
     "text": [
      "/usr/local/lib/python3.9/site-packages/xgboost/data.py:112: UserWarning: Use subset (sliced data) of np.ndarray is not recommended because it will generate extra copies and increase memory consumption\n",
      "  warnings.warn(\n",
      "\n"
     ]
    },
    {
     "name": "stdout",
     "output_type": "stream",
     "text": [
      "accuracy = 0.8677306250755652, roc_auc = 0.7268399501938105                      \n",
      "                                                                                 \n",
      "------------------------\n",
      "learning_rate    = 0.2,\n",
      "max_depth        = 2,\n",
      "min_child_weight = 6,\n",
      "gamma            = 0.1,\n",
      "colsample_bytree = 0.5,\n",
      "subsample        = 0.8500000000000001,\n",
      "n_estimators     = 1000,\n",
      "------------------------\n",
      "\n",
      "  9%|▉         | 9/100 [00:19<03:10,  2.09s/trial, best loss: -0.727114184327306]"
     ]
    },
    {
     "name": "stderr",
     "output_type": "stream",
     "text": [
      "/usr/local/lib/python3.9/site-packages/xgboost/data.py:112: UserWarning: Use subset (sliced data) of np.ndarray is not recommended because it will generate extra copies and increase memory consumption\n",
      "  warnings.warn(\n",
      "\n"
     ]
    },
    {
     "name": "stdout",
     "output_type": "stream",
     "text": [
      "accuracy = 0.8680127352597429, roc_auc = 0.7261947345274615                      \n",
      "                                                                                  \n",
      "------------------------\n",
      "learning_rate    = 0.1,\n",
      "max_depth        = 3,\n",
      "min_child_weight = 3,\n",
      "gamma            = 0.0,\n",
      "colsample_bytree = 0.7000000000000002,\n",
      "subsample        = 0.9500000000000002,\n",
      "n_estimators     = 1000,\n",
      "------------------------\n",
      "\n",
      " 10%|█         | 10/100 [00:19<02:36,  1.73s/trial, best loss: -0.727114184327306]"
     ]
    },
    {
     "name": "stderr",
     "output_type": "stream",
     "text": [
      "/usr/local/lib/python3.9/site-packages/xgboost/data.py:112: UserWarning: Use subset (sliced data) of np.ndarray is not recommended because it will generate extra copies and increase memory consumption\n",
      "  warnings.warn(\n",
      "\n"
     ]
    },
    {
     "name": "stdout",
     "output_type": "stream",
     "text": [
      "accuracy = 0.8672067061620925, roc_auc = 0.727269918641659                        \n",
      "                                                                                  \n",
      "------------------------\n",
      "learning_rate    = 0.05,\n",
      "max_depth        = 2,\n",
      "min_child_weight = 7,\n",
      "gamma            = 0.4,\n",
      "colsample_bytree = 0.5,\n",
      "subsample        = 0.9000000000000001,\n",
      "n_estimators     = 1000,\n",
      "------------------------\n",
      "\n",
      " 11%|█         | 11/100 [00:21<02:35,  1.75s/trial, best loss: -0.727269918641659]"
     ]
    },
    {
     "name": "stderr",
     "output_type": "stream",
     "text": [
      "/usr/local/lib/python3.9/site-packages/xgboost/data.py:112: UserWarning: Use subset (sliced data) of np.ndarray is not recommended because it will generate extra copies and increase memory consumption\n",
      "  warnings.warn(\n",
      "\n"
     ]
    },
    {
     "name": "stdout",
     "output_type": "stream",
     "text": [
      "accuracy = 0.8678112279853303, roc_auc = 0.7255605715542077                       \n",
      "                                                                                  \n",
      "------------------------\n",
      "learning_rate    = 0.05,\n",
      "max_depth        = 2,\n",
      "min_child_weight = 4,\n",
      "gamma            = 0.0,\n",
      "colsample_bytree = 0.4,\n",
      "subsample        = 0.8500000000000001,\n",
      "n_estimators     = 1000,\n",
      "------------------------\n",
      "\n",
      " 12%|█▏        | 12/100 [00:23<02:43,  1.86s/trial, best loss: -0.727269918641659]"
     ]
    },
    {
     "name": "stderr",
     "output_type": "stream",
     "text": [
      "/usr/local/lib/python3.9/site-packages/xgboost/data.py:112: UserWarning: Use subset (sliced data) of np.ndarray is not recommended because it will generate extra copies and increase memory consumption\n",
      "  warnings.warn(\n",
      "\n"
     ]
    },
    {
     "name": "stdout",
     "output_type": "stream",
     "text": [
      "accuracy = 0.8676097207109177, roc_auc = 0.7246252313452549                       \n",
      "                                                                                  \n",
      "------------------------\n",
      "learning_rate    = 0.2,\n",
      "max_depth        = 2,\n",
      "min_child_weight = 2,\n",
      "gamma            = 0.4,\n",
      "colsample_bytree = 0.4,\n",
      "subsample        = 0.8,\n",
      "n_estimators     = 1000,\n",
      "------------------------\n",
      "\n",
      " 13%|█▎        | 13/100 [00:25<02:29,  1.72s/trial, best loss: -0.727269918641659]"
     ]
    },
    {
     "name": "stderr",
     "output_type": "stream",
     "text": [
      "/usr/local/lib/python3.9/site-packages/xgboost/data.py:112: UserWarning: Use subset (sliced data) of np.ndarray is not recommended because it will generate extra copies and increase memory consumption\n",
      "  warnings.warn(\n",
      "\n"
     ]
    },
    {
     "name": "stdout",
     "output_type": "stream",
     "text": [
      "accuracy = 0.8676500221658002, roc_auc = 0.7269735237546945                       \n",
      "                                                                                  \n",
      "------------------------\n",
      "learning_rate    = 0.05,\n",
      "max_depth        = 3,\n",
      "min_child_weight = 5,\n",
      "gamma            = 0.1,\n",
      "colsample_bytree = 0.5,\n",
      "subsample        = 1.0000000000000002,\n",
      "n_estimators     = 1000,\n",
      "------------------------\n",
      "\n",
      " 14%|█▍        | 14/100 [00:26<02:23,  1.67s/trial, best loss: -0.727269918641659]"
     ]
    },
    {
     "name": "stderr",
     "output_type": "stream",
     "text": [
      "/usr/local/lib/python3.9/site-packages/xgboost/data.py:112: UserWarning: Use subset (sliced data) of np.ndarray is not recommended because it will generate extra copies and increase memory consumption\n",
      "  warnings.warn(\n",
      "\n"
     ]
    },
    {
     "name": "stdout",
     "output_type": "stream",
     "text": [
      "accuracy = 0.8674082134365051, roc_auc = 0.7271516126079931                       \n",
      "                                                                                  \n",
      "------------------------\n",
      "learning_rate    = 0.2,\n",
      "max_depth        = 4,\n",
      "min_child_weight = 3,\n",
      "gamma            = 0.1,\n",
      "colsample_bytree = 0.5,\n",
      "subsample        = 0.9000000000000001,\n",
      "n_estimators     = 1000,\n",
      "------------------------\n",
      "\n",
      " 15%|█▌        | 15/100 [00:30<03:06,  2.20s/trial, best loss: -0.727269918641659]"
     ]
    },
    {
     "name": "stderr",
     "output_type": "stream",
     "text": [
      "/usr/local/lib/python3.9/site-packages/xgboost/data.py:112: UserWarning: Use subset (sliced data) of np.ndarray is not recommended because it will generate extra copies and increase memory consumption\n",
      "  warnings.warn(\n",
      "\n"
     ]
    },
    {
     "name": "stdout",
     "output_type": "stream",
     "text": [
      "accuracy = 0.8675694192560351, roc_auc = 0.7272728807910921                       \n",
      "                                                                                   \n",
      "------------------------\n",
      "learning_rate    = 0.15000000000000002,\n",
      "max_depth        = 2,\n",
      "min_child_weight = 4,\n",
      "gamma            = 0.0,\n",
      "colsample_bytree = 0.5,\n",
      "subsample        = 1.0000000000000002,\n",
      "n_estimators     = 1000,\n",
      "------------------------\n",
      "\n",
      " 16%|█▌        | 16/100 [00:31<02:33,  1.82s/trial, best loss: -0.7272728807910921]"
     ]
    },
    {
     "name": "stderr",
     "output_type": "stream",
     "text": [
      "/usr/local/lib/python3.9/site-packages/xgboost/data.py:112: UserWarning: Use subset (sliced data) of np.ndarray is not recommended because it will generate extra copies and increase memory consumption\n",
      "  warnings.warn(\n",
      "\n"
     ]
    },
    {
     "name": "stdout",
     "output_type": "stream",
     "text": [
      "accuracy = 0.8676500221658002, roc_auc = 0.7264314434875317                        \n",
      "                                                                                   \n",
      "------------------------\n",
      "learning_rate    = 0.15000000000000002,\n",
      "max_depth        = 2,\n",
      "min_child_weight = 4,\n",
      "gamma            = 0.30000000000000004,\n",
      "colsample_bytree = 0.6000000000000001,\n",
      "subsample        = 1.0000000000000002,\n",
      "n_estimators     = 1000,\n",
      "------------------------\n",
      "\n",
      " 17%|█▋        | 17/100 [00:32<02:14,  1.62s/trial, best loss: -0.7272728807910921]"
     ]
    },
    {
     "name": "stderr",
     "output_type": "stream",
     "text": [
      "/usr/local/lib/python3.9/site-packages/xgboost/data.py:112: UserWarning: Use subset (sliced data) of np.ndarray is not recommended because it will generate extra copies and increase memory consumption\n",
      "  warnings.warn(\n",
      "\n"
     ]
    },
    {
     "name": "stdout",
     "output_type": "stream",
     "text": [
      "accuracy = 0.8676500221658002, roc_auc = 0.7266467599151307                        \n",
      "                                                                                   \n",
      "------------------------\n",
      "learning_rate    = 0.15000000000000002,\n",
      "max_depth        = 4,\n",
      "min_child_weight = 5,\n",
      "gamma            = 0.4,\n",
      "colsample_bytree = 0.7000000000000002,\n",
      "subsample        = 1.0000000000000002,\n",
      "n_estimators     = 1000,\n",
      "------------------------\n",
      "\n",
      " 18%|█▊        | 18/100 [00:33<01:58,  1.45s/trial, best loss: -0.7272728807910921]"
     ]
    },
    {
     "name": "stderr",
     "output_type": "stream",
     "text": [
      "/usr/local/lib/python3.9/site-packages/xgboost/data.py:112: UserWarning: Use subset (sliced data) of np.ndarray is not recommended because it will generate extra copies and increase memory consumption\n",
      "  warnings.warn(\n",
      "\n"
     ]
    },
    {
     "name": "stdout",
     "output_type": "stream",
     "text": [
      "accuracy = 0.8668842945230323, roc_auc = 0.7267257828642589                        \n",
      "                                                                                   \n",
      "------------------------\n",
      "learning_rate    = 0.05,\n",
      "max_depth        = 2,\n",
      "min_child_weight = 6,\n",
      "gamma            = 0.4,\n",
      "colsample_bytree = 0.3,\n",
      "subsample        = 0.9000000000000001,\n",
      "n_estimators     = 1000,\n",
      "------------------------\n",
      "\n",
      " 19%|█▉        | 19/100 [00:34<01:55,  1.43s/trial, best loss: -0.7272728807910921]"
     ]
    },
    {
     "name": "stderr",
     "output_type": "stream",
     "text": [
      "/usr/local/lib/python3.9/site-packages/xgboost/data.py:112: UserWarning: Use subset (sliced data) of np.ndarray is not recommended because it will generate extra copies and increase memory consumption\n",
      "  warnings.warn(\n",
      "\n"
     ]
    },
    {
     "name": "stdout",
     "output_type": "stream",
     "text": [
      "accuracy = 0.8652319348728489, roc_auc = 0.7239784584741809                        \n",
      "                                                                                   \n",
      "------------------------\n",
      "learning_rate    = 0.1,\n",
      "max_depth        = 3,\n",
      "min_child_weight = 3,\n",
      "gamma            = 0.0,\n",
      "colsample_bytree = 0.7000000000000002,\n",
      "subsample        = 0.9500000000000002,\n",
      "n_estimators     = 1000,\n",
      "------------------------\n",
      "\n",
      " 20%|██        | 20/100 [00:35<01:42,  1.28s/trial, best loss: -0.7272728807910921]"
     ]
    },
    {
     "name": "stderr",
     "output_type": "stream",
     "text": [
      "/usr/local/lib/python3.9/site-packages/xgboost/data.py:112: UserWarning: Use subset (sliced data) of np.ndarray is not recommended because it will generate extra copies and increase memory consumption\n",
      "  warnings.warn(\n",
      "\n"
     ]
    },
    {
     "name": "stdout",
     "output_type": "stream",
     "text": [
      "accuracy = 0.8672067061620925, roc_auc = 0.727269918641659                         \n",
      "                                                                                   \n",
      "------------------------\n",
      "learning_rate    = 0.1,\n",
      "max_depth        = 4,\n",
      "min_child_weight = 3,\n",
      "gamma            = 0.0,\n",
      "colsample_bytree = 0.7000000000000002,\n",
      "subsample        = 0.9500000000000002,\n",
      "n_estimators     = 1000,\n",
      "------------------------\n",
      "\n",
      " 21%|██        | 21/100 [00:38<02:06,  1.60s/trial, best loss: -0.7272728807910921]"
     ]
    },
    {
     "name": "stderr",
     "output_type": "stream",
     "text": [
      "/usr/local/lib/python3.9/site-packages/xgboost/data.py:112: UserWarning: Use subset (sliced data) of np.ndarray is not recommended because it will generate extra copies and increase memory consumption\n",
      "  warnings.warn(\n",
      "\n"
     ]
    },
    {
     "name": "stdout",
     "output_type": "stream",
     "text": [
      "accuracy = 0.8670455003425623, roc_auc = 0.7269372374241392                        \n",
      "                                                                                   \n",
      "------------------------\n",
      "learning_rate    = 0.2,\n",
      "max_depth        = 3,\n",
      "min_child_weight = 3,\n",
      "gamma            = 0.1,\n",
      "colsample_bytree = 0.7000000000000002,\n",
      "subsample        = 0.9500000000000002,\n",
      "n_estimators     = 1000,\n",
      "------------------------\n",
      "\n",
      " 22%|██▏       | 22/100 [00:41<02:48,  2.16s/trial, best loss: -0.7272728807910921]"
     ]
    },
    {
     "name": "stderr",
     "output_type": "stream",
     "text": [
      "/usr/local/lib/python3.9/site-packages/xgboost/data.py:112: UserWarning: Use subset (sliced data) of np.ndarray is not recommended because it will generate extra copies and increase memory consumption\n",
      "  warnings.warn(\n",
      "\n"
     ]
    },
    {
     "name": "stdout",
     "output_type": "stream",
     "text": [
      "accuracy = 0.8676903236206827, roc_auc = 0.7269725133018503                        \n",
      "                                                                                   \n",
      "------------------------\n",
      "learning_rate    = 0.1,\n",
      "max_depth        = 3,\n",
      "min_child_weight = 3,\n",
      "gamma            = 0.1,\n",
      "colsample_bytree = 0.6000000000000001,\n",
      "subsample        = 0.9500000000000002,\n",
      "n_estimators     = 1000,\n",
      "------------------------\n",
      "\n",
      " 23%|██▎       | 23/100 [00:42<02:16,  1.77s/trial, best loss: -0.7272728807910921]"
     ]
    },
    {
     "name": "stderr",
     "output_type": "stream",
     "text": [
      "/usr/local/lib/python3.9/site-packages/xgboost/data.py:112: UserWarning: Use subset (sliced data) of np.ndarray is not recommended because it will generate extra copies and increase memory consumption\n",
      "  warnings.warn(\n",
      "\n"
     ]
    },
    {
     "name": "stdout",
     "output_type": "stream",
     "text": [
      "accuracy = 0.8672067061620925, roc_auc = 0.7272610737188191                        \n",
      "                                                                                   \n",
      "------------------------\n",
      "learning_rate    = 0.1,\n",
      "max_depth        = 4,\n",
      "min_child_weight = 3,\n",
      "gamma            = 0.0,\n",
      "colsample_bytree = 0.7000000000000002,\n",
      "subsample        = 0.9500000000000002,\n",
      "n_estimators     = 1000,\n",
      "------------------------\n",
      "\n",
      " 24%|██▍       | 24/100 [00:44<02:24,  1.90s/trial, best loss: -0.7272728807910921]"
     ]
    },
    {
     "name": "stderr",
     "output_type": "stream",
     "text": [
      "/usr/local/lib/python3.9/site-packages/xgboost/data.py:112: UserWarning: Use subset (sliced data) of np.ndarray is not recommended because it will generate extra copies and increase memory consumption\n",
      "  warnings.warn(\n",
      "\n"
     ]
    },
    {
     "name": "stdout",
     "output_type": "stream",
     "text": [
      "accuracy = 0.8670455003425623, roc_auc = 0.7269372374241392                        \n",
      "                                                                                   \n",
      "------------------------\n",
      "learning_rate    = 0.2,\n",
      "max_depth        = 3,\n",
      "min_child_weight = 3,\n",
      "gamma            = 0.30000000000000004,\n",
      "colsample_bytree = 0.3,\n",
      "subsample        = 0.9000000000000001,\n",
      "n_estimators     = 1000,\n",
      "------------------------\n",
      "\n",
      " 25%|██▌       | 25/100 [00:46<02:28,  1.97s/trial, best loss: -0.7272728807910921]"
     ]
    },
    {
     "name": "stderr",
     "output_type": "stream",
     "text": [
      "/usr/local/lib/python3.9/site-packages/xgboost/data.py:112: UserWarning: Use subset (sliced data) of np.ndarray is not recommended because it will generate extra copies and increase memory consumption\n",
      "  warnings.warn(\n",
      "\n"
     ]
    },
    {
     "name": "stdout",
     "output_type": "stream",
     "text": [
      "accuracy = 0.8672067061620925, roc_auc = 0.7253249214933506                        \n",
      "                                                                                   \n",
      "------------------------\n",
      "learning_rate    = 0.15000000000000002,\n",
      "max_depth        = 4,\n",
      "min_child_weight = 2,\n",
      "gamma            = 0.0,\n",
      "colsample_bytree = 0.5,\n",
      "subsample        = 0.9500000000000002,\n",
      "n_estimators     = 1000,\n",
      "------------------------\n",
      "\n",
      " 26%|██▌       | 26/100 [00:48<02:20,  1.90s/trial, best loss: -0.7272728807910921]"
     ]
    },
    {
     "name": "stderr",
     "output_type": "stream",
     "text": [
      "/usr/local/lib/python3.9/site-packages/xgboost/data.py:112: UserWarning: Use subset (sliced data) of np.ndarray is not recommended because it will generate extra copies and increase memory consumption\n",
      "  warnings.warn(\n",
      "\n"
     ]
    },
    {
     "name": "stdout",
     "output_type": "stream",
     "text": [
      "accuracy = 0.86732761052674, roc_auc = 0.7271772338164072                          \n",
      "                                                                                   \n",
      "------------------------\n",
      "learning_rate    = 0.2,\n",
      "max_depth        = 1,\n",
      "min_child_weight = 3,\n",
      "gamma            = 0.1,\n",
      "colsample_bytree = 0.7000000000000002,\n",
      "subsample        = 0.9500000000000002,\n",
      "n_estimators     = 1000,\n",
      "------------------------\n",
      "\n",
      " 27%|██▋       | 27/100 [00:50<02:17,  1.88s/trial, best loss: -0.7272728807910921]"
     ]
    },
    {
     "name": "stderr",
     "output_type": "stream",
     "text": [
      "/usr/local/lib/python3.9/site-packages/xgboost/data.py:112: UserWarning: Use subset (sliced data) of np.ndarray is not recommended because it will generate extra copies and increase memory consumption\n",
      "  warnings.warn(\n",
      "\n"
     ]
    },
    {
     "name": "stdout",
     "output_type": "stream",
     "text": [
      "accuracy = 0.8677709265304477, roc_auc = 0.72546511144409                          \n",
      "                                                                                   \n",
      "------------------------\n",
      "learning_rate    = 0.1,\n",
      "max_depth        = 3,\n",
      "min_child_weight = 6,\n",
      "gamma            = 0.1,\n",
      "colsample_bytree = 0.4,\n",
      "subsample        = 0.8,\n",
      "n_estimators     = 1000,\n",
      "------------------------\n",
      "\n",
      " 28%|██▊       | 28/100 [00:52<02:28,  2.06s/trial, best loss: -0.7272728807910921]"
     ]
    },
    {
     "name": "stderr",
     "output_type": "stream",
     "text": [
      "/usr/local/lib/python3.9/site-packages/xgboost/data.py:112: UserWarning: Use subset (sliced data) of np.ndarray is not recommended because it will generate extra copies and increase memory consumption\n",
      "  warnings.warn(\n",
      "\n"
     ]
    },
    {
     "name": "stdout",
     "output_type": "stream",
     "text": [
      "accuracy = 0.8679321323499778, roc_auc = 0.7265684221360819                        \n",
      "                                                                                   \n",
      "------------------------\n",
      "learning_rate    = 0.2,\n",
      "max_depth        = 4,\n",
      "min_child_weight = 1,\n",
      "gamma            = 0.0,\n",
      "colsample_bytree = 0.6000000000000001,\n",
      "subsample        = 0.9000000000000001,\n",
      "n_estimators     = 1000,\n",
      "------------------------\n",
      "\n",
      " 29%|██▉       | 29/100 [00:56<02:59,  2.52s/trial, best loss: -0.7272728807910921]"
     ]
    },
    {
     "name": "stderr",
     "output_type": "stream",
     "text": [
      "/usr/local/lib/python3.9/site-packages/xgboost/data.py:112: UserWarning: Use subset (sliced data) of np.ndarray is not recommended because it will generate extra copies and increase memory consumption\n",
      "  warnings.warn(\n",
      "\n"
     ]
    },
    {
     "name": "stdout",
     "output_type": "stream",
     "text": [
      "accuracy = 0.8671261032523274, roc_auc = 0.72650162151382                          \n",
      "                                                                                   \n",
      "------------------------\n",
      "learning_rate    = 0.1,\n",
      "max_depth        = 3,\n",
      "min_child_weight = 5,\n",
      "gamma            = 0.30000000000000004,\n",
      "colsample_bytree = 0.7000000000000002,\n",
      "subsample        = 0.9000000000000001,\n",
      "n_estimators     = 1000,\n",
      "------------------------\n",
      "\n",
      " 30%|███       | 30/100 [00:57<02:33,  2.19s/trial, best loss: -0.7272728807910921]"
     ]
    },
    {
     "name": "stderr",
     "output_type": "stream",
     "text": [
      "/usr/local/lib/python3.9/site-packages/xgboost/data.py:112: UserWarning: Use subset (sliced data) of np.ndarray is not recommended because it will generate extra copies and increase memory consumption\n",
      "  warnings.warn(\n",
      "\n"
     ]
    },
    {
     "name": "stdout",
     "output_type": "stream",
     "text": [
      "accuracy = 0.8674485148913876, roc_auc = 0.7270295692829865                        \n",
      "                                                                                   \n",
      "------------------------\n",
      "learning_rate    = 0.2,\n",
      "max_depth        = 4,\n",
      "min_child_weight = 1,\n",
      "gamma            = 0.2,\n",
      "colsample_bytree = 0.6000000000000001,\n",
      "subsample        = 0.9500000000000002,\n",
      "n_estimators     = 1000,\n",
      "------------------------\n",
      "\n",
      " 31%|███       | 31/100 [01:00<02:32,  2.22s/trial, best loss: -0.7272728807910921]"
     ]
    },
    {
     "name": "stderr",
     "output_type": "stream",
     "text": [
      "/usr/local/lib/python3.9/site-packages/xgboost/data.py:112: UserWarning: Use subset (sliced data) of np.ndarray is not recommended because it will generate extra copies and increase memory consumption\n",
      "  warnings.warn(\n",
      "\n"
     ]
    },
    {
     "name": "stdout",
     "output_type": "stream",
     "text": [
      "accuracy = 0.8669245959779148, roc_auc = 0.7266597435420853                        \n",
      "                                                                                   \n",
      "------------------------\n",
      "learning_rate    = 0.1,\n",
      "max_depth        = 1,\n",
      "min_child_weight = 7,\n",
      "gamma            = 0.1,\n",
      "colsample_bytree = 0.5,\n",
      "subsample        = 0.8,\n",
      "n_estimators     = 1000,\n",
      "------------------------\n",
      "\n",
      " 32%|███▏      | 32/100 [01:01<02:20,  2.07s/trial, best loss: -0.7272728807910921]"
     ]
    },
    {
     "name": "stderr",
     "output_type": "stream",
     "text": [
      "/usr/local/lib/python3.9/site-packages/xgboost/data.py:112: UserWarning: Use subset (sliced data) of np.ndarray is not recommended because it will generate extra copies and increase memory consumption\n",
      "  warnings.warn(\n",
      "\n"
     ]
    },
    {
     "name": "stdout",
     "output_type": "stream",
     "text": [
      "accuracy = 0.8642243985007859, roc_auc = 0.7233591477735515                        \n",
      "                                                                                   \n",
      "------------------------\n",
      "learning_rate    = 0.2,\n",
      "max_depth        = 4,\n",
      "min_child_weight = 3,\n",
      "gamma            = 0.1,\n",
      "colsample_bytree = 0.3,\n",
      "subsample        = 0.9000000000000001,\n",
      "n_estimators     = 1000,\n",
      "------------------------\n",
      "\n",
      " 33%|███▎      | 33/100 [01:03<02:01,  1.82s/trial, best loss: -0.7272728807910921]"
     ]
    },
    {
     "name": "stderr",
     "output_type": "stream",
     "text": [
      "/usr/local/lib/python3.9/site-packages/xgboost/data.py:112: UserWarning: Use subset (sliced data) of np.ndarray is not recommended because it will generate extra copies and increase memory consumption\n",
      "  warnings.warn(\n",
      "\n"
     ]
    },
    {
     "name": "stdout",
     "output_type": "stream",
     "text": [
      "accuracy = 0.866239471244912, roc_auc = 0.7249542306387131                         \n",
      "                                                                                   \n",
      "------------------------\n",
      "learning_rate    = 0.15000000000000002,\n",
      "max_depth        = 3,\n",
      "min_child_weight = 2,\n",
      "gamma            = 0.0,\n",
      "colsample_bytree = 0.7000000000000002,\n",
      "subsample        = 0.9000000000000001,\n",
      "n_estimators     = 1000,\n",
      "------------------------\n",
      "\n",
      " 34%|███▍      | 34/100 [01:04<01:56,  1.76s/trial, best loss: -0.7272728807910921]"
     ]
    },
    {
     "name": "stderr",
     "output_type": "stream",
     "text": [
      "/usr/local/lib/python3.9/site-packages/xgboost/data.py:112: UserWarning: Use subset (sliced data) of np.ndarray is not recommended because it will generate extra copies and increase memory consumption\n",
      "  warnings.warn(\n",
      "\n"
     ]
    },
    {
     "name": "stdout",
     "output_type": "stream",
     "text": [
      "accuracy = 0.8679724338048603, roc_auc = 0.726396513655315                         \n",
      "                                                                                   \n",
      "------------------------\n",
      "learning_rate    = 0.1,\n",
      "max_depth        = 4,\n",
      "min_child_weight = 1,\n",
      "gamma            = 0.1,\n",
      "colsample_bytree = 0.5,\n",
      "subsample        = 0.8500000000000001,\n",
      "n_estimators     = 1000,\n",
      "------------------------\n",
      "\n",
      " 35%|███▌      | 35/100 [01:05<01:40,  1.55s/trial, best loss: -0.7272728807910921]"
     ]
    },
    {
     "name": "stderr",
     "output_type": "stream",
     "text": [
      "/usr/local/lib/python3.9/site-packages/xgboost/data.py:112: UserWarning: Use subset (sliced data) of np.ndarray is not recommended because it will generate extra copies and increase memory consumption\n",
      "  warnings.warn(\n",
      "\n"
     ]
    },
    {
     "name": "stdout",
     "output_type": "stream",
     "text": [
      "accuracy = 0.8681336396243904, roc_auc = 0.7261816194032192                        \n",
      "                                                                                   \n",
      "------------------------\n",
      "learning_rate    = 0.2,\n",
      "max_depth        = 1,\n",
      "min_child_weight = 3,\n",
      "gamma            = 0.2,\n",
      "colsample_bytree = 0.4,\n",
      "subsample        = 0.9500000000000002,\n",
      "n_estimators     = 1000,\n",
      "------------------------\n",
      "\n",
      " 36%|███▌      | 36/100 [01:06<01:26,  1.36s/trial, best loss: -0.7272728807910921]"
     ]
    },
    {
     "name": "stderr",
     "output_type": "stream",
     "text": [
      "/usr/local/lib/python3.9/site-packages/xgboost/data.py:112: UserWarning: Use subset (sliced data) of np.ndarray is not recommended because it will generate extra copies and increase memory consumption\n",
      "  warnings.warn(\n",
      "\n"
     ]
    },
    {
     "name": "stdout",
     "output_type": "stream",
     "text": [
      "accuracy = 0.8672067061620925, roc_auc = 0.7247130853754031                        \n",
      "                                                                                   \n",
      "------------------------\n",
      "learning_rate    = 0.1,\n",
      "max_depth        = 3,\n",
      "min_child_weight = 7,\n",
      "gamma            = 0.2,\n",
      "colsample_bytree = 0.3,\n",
      "subsample        = 0.9000000000000001,\n",
      "n_estimators     = 1000,\n",
      "------------------------\n",
      "\n",
      " 37%|███▋      | 37/100 [01:07<01:11,  1.13s/trial, best loss: -0.7272728807910921]"
     ]
    },
    {
     "name": "stderr",
     "output_type": "stream",
     "text": [
      "/usr/local/lib/python3.9/site-packages/xgboost/data.py:112: UserWarning: Use subset (sliced data) of np.ndarray is not recommended because it will generate extra copies and increase memory consumption\n",
      "  warnings.warn(\n",
      "\n"
     ]
    },
    {
     "name": "stdout",
     "output_type": "stream",
     "text": [
      "accuracy = 0.8667230887035022, roc_auc = 0.7260358304363789                        \n",
      "                                                                                   \n",
      "------------------------\n",
      "learning_rate    = 0.2,\n",
      "max_depth        = 4,\n",
      "min_child_weight = 3,\n",
      "gamma            = 0.30000000000000004,\n",
      "colsample_bytree = 0.5,\n",
      "subsample        = 0.8,\n",
      "n_estimators     = 1000,\n",
      "------------------------\n",
      "\n",
      " 38%|███▊      | 38/100 [01:09<01:36,  1.56s/trial, best loss: -0.7272728807910921]"
     ]
    },
    {
     "name": "stderr",
     "output_type": "stream",
     "text": [
      "/usr/local/lib/python3.9/site-packages/xgboost/data.py:112: UserWarning: Use subset (sliced data) of np.ndarray is not recommended because it will generate extra copies and increase memory consumption\n",
      "  warnings.warn(\n",
      "\n"
     ]
    },
    {
     "name": "stdout",
     "output_type": "stream",
     "text": [
      "accuracy = 0.8674485148913876, roc_auc = 0.7270632187468735                        \n",
      "                                                                                   \n",
      "------------------------\n",
      "learning_rate    = 0.1,\n",
      "max_depth        = 1,\n",
      "min_child_weight = 6,\n",
      "gamma            = 0.0,\n",
      "colsample_bytree = 0.7000000000000002,\n",
      "subsample        = 0.8500000000000001,\n",
      "n_estimators     = 1000,\n",
      "------------------------\n",
      "\n",
      " 39%|███▉      | 39/100 [01:10<01:22,  1.35s/trial, best loss: -0.7272728807910921]"
     ]
    },
    {
     "name": "stderr",
     "output_type": "stream",
     "text": [
      "/usr/local/lib/python3.9/site-packages/xgboost/data.py:112: UserWarning: Use subset (sliced data) of np.ndarray is not recommended because it will generate extra copies and increase memory consumption\n",
      "  warnings.warn(\n",
      "\n"
     ]
    },
    {
     "name": "stdout",
     "output_type": "stream",
     "text": [
      "accuracy = 0.8676097207109177, roc_auc = 0.7255995916441697                        \n",
      "                                                                                   \n",
      "------------------------\n",
      "learning_rate    = 0.2,\n",
      "max_depth        = 3,\n",
      "min_child_weight = 3,\n",
      "gamma            = 0.1,\n",
      "colsample_bytree = 0.5,\n",
      "subsample        = 0.9500000000000002,\n",
      "n_estimators     = 1000,\n",
      "------------------------\n",
      "\n",
      " 40%|████      | 40/100 [01:12<01:33,  1.56s/trial, best loss: -0.7272728807910921]"
     ]
    },
    {
     "name": "stderr",
     "output_type": "stream",
     "text": [
      "/usr/local/lib/python3.9/site-packages/xgboost/data.py:112: UserWarning: Use subset (sliced data) of np.ndarray is not recommended because it will generate extra copies and increase memory consumption\n",
      "  warnings.warn(\n",
      "\n"
     ]
    },
    {
     "name": "stdout",
     "output_type": "stream",
     "text": [
      "accuracy = 0.8676097207109177, roc_auc = 0.726400749252168                         \n",
      "                                                                                   \n",
      "------------------------\n",
      "learning_rate    = 0.05,\n",
      "max_depth        = 4,\n",
      "min_child_weight = 5,\n",
      "gamma            = 0.2,\n",
      "colsample_bytree = 0.6000000000000001,\n",
      "subsample        = 0.9000000000000001,\n",
      "n_estimators     = 1000,\n",
      "------------------------\n",
      "\n",
      " 41%|████      | 41/100 [01:14<01:31,  1.55s/trial, best loss: -0.7272728807910921]"
     ]
    },
    {
     "name": "stderr",
     "output_type": "stream",
     "text": [
      "/usr/local/lib/python3.9/site-packages/xgboost/data.py:112: UserWarning: Use subset (sliced data) of np.ndarray is not recommended because it will generate extra copies and increase memory consumption\n",
      "  warnings.warn(\n",
      "\n"
     ]
    },
    {
     "name": "stdout",
     "output_type": "stream",
     "text": [
      "accuracy = 0.8675694192560351, roc_auc = 0.7268170489029832                        \n",
      "                                                                                   \n",
      "------------------------\n",
      "learning_rate    = 0.1,\n",
      "max_depth        = 3,\n",
      "min_child_weight = 2,\n",
      "gamma            = 0.0,\n",
      "colsample_bytree = 0.7000000000000002,\n",
      "subsample        = 0.8500000000000001,\n",
      "n_estimators     = 1000,\n",
      "------------------------\n",
      "\n",
      " 42%|████▏     | 42/100 [01:18<02:09,  2.23s/trial, best loss: -0.7272728807910921]"
     ]
    },
    {
     "name": "stderr",
     "output_type": "stream",
     "text": [
      "/usr/local/lib/python3.9/site-packages/xgboost/data.py:112: UserWarning: Use subset (sliced data) of np.ndarray is not recommended because it will generate extra copies and increase memory consumption\n",
      "  warnings.warn(\n",
      "\n"
     ]
    },
    {
     "name": "stdout",
     "output_type": "stream",
     "text": [
      "accuracy = 0.8674888163462701, roc_auc = 0.7268567057166548                        \n",
      "                                                                                   \n",
      "------------------------\n",
      "learning_rate    = 0.15000000000000002,\n",
      "max_depth        = 4,\n",
      "min_child_weight = 3,\n",
      "gamma            = 0.4,\n",
      "colsample_bytree = 0.4,\n",
      "subsample        = 0.9000000000000001,\n",
      "n_estimators     = 1000,\n",
      "------------------------\n",
      "\n",
      " 43%|████▎     | 43/100 [01:19<01:54,  2.00s/trial, best loss: -0.7272728807910921]"
     ]
    },
    {
     "name": "stderr",
     "output_type": "stream",
     "text": [
      "/usr/local/lib/python3.9/site-packages/xgboost/data.py:112: UserWarning: Use subset (sliced data) of np.ndarray is not recommended because it will generate extra copies and increase memory consumption\n",
      "  warnings.warn(\n",
      "\n"
     ]
    },
    {
     "name": "stdout",
     "output_type": "stream",
     "text": [
      "accuracy = 0.8668036916132672, roc_auc = 0.7262917864468541                        \n",
      "                                                                                   \n",
      "------------------------\n",
      "learning_rate    = 0.2,\n",
      "max_depth        = 1,\n",
      "min_child_weight = 7,\n",
      "gamma            = 0.1,\n",
      "colsample_bytree = 0.5,\n",
      "subsample        = 1.0000000000000002,\n",
      "n_estimators     = 1000,\n",
      "------------------------\n",
      "\n",
      " 44%|████▍     | 44/100 [01:21<01:48,  1.94s/trial, best loss: -0.7272728807910921]"
     ]
    },
    {
     "name": "stderr",
     "output_type": "stream",
     "text": [
      "/usr/local/lib/python3.9/site-packages/xgboost/data.py:112: UserWarning: Use subset (sliced data) of np.ndarray is not recommended because it will generate extra copies and increase memory consumption\n",
      "  warnings.warn(\n",
      "\n"
     ]
    },
    {
     "name": "stdout",
     "output_type": "stream",
     "text": [
      "accuracy = 0.8677709265304477, roc_auc = 0.7256519967738594                        \n",
      "                                                                                   \n",
      "------------------------\n",
      "learning_rate    = 0.05,\n",
      "max_depth        = 3,\n",
      "min_child_weight = 4,\n",
      "gamma            = 0.0,\n",
      "colsample_bytree = 0.5,\n",
      "subsample        = 0.8,\n",
      "n_estimators     = 1000,\n",
      "------------------------\n",
      "\n",
      " 45%|████▌     | 45/100 [01:23<01:49,  1.99s/trial, best loss: -0.7272728807910921]"
     ]
    },
    {
     "name": "stderr",
     "output_type": "stream",
     "text": [
      "/usr/local/lib/python3.9/site-packages/xgboost/data.py:112: UserWarning: Use subset (sliced data) of np.ndarray is not recommended because it will generate extra copies and increase memory consumption\n",
      "  warnings.warn(\n",
      "\n"
     ]
    },
    {
     "name": "stdout",
     "output_type": "stream",
     "text": [
      "accuracy = 0.8676903236206827, roc_auc = 0.725294414122554                         \n",
      "                                                                                   \n",
      "------------------------\n",
      "learning_rate    = 0.1,\n",
      "max_depth        = 4,\n",
      "min_child_weight = 1,\n",
      "gamma            = 0.30000000000000004,\n",
      "colsample_bytree = 0.3,\n",
      "subsample        = 0.9500000000000002,\n",
      "n_estimators     = 1000,\n",
      "------------------------\n",
      "\n",
      " 46%|████▌     | 46/100 [01:24<01:35,  1.77s/trial, best loss: -0.7272728807910921]"
     ]
    },
    {
     "name": "stderr",
     "output_type": "stream",
     "text": [
      "/usr/local/lib/python3.9/site-packages/xgboost/data.py:112: UserWarning: Use subset (sliced data) of np.ndarray is not recommended because it will generate extra copies and increase memory consumption\n",
      "  warnings.warn(\n",
      "\n"
     ]
    },
    {
     "name": "stdout",
     "output_type": "stream",
     "text": [
      "accuracy = 0.8670455003425623, roc_auc = 0.7255828914886042                        \n",
      "                                                                                   \n",
      "------------------------\n",
      "learning_rate    = 0.2,\n",
      "max_depth        = 3,\n",
      "min_child_weight = 3,\n",
      "gamma            = 0.4,\n",
      "colsample_bytree = 0.7000000000000002,\n",
      "subsample        = 1.0000000000000002,\n",
      "n_estimators     = 1000,\n",
      "------------------------\n",
      "\n",
      " 47%|████▋     | 47/100 [01:27<01:48,  2.04s/trial, best loss: -0.7272728807910921]"
     ]
    },
    {
     "name": "stderr",
     "output_type": "stream",
     "text": [
      "/usr/local/lib/python3.9/site-packages/xgboost/data.py:112: UserWarning: Use subset (sliced data) of np.ndarray is not recommended because it will generate extra copies and increase memory consumption\n",
      "  warnings.warn(\n",
      "\n"
     ]
    },
    {
     "name": "stdout",
     "output_type": "stream",
     "text": [
      "accuracy = 0.8675694192560351, roc_auc = 0.7269406217490757                        \n",
      "                                                                                   \n",
      "------------------------\n",
      "learning_rate    = 0.05,\n",
      "max_depth        = 2,\n",
      "min_child_weight = 6,\n",
      "gamma            = 0.0,\n",
      "colsample_bytree = 0.4,\n",
      "subsample        = 0.9000000000000001,\n",
      "n_estimators     = 1000,\n",
      "------------------------\n",
      "\n",
      " 48%|████▊     | 48/100 [01:28<01:32,  1.77s/trial, best loss: -0.7272728807910921]"
     ]
    },
    {
     "name": "stderr",
     "output_type": "stream",
     "text": [
      "/usr/local/lib/python3.9/site-packages/xgboost/data.py:112: UserWarning: Use subset (sliced data) of np.ndarray is not recommended because it will generate extra copies and increase memory consumption\n",
      "  warnings.warn(\n",
      "\n"
     ]
    },
    {
     "name": "stdout",
     "output_type": "stream",
     "text": [
      "accuracy = 0.8675291178011526, roc_auc = 0.7239732816335828                        \n",
      "                                                                                   \n",
      "------------------------\n",
      "learning_rate    = 0.15000000000000002,\n",
      "max_depth        = 4,\n",
      "min_child_weight = 5,\n",
      "gamma            = 0.2,\n",
      "colsample_bytree = 0.5,\n",
      "subsample        = 0.8500000000000001,\n",
      "n_estimators     = 1000,\n",
      "------------------------\n",
      "\n",
      " 49%|████▉     | 49/100 [01:29<01:17,  1.51s/trial, best loss: -0.7272728807910921]"
     ]
    },
    {
     "name": "stderr",
     "output_type": "stream",
     "text": [
      "/usr/local/lib/python3.9/site-packages/xgboost/data.py:112: UserWarning: Use subset (sliced data) of np.ndarray is not recommended because it will generate extra copies and increase memory consumption\n",
      "  warnings.warn(\n",
      "\n"
     ]
    },
    {
     "name": "stdout",
     "output_type": "stream",
     "text": [
      "accuracy = 0.8675291178011526, roc_auc = 0.7264344540833341                        \n",
      "                                                                                   \n",
      "------------------------\n",
      "learning_rate    = 0.1,\n",
      "max_depth        = 1,\n",
      "min_child_weight = 4,\n",
      "gamma            = 0.1,\n",
      "colsample_bytree = 0.7000000000000002,\n",
      "subsample        = 0.9500000000000002,\n",
      "n_estimators     = 1000,\n",
      "------------------------\n",
      "\n",
      " 50%|█████     | 50/100 [01:30<01:06,  1.33s/trial, best loss: -0.7272728807910921]"
     ]
    },
    {
     "name": "stderr",
     "output_type": "stream",
     "text": [
      "/usr/local/lib/python3.9/site-packages/xgboost/data.py:112: UserWarning: Use subset (sliced data) of np.ndarray is not recommended because it will generate extra copies and increase memory consumption\n",
      "  warnings.warn(\n",
      "\n"
     ]
    },
    {
     "name": "stdout",
     "output_type": "stream",
     "text": [
      "accuracy = 0.8684963527183331, roc_auc = 0.7250184705243155                        \n",
      "                                                                                   \n",
      "------------------------\n",
      "learning_rate    = 0.2,\n",
      "max_depth        = 2,\n",
      "min_child_weight = 3,\n",
      "gamma            = 0.0,\n",
      "colsample_bytree = 0.6000000000000001,\n",
      "subsample        = 0.8,\n",
      "n_estimators     = 1000,\n",
      "------------------------\n",
      "\n",
      " 51%|█████     | 51/100 [01:32<01:10,  1.45s/trial, best loss: -0.7272728807910921]"
     ]
    },
    {
     "name": "stderr",
     "output_type": "stream",
     "text": [
      "/usr/local/lib/python3.9/site-packages/xgboost/data.py:112: UserWarning: Use subset (sliced data) of np.ndarray is not recommended because it will generate extra copies and increase memory consumption\n",
      "  warnings.warn(\n",
      "\n"
     ]
    },
    {
     "name": "stdout",
     "output_type": "stream",
     "text": [
      "accuracy = 0.8674485148913876, roc_auc = 0.7269439991531021                        \n",
      "                                                                                   \n",
      "------------------------\n",
      "learning_rate    = 0.1,\n",
      "max_depth        = 3,\n",
      "min_child_weight = 2,\n",
      "gamma            = 0.4,\n",
      "colsample_bytree = 0.5,\n",
      "subsample        = 1.0000000000000002,\n",
      "n_estimators     = 1000,\n",
      "------------------------\n",
      "\n",
      " 52%|█████▏    | 52/100 [01:33<01:06,  1.38s/trial, best loss: -0.7272728807910921]"
     ]
    },
    {
     "name": "stderr",
     "output_type": "stream",
     "text": [
      "/usr/local/lib/python3.9/site-packages/xgboost/data.py:112: UserWarning: Use subset (sliced data) of np.ndarray is not recommended because it will generate extra copies and increase memory consumption\n",
      "  warnings.warn(\n",
      "\n"
     ]
    },
    {
     "name": "stdout",
     "output_type": "stream",
     "text": [
      "accuracy = 0.8674485148913876, roc_auc = 0.7267245371004785                        \n",
      "                                                                                   \n",
      "------------------------\n",
      "learning_rate    = 0.05,\n",
      "max_depth        = 4,\n",
      "min_child_weight = 3,\n",
      "gamma            = 0.30000000000000004,\n",
      "colsample_bytree = 0.7000000000000002,\n",
      "subsample        = 0.9500000000000002,\n",
      "n_estimators     = 1000,\n",
      "------------------------\n",
      "\n",
      " 53%|█████▎    | 53/100 [01:35<01:18,  1.67s/trial, best loss: -0.7272728807910921]"
     ]
    },
    {
     "name": "stderr",
     "output_type": "stream",
     "text": [
      "/usr/local/lib/python3.9/site-packages/xgboost/data.py:112: UserWarning: Use subset (sliced data) of np.ndarray is not recommended because it will generate extra copies and increase memory consumption\n",
      "  warnings.warn(\n",
      "\n"
     ]
    },
    {
     "name": "stdout",
     "output_type": "stream",
     "text": [
      "accuracy = 0.8676903236206827, roc_auc = 0.7270300537466788                        \n",
      "                                                                                   \n",
      "------------------------\n",
      "learning_rate    = 0.15000000000000002,\n",
      "max_depth        = 3,\n",
      "min_child_weight = 7,\n",
      "gamma            = 0.1,\n",
      "colsample_bytree = 0.3,\n",
      "subsample        = 0.9000000000000001,\n",
      "n_estimators     = 1000,\n",
      "------------------------\n",
      "\n",
      " 54%|█████▍    | 54/100 [01:38<01:29,  1.94s/trial, best loss: -0.7272728807910921]"
     ]
    },
    {
     "name": "stderr",
     "output_type": "stream",
     "text": [
      "/usr/local/lib/python3.9/site-packages/xgboost/data.py:112: UserWarning: Use subset (sliced data) of np.ndarray is not recommended because it will generate extra copies and increase memory consumption\n",
      "  warnings.warn(\n",
      "\n"
     ]
    },
    {
     "name": "stdout",
     "output_type": "stream",
     "text": [
      "accuracy = 0.86716640470721, roc_auc = 0.7258565857911284                          \n",
      "                                                                                   \n",
      "------------------------\n",
      "learning_rate    = 0.2,\n",
      "max_depth        = 2,\n",
      "min_child_weight = 3,\n",
      "gamma            = 0.0,\n",
      "colsample_bytree = 0.4,\n",
      "subsample        = 0.9500000000000002,\n",
      "n_estimators     = 1000,\n",
      "------------------------\n",
      "\n",
      " 55%|█████▌    | 55/100 [01:39<01:24,  1.89s/trial, best loss: -0.7272728807910921]"
     ]
    },
    {
     "name": "stderr",
     "output_type": "stream",
     "text": [
      "/usr/local/lib/python3.9/site-packages/xgboost/data.py:112: UserWarning: Use subset (sliced data) of np.ndarray is not recommended because it will generate extra copies and increase memory consumption\n",
      "  warnings.warn(\n",
      "\n"
     ]
    },
    {
     "name": "stdout",
     "output_type": "stream",
     "text": [
      "accuracy = 0.8681336396243904, roc_auc = 0.7265834128269044                        \n",
      "                                                                                   \n",
      "------------------------\n",
      "learning_rate    = 0.1,\n",
      "max_depth        = 4,\n",
      "min_child_weight = 6,\n",
      "gamma            = 0.1,\n",
      "colsample_bytree = 0.5,\n",
      "subsample        = 0.9000000000000001,\n",
      "n_estimators     = 1000,\n",
      "------------------------\n",
      "\n",
      " 56%|█████▌    | 56/100 [01:41<01:22,  1.87s/trial, best loss: -0.7272728807910921]"
     ]
    },
    {
     "name": "stderr",
     "output_type": "stream",
     "text": [
      "/usr/local/lib/python3.9/site-packages/xgboost/data.py:112: UserWarning: Use subset (sliced data) of np.ndarray is not recommended because it will generate extra copies and increase memory consumption\n",
      "  warnings.warn(\n",
      "\n"
     ]
    },
    {
     "name": "stdout",
     "output_type": "stream",
     "text": [
      "accuracy = 0.8681739410792729, roc_auc = 0.7264707265720696                        \n",
      "                                                                                   \n",
      "------------------------\n",
      "learning_rate    = 0.2,\n",
      "max_depth        = 3,\n",
      "min_child_weight = 4,\n",
      "gamma            = 0.0,\n",
      "colsample_bytree = 0.7000000000000002,\n",
      "subsample        = 0.8500000000000001,\n",
      "n_estimators     = 1000,\n",
      "------------------------\n",
      "\n",
      " 57%|█████▋    | 57/100 [01:43<01:18,  1.82s/trial, best loss: -0.7272728807910921]"
     ]
    },
    {
     "name": "stderr",
     "output_type": "stream",
     "text": [
      "/usr/local/lib/python3.9/site-packages/xgboost/data.py:112: UserWarning: Use subset (sliced data) of np.ndarray is not recommended because it will generate extra copies and increase memory consumption\n",
      "  warnings.warn(\n",
      "\n"
     ]
    },
    {
     "name": "stdout",
     "output_type": "stream",
     "text": [
      "accuracy = 0.8678515294402128, roc_auc = 0.7268151525736732                        \n",
      "                                                                                   \n",
      "------------------------\n",
      "learning_rate    = 0.05,\n",
      "max_depth        = 1,\n",
      "min_child_weight = 5,\n",
      "gamma            = 0.4,\n",
      "colsample_bytree = 0.7000000000000002,\n",
      "subsample        = 1.0000000000000002,\n",
      "n_estimators     = 1000,\n",
      "------------------------\n",
      "\n",
      " 58%|█████▊    | 58/100 [01:44<01:08,  1.63s/trial, best loss: -0.7272728807910921]"
     ]
    },
    {
     "name": "stderr",
     "output_type": "stream",
     "text": [
      "/usr/local/lib/python3.9/site-packages/xgboost/data.py:112: UserWarning: Use subset (sliced data) of np.ndarray is not recommended because it will generate extra copies and increase memory consumption\n",
      "  warnings.warn(\n",
      "\n"
     ]
    },
    {
     "name": "stdout",
     "output_type": "stream",
     "text": [
      "accuracy = 0.8642243985007859, roc_auc = 0.7239694543704134                        \n",
      "                                                                                   \n",
      "------------------------\n",
      "learning_rate    = 0.1,\n",
      "max_depth        = 2,\n",
      "min_child_weight = 1,\n",
      "gamma            = 0.2,\n",
      "colsample_bytree = 0.6000000000000001,\n",
      "subsample        = 0.9500000000000002,\n",
      "n_estimators     = 1000,\n",
      "------------------------\n",
      "\n",
      " 59%|█████▉    | 59/100 [01:45<01:02,  1.52s/trial, best loss: -0.7272728807910921]"
     ]
    },
    {
     "name": "stderr",
     "output_type": "stream",
     "text": [
      "/usr/local/lib/python3.9/site-packages/xgboost/data.py:112: UserWarning: Use subset (sliced data) of np.ndarray is not recommended because it will generate extra copies and increase memory consumption\n",
      "  warnings.warn(\n",
      "\n"
     ]
    },
    {
     "name": "stdout",
     "output_type": "stream",
     "text": [
      "accuracy = 0.8679724338048603, roc_auc = 0.7266671350738478                        \n",
      "                                                                                   \n",
      "------------------------\n",
      "learning_rate    = 0.15000000000000002,\n",
      "max_depth        = 4,\n",
      "min_child_weight = 3,\n",
      "gamma            = 0.30000000000000004,\n",
      "colsample_bytree = 0.5,\n",
      "subsample        = 0.9000000000000001,\n",
      "n_estimators     = 1000,\n",
      "------------------------\n",
      "\n",
      " 60%|██████    | 60/100 [01:47<01:01,  1.54s/trial, best loss: -0.7272728807910921]"
     ]
    },
    {
     "name": "stderr",
     "output_type": "stream",
     "text": [
      "/usr/local/lib/python3.9/site-packages/xgboost/data.py:112: UserWarning: Use subset (sliced data) of np.ndarray is not recommended because it will generate extra copies and increase memory consumption\n",
      "  warnings.warn(\n",
      "\n"
     ]
    },
    {
     "name": "stdout",
     "output_type": "stream",
     "text": [
      "accuracy = 0.86716640470721, roc_auc = 0.7265901537931375                          \n",
      "                                                                                   \n",
      "------------------------\n",
      "learning_rate    = 0.2,\n",
      "max_depth        = 3,\n",
      "min_child_weight = 3,\n",
      "gamma            = 0.1,\n",
      "colsample_bytree = 0.3,\n",
      "subsample        = 0.8,\n",
      "n_estimators     = 1000,\n",
      "------------------------\n",
      "\n",
      " 61%|██████    | 61/100 [01:48<00:52,  1.33s/trial, best loss: -0.7272728807910921]"
     ]
    },
    {
     "name": "stderr",
     "output_type": "stream",
     "text": [
      "/usr/local/lib/python3.9/site-packages/xgboost/data.py:112: UserWarning: Use subset (sliced data) of np.ndarray is not recommended because it will generate extra copies and increase memory consumption\n",
      "  warnings.warn(\n",
      "\n"
     ]
    },
    {
     "name": "stdout",
     "output_type": "stream",
     "text": [
      "accuracy = 0.8669648974327974, roc_auc = 0.7260988245582011                        \n",
      "                                                                                   \n",
      "------------------------\n",
      "learning_rate    = 0.1,\n",
      "max_depth        = 4,\n",
      "min_child_weight = 2,\n",
      "gamma            = 0.0,\n",
      "colsample_bytree = 0.7000000000000002,\n",
      "subsample        = 0.9500000000000002,\n",
      "n_estimators     = 1000,\n",
      "------------------------\n",
      "\n",
      " 62%|██████▏   | 62/100 [01:50<00:53,  1.42s/trial, best loss: -0.7272728807910921]"
     ]
    },
    {
     "name": "stderr",
     "output_type": "stream",
     "text": [
      "/usr/local/lib/python3.9/site-packages/xgboost/data.py:112: UserWarning: Use subset (sliced data) of np.ndarray is not recommended because it will generate extra copies and increase memory consumption\n",
      "  warnings.warn(\n",
      "\n"
     ]
    },
    {
     "name": "stdout",
     "output_type": "stream",
     "text": [
      "accuracy = 0.8675291178011526, roc_auc = 0.7268354516023816                        \n",
      "                                                                                   \n",
      "------------------------\n",
      "learning_rate    = 0.2,\n",
      "max_depth        = 3,\n",
      "min_child_weight = 7,\n",
      "gamma            = 0.1,\n",
      "colsample_bytree = 0.4,\n",
      "subsample        = 0.9000000000000001,\n",
      "n_estimators     = 1000,\n",
      "------------------------\n",
      "\n",
      " 63%|██████▎   | 63/100 [01:51<00:53,  1.44s/trial, best loss: -0.7272728807910921]"
     ]
    },
    {
     "name": "stderr",
     "output_type": "stream",
     "text": [
      "/usr/local/lib/python3.9/site-packages/xgboost/data.py:112: UserWarning: Use subset (sliced data) of np.ndarray is not recommended because it will generate extra copies and increase memory consumption\n",
      "  warnings.warn(\n",
      "\n"
     ]
    },
    {
     "name": "stdout",
     "output_type": "stream",
     "text": [
      "accuracy = 0.86732761052674, roc_auc = 0.7265831636741482                          \n",
      "                                                                                   \n",
      "------------------------\n",
      "learning_rate    = 0.1,\n",
      "max_depth        = 1,\n",
      "min_child_weight = 3,\n",
      "gamma            = 0.0,\n",
      "colsample_bytree = 0.5,\n",
      "subsample        = 0.8500000000000001,\n",
      "n_estimators     = 1000,\n",
      "------------------------\n",
      "\n",
      " 64%|██████▍   | 64/100 [01:52<00:49,  1.38s/trial, best loss: -0.7272728807910921]"
     ]
    },
    {
     "name": "stderr",
     "output_type": "stream",
     "text": [
      "/usr/local/lib/python3.9/site-packages/xgboost/data.py:112: UserWarning: Use subset (sliced data) of np.ndarray is not recommended because it will generate extra copies and increase memory consumption\n",
      "  warnings.warn(\n",
      "\n"
     ]
    },
    {
     "name": "stdout",
     "output_type": "stream",
     "text": [
      "accuracy = 0.8677306250755652, roc_auc = 0.7259628009952156                        \n",
      "                                                                                   \n",
      "------------------------\n",
      "learning_rate    = 0.1,\n",
      "max_depth        = 3,\n",
      "min_child_weight = 3,\n",
      "gamma            = 0.0,\n",
      "colsample_bytree = 0.7000000000000002,\n",
      "subsample        = 0.9500000000000002,\n",
      "n_estimators     = 1000,\n",
      "------------------------\n",
      "\n",
      " 65%|██████▌   | 65/100 [01:55<01:03,  1.82s/trial, best loss: -0.7272728807910921]"
     ]
    },
    {
     "name": "stderr",
     "output_type": "stream",
     "text": [
      "/usr/local/lib/python3.9/site-packages/xgboost/data.py:112: UserWarning: Use subset (sliced data) of np.ndarray is not recommended because it will generate extra copies and increase memory consumption\n",
      "  warnings.warn(\n",
      "\n"
     ]
    },
    {
     "name": "stdout",
     "output_type": "stream",
     "text": [
      "accuracy = 0.8672067061620925, roc_auc = 0.727269918641659                         \n",
      "                                                                                   \n",
      "------------------------\n",
      "learning_rate    = 0.1,\n",
      "max_depth        = 3,\n",
      "min_child_weight = 3,\n",
      "gamma            = 0.0,\n",
      "colsample_bytree = 0.7000000000000002,\n",
      "subsample        = 0.9500000000000002,\n",
      "n_estimators     = 1000,\n",
      "------------------------\n",
      "\n",
      " 66%|██████▌   | 66/100 [01:57<01:00,  1.78s/trial, best loss: -0.7272728807910921]"
     ]
    },
    {
     "name": "stderr",
     "output_type": "stream",
     "text": [
      "/usr/local/lib/python3.9/site-packages/xgboost/data.py:112: UserWarning: Use subset (sliced data) of np.ndarray is not recommended because it will generate extra copies and increase memory consumption\n",
      "  warnings.warn(\n",
      "\n"
     ]
    },
    {
     "name": "stdout",
     "output_type": "stream",
     "text": [
      "accuracy = 0.8672067061620925, roc_auc = 0.727269918641659                         \n",
      "                                                                                   \n",
      "------------------------\n",
      "learning_rate    = 0.1,\n",
      "max_depth        = 3,\n",
      "min_child_weight = 3,\n",
      "gamma            = 0.0,\n",
      "colsample_bytree = 0.7000000000000002,\n",
      "subsample        = 0.9500000000000002,\n",
      "n_estimators     = 1000,\n",
      "------------------------\n",
      "\n",
      " 67%|██████▋   | 67/100 [01:59<01:06,  2.01s/trial, best loss: -0.7272728807910921]"
     ]
    },
    {
     "name": "stderr",
     "output_type": "stream",
     "text": [
      "/usr/local/lib/python3.9/site-packages/xgboost/data.py:112: UserWarning: Use subset (sliced data) of np.ndarray is not recommended because it will generate extra copies and increase memory consumption\n",
      "  warnings.warn(\n",
      "\n"
     ]
    },
    {
     "name": "stdout",
     "output_type": "stream",
     "text": [
      "accuracy = 0.8672067061620925, roc_auc = 0.727269918641659                         \n",
      "                                                                                   \n",
      "------------------------\n",
      "learning_rate    = 0.1,\n",
      "max_depth        = 3,\n",
      "min_child_weight = 3,\n",
      "gamma            = 0.0,\n",
      "colsample_bytree = 0.7000000000000002,\n",
      "subsample        = 0.9500000000000002,\n",
      "n_estimators     = 1000,\n",
      "------------------------\n",
      "\n",
      " 68%|██████▊   | 68/100 [02:02<01:14,  2.34s/trial, best loss: -0.7272728807910921]"
     ]
    },
    {
     "name": "stderr",
     "output_type": "stream",
     "text": [
      "/usr/local/lib/python3.9/site-packages/xgboost/data.py:112: UserWarning: Use subset (sliced data) of np.ndarray is not recommended because it will generate extra copies and increase memory consumption\n",
      "  warnings.warn(\n",
      "\n"
     ]
    },
    {
     "name": "stdout",
     "output_type": "stream",
     "text": [
      "accuracy = 0.8672067061620925, roc_auc = 0.727269918641659                         \n",
      "                                                                                   \n",
      "------------------------\n",
      "learning_rate    = 0.1,\n",
      "max_depth        = 3,\n",
      "min_child_weight = 3,\n",
      "gamma            = 0.0,\n",
      "colsample_bytree = 0.7000000000000002,\n",
      "subsample        = 0.9500000000000002,\n",
      "n_estimators     = 1000,\n",
      "------------------------\n",
      "\n",
      " 69%|██████▉   | 69/100 [02:04<01:06,  2.14s/trial, best loss: -0.7272728807910921]"
     ]
    },
    {
     "name": "stderr",
     "output_type": "stream",
     "text": [
      "/usr/local/lib/python3.9/site-packages/xgboost/data.py:112: UserWarning: Use subset (sliced data) of np.ndarray is not recommended because it will generate extra copies and increase memory consumption\n",
      "  warnings.warn(\n",
      "\n"
     ]
    },
    {
     "name": "stdout",
     "output_type": "stream",
     "text": [
      "accuracy = 0.8672067061620925, roc_auc = 0.727269918641659                         \n",
      "                                                                                   \n",
      "------------------------\n",
      "learning_rate    = 0.1,\n",
      "max_depth        = 3,\n",
      "min_child_weight = 3,\n",
      "gamma            = 0.0,\n",
      "colsample_bytree = 0.7000000000000002,\n",
      "subsample        = 0.9500000000000002,\n",
      "n_estimators     = 1000,\n",
      "------------------------\n",
      "\n",
      " 70%|███████   | 70/100 [02:08<01:16,  2.57s/trial, best loss: -0.7272728807910921]"
     ]
    },
    {
     "name": "stderr",
     "output_type": "stream",
     "text": [
      "/usr/local/lib/python3.9/site-packages/xgboost/data.py:112: UserWarning: Use subset (sliced data) of np.ndarray is not recommended because it will generate extra copies and increase memory consumption\n",
      "  warnings.warn(\n",
      "\n"
     ]
    },
    {
     "name": "stdout",
     "output_type": "stream",
     "text": [
      "accuracy = 0.8672067061620925, roc_auc = 0.727269918641659                         \n",
      "                                                                                   \n",
      "------------------------\n",
      "learning_rate    = 0.1,\n",
      "max_depth        = 3,\n",
      "min_child_weight = 3,\n",
      "gamma            = 0.0,\n",
      "colsample_bytree = 0.7000000000000002,\n",
      "subsample        = 0.9500000000000002,\n",
      "n_estimators     = 1000,\n",
      "------------------------\n",
      "\n",
      " 71%|███████   | 71/100 [02:09<01:06,  2.28s/trial, best loss: -0.7272728807910921]"
     ]
    },
    {
     "name": "stderr",
     "output_type": "stream",
     "text": [
      "/usr/local/lib/python3.9/site-packages/xgboost/data.py:112: UserWarning: Use subset (sliced data) of np.ndarray is not recommended because it will generate extra copies and increase memory consumption\n",
      "  warnings.warn(\n",
      "\n"
     ]
    },
    {
     "name": "stdout",
     "output_type": "stream",
     "text": [
      "accuracy = 0.8672067061620925, roc_auc = 0.727269918641659                         \n",
      "                                                                                   \n",
      "------------------------\n",
      "learning_rate    = 0.1,\n",
      "max_depth        = 3,\n",
      "min_child_weight = 6,\n",
      "gamma            = 0.0,\n",
      "colsample_bytree = 0.6000000000000001,\n",
      "subsample        = 0.9500000000000002,\n",
      "n_estimators     = 1000,\n",
      "------------------------\n",
      "\n",
      " 72%|███████▏  | 72/100 [02:11<01:00,  2.16s/trial, best loss: -0.7272728807910921]"
     ]
    },
    {
     "name": "stderr",
     "output_type": "stream",
     "text": [
      "/usr/local/lib/python3.9/site-packages/xgboost/data.py:112: UserWarning: Use subset (sliced data) of np.ndarray is not recommended because it will generate extra copies and increase memory consumption\n",
      "  warnings.warn(\n",
      "\n"
     ]
    },
    {
     "name": "stdout",
     "output_type": "stream",
     "text": [
      "accuracy = 0.8672067061620925, roc_auc = 0.7272787289599495                        \n",
      "                                                                                   \n",
      "------------------------\n",
      "learning_rate    = 0.1,\n",
      "max_depth        = 3,\n",
      "min_child_weight = 6,\n",
      "gamma            = 0.1,\n",
      "colsample_bytree = 0.6000000000000001,\n",
      "subsample        = 0.9500000000000002,\n",
      "n_estimators     = 1000,\n",
      "------------------------\n",
      "\n",
      " 73%|███████▎  | 73/100 [02:13<00:54,  2.00s/trial, best loss: -0.7272787289599495]"
     ]
    },
    {
     "name": "stderr",
     "output_type": "stream",
     "text": [
      "/usr/local/lib/python3.9/site-packages/xgboost/data.py:112: UserWarning: Use subset (sliced data) of np.ndarray is not recommended because it will generate extra copies and increase memory consumption\n",
      "  warnings.warn(\n",
      "\n"
     ]
    },
    {
     "name": "stdout",
     "output_type": "stream",
     "text": [
      "accuracy = 0.8672067061620925, roc_auc = 0.7272787289599495                        \n",
      "                                                                                   \n",
      "------------------------\n",
      "learning_rate    = 0.15000000000000002,\n",
      "max_depth        = 4,\n",
      "min_child_weight = 6,\n",
      "gamma            = 0.1,\n",
      "colsample_bytree = 0.6000000000000001,\n",
      "subsample        = 0.9000000000000001,\n",
      "n_estimators     = 1000,\n",
      "------------------------\n",
      "\n",
      " 74%|███████▍  | 74/100 [02:15<00:54,  2.11s/trial, best loss: -0.7272787289599495]"
     ]
    },
    {
     "name": "stderr",
     "output_type": "stream",
     "text": [
      "/usr/local/lib/python3.9/site-packages/xgboost/data.py:112: UserWarning: Use subset (sliced data) of np.ndarray is not recommended because it will generate extra copies and increase memory consumption\n",
      "  warnings.warn(\n",
      "\n"
     ]
    },
    {
     "name": "stdout",
     "output_type": "stream",
     "text": [
      "accuracy = 0.8679321323499778, roc_auc = 0.7269617997333401                        \n",
      "                                                                                   \n",
      "------------------------\n",
      "learning_rate    = 0.2,\n",
      "max_depth        = 2,\n",
      "min_child_weight = 6,\n",
      "gamma            = 0.1,\n",
      "colsample_bytree = 0.6000000000000001,\n",
      "subsample        = 1.0000000000000002,\n",
      "n_estimators     = 1000,\n",
      "------------------------\n",
      "\n",
      " 75%|███████▌  | 75/100 [02:16<00:43,  1.74s/trial, best loss: -0.7272787289599495]"
     ]
    },
    {
     "name": "stderr",
     "output_type": "stream",
     "text": [
      "/usr/local/lib/python3.9/site-packages/xgboost/data.py:112: UserWarning: Use subset (sliced data) of np.ndarray is not recommended because it will generate extra copies and increase memory consumption\n",
      "  warnings.warn(\n",
      "\n"
     ]
    },
    {
     "name": "stdout",
     "output_type": "stream",
     "text": [
      "accuracy = 0.86716640470721, roc_auc = 0.7263198645782794                          \n",
      "                                                                                   \n",
      "------------------------\n",
      "learning_rate    = 0.05,\n",
      "max_depth        = 3,\n",
      "min_child_weight = 6,\n",
      "gamma            = 0.1,\n",
      "colsample_bytree = 0.6000000000000001,\n",
      "subsample        = 0.8,\n",
      "n_estimators     = 1000,\n",
      "------------------------\n",
      "\n",
      " 76%|███████▌  | 76/100 [02:18<00:40,  1.67s/trial, best loss: -0.7272787289599495]"
     ]
    },
    {
     "name": "stderr",
     "output_type": "stream",
     "text": [
      "/usr/local/lib/python3.9/site-packages/xgboost/data.py:112: UserWarning: Use subset (sliced data) of np.ndarray is not recommended because it will generate extra copies and increase memory consumption\n",
      "  warnings.warn(\n",
      "\n"
     ]
    },
    {
     "name": "stdout",
     "output_type": "stream",
     "text": [
      "accuracy = 0.8674888163462701, roc_auc = 0.7269372028195898                        \n",
      "                                                                                   \n",
      "------------------------\n",
      "learning_rate    = 0.1,\n",
      "max_depth        = 4,\n",
      "min_child_weight = 6,\n",
      "gamma            = 0.1,\n",
      "colsample_bytree = 0.6000000000000001,\n",
      "subsample        = 0.9500000000000002,\n",
      "n_estimators     = 1000,\n",
      "------------------------\n",
      "\n",
      " 77%|███████▋  | 77/100 [02:21<00:47,  2.07s/trial, best loss: -0.7272787289599495]"
     ]
    },
    {
     "name": "stderr",
     "output_type": "stream",
     "text": [
      "/usr/local/lib/python3.9/site-packages/xgboost/data.py:112: UserWarning: Use subset (sliced data) of np.ndarray is not recommended because it will generate extra copies and increase memory consumption\n",
      "  warnings.warn(\n",
      "\n"
     ]
    },
    {
     "name": "stdout",
     "output_type": "stream",
     "text": [
      "accuracy = 0.8677709265304477, roc_auc = 0.7267294647883207                        \n",
      "                                                                                   \n",
      "------------------------\n",
      "learning_rate    = 0.2,\n",
      "max_depth        = 3,\n",
      "min_child_weight = 6,\n",
      "gamma            = 0.1,\n",
      "colsample_bytree = 0.6000000000000001,\n",
      "subsample        = 0.9000000000000001,\n",
      "n_estimators     = 1000,\n",
      "------------------------\n",
      "\n",
      " 78%|███████▊  | 78/100 [02:22<00:42,  1.94s/trial, best loss: -0.7272787289599495]"
     ]
    },
    {
     "name": "stderr",
     "output_type": "stream",
     "text": [
      "/usr/local/lib/python3.9/site-packages/xgboost/data.py:112: UserWarning: Use subset (sliced data) of np.ndarray is not recommended because it will generate extra copies and increase memory consumption\n",
      "  warnings.warn(\n",
      "\n"
     ]
    },
    {
     "name": "stdout",
     "output_type": "stream",
     "text": [
      "accuracy = 0.8675694192560351, roc_auc = 0.7263217263030399                        \n",
      "                                                                                   \n",
      "------------------------\n",
      "learning_rate    = 0.1,\n",
      "max_depth        = 1,\n",
      "min_child_weight = 6,\n",
      "gamma            = 0.1,\n",
      "colsample_bytree = 0.6000000000000001,\n",
      "subsample        = 0.9500000000000002,\n",
      "n_estimators     = 1000,\n",
      "------------------------\n",
      "\n",
      " 79%|███████▉  | 79/100 [02:23<00:34,  1.63s/trial, best loss: -0.7272787289599495]"
     ]
    },
    {
     "name": "stderr",
     "output_type": "stream",
     "text": [
      "/usr/local/lib/python3.9/site-packages/xgboost/data.py:112: UserWarning: Use subset (sliced data) of np.ndarray is not recommended because it will generate extra copies and increase memory consumption\n",
      "  warnings.warn(\n",
      "\n"
     ]
    },
    {
     "name": "stdout",
     "output_type": "stream",
     "text": [
      "accuracy = 0.8642243985007859, roc_auc = 0.7244832696415838                        \n",
      "                                                                                   \n",
      "------------------------\n",
      "learning_rate    = 0.15000000000000002,\n",
      "max_depth        = 3,\n",
      "min_child_weight = 6,\n",
      "gamma            = 0.1,\n",
      "colsample_bytree = 0.6000000000000001,\n",
      "subsample        = 0.8500000000000001,\n",
      "n_estimators     = 1000,\n",
      "------------------------\n",
      "\n",
      " 80%|████████  | 80/100 [02:25<00:31,  1.60s/trial, best loss: -0.7272787289599495]"
     ]
    },
    {
     "name": "stderr",
     "output_type": "stream",
     "text": [
      "/usr/local/lib/python3.9/site-packages/xgboost/data.py:112: UserWarning: Use subset (sliced data) of np.ndarray is not recommended because it will generate extra copies and increase memory consumption\n",
      "  warnings.warn(\n",
      "\n"
     ]
    },
    {
     "name": "stdout",
     "output_type": "stream",
     "text": [
      "accuracy = 0.868254543989038, roc_auc = 0.726229733568777                          \n",
      "                                                                                   \n",
      "------------------------\n",
      "learning_rate    = 0.2,\n",
      "max_depth        = 4,\n",
      "min_child_weight = 6,\n",
      "gamma            = 0.2,\n",
      "colsample_bytree = 0.6000000000000001,\n",
      "subsample        = 0.9000000000000001,\n",
      "n_estimators     = 1000,\n",
      "------------------------\n",
      "\n",
      " 81%|████████  | 81/100 [02:26<00:26,  1.39s/trial, best loss: -0.7272787289599495]"
     ]
    },
    {
     "name": "stderr",
     "output_type": "stream",
     "text": [
      "/usr/local/lib/python3.9/site-packages/xgboost/data.py:112: UserWarning: Use subset (sliced data) of np.ndarray is not recommended because it will generate extra copies and increase memory consumption\n",
      "  warnings.warn(\n",
      "\n"
     ]
    },
    {
     "name": "stdout",
     "output_type": "stream",
     "text": [
      "accuracy = 0.8664812799742071, roc_auc = 0.7268143774317655                        \n",
      "                                                                                   \n",
      "------------------------\n",
      "learning_rate    = 0.05,\n",
      "max_depth        = 2,\n",
      "min_child_weight = 6,\n",
      "gamma            = 0.4,\n",
      "colsample_bytree = 0.6000000000000001,\n",
      "subsample        = 0.9500000000000002,\n",
      "n_estimators     = 1000,\n",
      "------------------------\n",
      "\n",
      " 82%|████████▏ | 82/100 [02:27<00:24,  1.33s/trial, best loss: -0.7272787289599495]"
     ]
    },
    {
     "name": "stderr",
     "output_type": "stream",
     "text": [
      "/usr/local/lib/python3.9/site-packages/xgboost/data.py:112: UserWarning: Use subset (sliced data) of np.ndarray is not recommended because it will generate extra copies and increase memory consumption\n",
      "  warnings.warn(\n",
      "\n"
     ]
    },
    {
     "name": "stdout",
     "output_type": "stream",
     "text": [
      "accuracy = 0.8681336396243904, roc_auc = 0.726574713243172                         \n",
      "                                                                                   \n",
      "------------------------\n",
      "learning_rate    = 0.1,\n",
      "max_depth        = 3,\n",
      "min_child_weight = 6,\n",
      "gamma            = 0.30000000000000004,\n",
      "colsample_bytree = 0.6000000000000001,\n",
      "subsample        = 1.0000000000000002,\n",
      "n_estimators     = 1000,\n",
      "------------------------\n",
      "\n",
      " 83%|████████▎ | 83/100 [02:30<00:30,  1.82s/trial, best loss: -0.7272787289599495]"
     ]
    },
    {
     "name": "stderr",
     "output_type": "stream",
     "text": [
      "/usr/local/lib/python3.9/site-packages/xgboost/data.py:112: UserWarning: Use subset (sliced data) of np.ndarray is not recommended because it will generate extra copies and increase memory consumption\n",
      "  warnings.warn(\n",
      "\n"
     ]
    },
    {
     "name": "stdout",
     "output_type": "stream",
     "text": [
      "accuracy = 0.8674082134365051, roc_auc = 0.7266034142564877                        \n",
      "                                                                                   \n",
      "------------------------\n",
      "learning_rate    = 0.1,\n",
      "max_depth        = 4,\n",
      "min_child_weight = 1,\n",
      "gamma            = 0.1,\n",
      "colsample_bytree = 0.6000000000000001,\n",
      "subsample        = 0.8,\n",
      "n_estimators     = 1000,\n",
      "------------------------\n",
      "\n",
      " 84%|████████▍ | 84/100 [02:32<00:29,  1.85s/trial, best loss: -0.7272787289599495]"
     ]
    },
    {
     "name": "stderr",
     "output_type": "stream",
     "text": [
      "/usr/local/lib/python3.9/site-packages/xgboost/data.py:112: UserWarning: Use subset (sliced data) of np.ndarray is not recommended because it will generate extra copies and increase memory consumption\n",
      "  warnings.warn(\n",
      "\n"
     ]
    },
    {
     "name": "stdout",
     "output_type": "stream",
     "text": [
      "accuracy = 0.8676500221658002, roc_auc = 0.7266919742194445                        \n",
      "                                                                                   \n",
      "------------------------\n",
      "learning_rate    = 0.2,\n",
      "max_depth        = 3,\n",
      "min_child_weight = 5,\n",
      "gamma            = 0.1,\n",
      "colsample_bytree = 0.6000000000000001,\n",
      "subsample        = 0.9500000000000002,\n",
      "n_estimators     = 1000,\n",
      "------------------------\n",
      "\n",
      " 85%|████████▌ | 85/100 [02:33<00:26,  1.78s/trial, best loss: -0.7272787289599495]"
     ]
    },
    {
     "name": "stderr",
     "output_type": "stream",
     "text": [
      "/usr/local/lib/python3.9/site-packages/xgboost/data.py:112: UserWarning: Use subset (sliced data) of np.ndarray is not recommended because it will generate extra copies and increase memory consumption\n",
      "  warnings.warn(\n",
      "\n"
     ]
    },
    {
     "name": "stdout",
     "output_type": "stream",
     "text": [
      "accuracy = 0.8676097207109177, roc_auc = 0.7267775720329686                        \n",
      "                                                                                   \n",
      "------------------------\n",
      "learning_rate    = 0.1,\n",
      "max_depth        = 1,\n",
      "min_child_weight = 4,\n",
      "gamma            = 0.2,\n",
      "colsample_bytree = 0.5,\n",
      "subsample        = 0.9000000000000001,\n",
      "n_estimators     = 1000,\n",
      "------------------------\n",
      "\n",
      " 86%|████████▌ | 86/100 [02:34<00:22,  1.63s/trial, best loss: -0.7272787289599495]"
     ]
    },
    {
     "name": "stderr",
     "output_type": "stream",
     "text": [
      "/usr/local/lib/python3.9/site-packages/xgboost/data.py:112: UserWarning: Use subset (sliced data) of np.ndarray is not recommended because it will generate extra copies and increase memory consumption\n",
      "  warnings.warn(\n",
      "\n"
     ]
    },
    {
     "name": "stdout",
     "output_type": "stream",
     "text": [
      "accuracy = 0.8642243985007859, roc_auc = 0.7242093054235738                        \n",
      "                                                                                   \n",
      "------------------------\n",
      "learning_rate    = 0.2,\n",
      "max_depth        = 4,\n",
      "min_child_weight = 6,\n",
      "gamma            = 0.4,\n",
      "colsample_bytree = 0.6000000000000001,\n",
      "subsample        = 0.8500000000000001,\n",
      "n_estimators     = 1000,\n",
      "------------------------\n",
      "\n",
      " 87%|████████▋ | 87/100 [02:35<00:18,  1.43s/trial, best loss: -0.7272787289599495]"
     ]
    },
    {
     "name": "stderr",
     "output_type": "stream",
     "text": [
      "/usr/local/lib/python3.9/site-packages/xgboost/data.py:112: UserWarning: Use subset (sliced data) of np.ndarray is not recommended because it will generate extra copies and increase memory consumption\n",
      "  warnings.warn(\n",
      "\n"
     ]
    },
    {
     "name": "stdout",
     "output_type": "stream",
     "text": [
      "accuracy = 0.8663603756095595, roc_auc = 0.7261614518717988                        \n",
      "                                                                                   \n",
      "------------------------\n",
      "learning_rate    = 0.15000000000000002,\n",
      "max_depth        = 3,\n",
      "min_child_weight = 2,\n",
      "gamma            = 0.30000000000000004,\n",
      "colsample_bytree = 0.3,\n",
      "subsample        = 0.9500000000000002,\n",
      "n_estimators     = 1000,\n",
      "------------------------\n",
      "\n",
      " 88%|████████▊ | 88/100 [02:37<00:16,  1.39s/trial, best loss: -0.7272787289599495]"
     ]
    },
    {
     "name": "stderr",
     "output_type": "stream",
     "text": [
      "/usr/local/lib/python3.9/site-packages/xgboost/data.py:112: UserWarning: Use subset (sliced data) of np.ndarray is not recommended because it will generate extra copies and increase memory consumption\n",
      "  warnings.warn(\n",
      "\n"
     ]
    },
    {
     "name": "stdout",
     "output_type": "stream",
     "text": [
      "accuracy = 0.86716640470721, roc_auc = 0.7257120771926175                          \n",
      "                                                                                   \n",
      "------------------------\n",
      "learning_rate    = 0.05,\n",
      "max_depth        = 2,\n",
      "min_child_weight = 7,\n",
      "gamma            = 0.1,\n",
      "colsample_bytree = 0.5,\n",
      "subsample        = 0.9000000000000001,\n",
      "n_estimators     = 1000,\n",
      "------------------------\n",
      "\n",
      " 89%|████████▉ | 89/100 [02:39<00:18,  1.71s/trial, best loss: -0.7272787289599495]"
     ]
    },
    {
     "name": "stderr",
     "output_type": "stream",
     "text": [
      "/usr/local/lib/python3.9/site-packages/xgboost/data.py:112: UserWarning: Use subset (sliced data) of np.ndarray is not recommended because it will generate extra copies and increase memory consumption\n",
      "  warnings.warn(\n",
      "\n"
     ]
    },
    {
     "name": "stdout",
     "output_type": "stream",
     "text": [
      "accuracy = 0.8678112279853303, roc_auc = 0.7255605715542077                        \n",
      "                                                                                   \n",
      "------------------------\n",
      "learning_rate    = 0.1,\n",
      "max_depth        = 4,\n",
      "min_child_weight = 6,\n",
      "gamma            = 0.1,\n",
      "colsample_bytree = 0.4,\n",
      "subsample        = 1.0000000000000002,\n",
      "n_estimators     = 1000,\n",
      "------------------------\n",
      "\n",
      " 90%|█████████ | 90/100 [02:41<00:16,  1.61s/trial, best loss: -0.7272787289599495]"
     ]
    },
    {
     "name": "stderr",
     "output_type": "stream",
     "text": [
      "/usr/local/lib/python3.9/site-packages/xgboost/data.py:112: UserWarning: Use subset (sliced data) of np.ndarray is not recommended because it will generate extra copies and increase memory consumption\n",
      "  warnings.warn(\n",
      "\n"
     ]
    },
    {
     "name": "stdout",
     "output_type": "stream",
     "text": [
      "accuracy = 0.8674082134365051, roc_auc = 0.726411670447975                         \n",
      "                                                                                   \n",
      "------------------------\n",
      "learning_rate    = 0.2,\n",
      "max_depth        = 3,\n",
      "min_child_weight = 5,\n",
      "gamma            = 0.1,\n",
      "colsample_bytree = 0.6000000000000001,\n",
      "subsample        = 0.8,\n",
      "n_estimators     = 1000,\n",
      "------------------------\n",
      "\n",
      " 91%|█████████ | 91/100 [02:43<00:16,  1.85s/trial, best loss: -0.7272787289599495]"
     ]
    },
    {
     "name": "stderr",
     "output_type": "stream",
     "text": [
      "/usr/local/lib/python3.9/site-packages/xgboost/data.py:112: UserWarning: Use subset (sliced data) of np.ndarray is not recommended because it will generate extra copies and increase memory consumption\n",
      "  warnings.warn(\n",
      "\n"
     ]
    },
    {
     "name": "stdout",
     "output_type": "stream",
     "text": [
      "accuracy = 0.86732761052674, roc_auc = 0.7264307583174526                          \n",
      "                                                                                   \n",
      "------------------------\n",
      "learning_rate    = 0.1,\n",
      "max_depth        = 1,\n",
      "min_child_weight = 1,\n",
      "gamma            = 0.2,\n",
      "colsample_bytree = 0.5,\n",
      "subsample        = 0.9500000000000002,\n",
      "n_estimators     = 1000,\n",
      "------------------------\n",
      "\n",
      " 92%|█████████▏| 92/100 [02:44<00:12,  1.61s/trial, best loss: -0.7272787289599495]"
     ]
    },
    {
     "name": "stderr",
     "output_type": "stream",
     "text": [
      "/usr/local/lib/python3.9/site-packages/xgboost/data.py:112: UserWarning: Use subset (sliced data) of np.ndarray is not recommended because it will generate extra copies and increase memory consumption\n",
      "  warnings.warn(\n",
      "\n"
     ]
    },
    {
     "name": "stdout",
     "output_type": "stream",
     "text": [
      "accuracy = 0.8642243985007859, roc_auc = 0.724509652150086                         \n",
      "                                                                                   \n",
      "------------------------\n",
      "learning_rate    = 0.1,\n",
      "max_depth        = 3,\n",
      "min_child_weight = 4,\n",
      "gamma            = 0.4,\n",
      "colsample_bytree = 0.6000000000000001,\n",
      "subsample        = 0.9000000000000001,\n",
      "n_estimators     = 1000,\n",
      "------------------------\n",
      "\n",
      " 93%|█████████▎| 93/100 [02:45<00:09,  1.36s/trial, best loss: -0.7272787289599495]"
     ]
    },
    {
     "name": "stderr",
     "output_type": "stream",
     "text": [
      "/usr/local/lib/python3.9/site-packages/xgboost/data.py:112: UserWarning: Use subset (sliced data) of np.ndarray is not recommended because it will generate extra copies and increase memory consumption\n",
      "  warnings.warn(\n",
      "\n"
     ]
    },
    {
     "name": "stdout",
     "output_type": "stream",
     "text": [
      "accuracy = 0.8678515294402128, roc_auc = 0.7270894974417271                        \n",
      "                                                                                   \n",
      "------------------------\n",
      "learning_rate    = 0.2,\n",
      "max_depth        = 4,\n",
      "min_child_weight = 6,\n",
      "gamma            = 0.30000000000000004,\n",
      "colsample_bytree = 0.3,\n",
      "subsample        = 0.9500000000000002,\n",
      "n_estimators     = 1000,\n",
      "------------------------\n",
      "\n",
      " 94%|█████████▍| 94/100 [02:47<00:09,  1.52s/trial, best loss: -0.7272787289599495]"
     ]
    },
    {
     "name": "stderr",
     "output_type": "stream",
     "text": [
      "/usr/local/lib/python3.9/site-packages/xgboost/data.py:112: UserWarning: Use subset (sliced data) of np.ndarray is not recommended because it will generate extra copies and increase memory consumption\n",
      "  warnings.warn(\n",
      "\n"
     ]
    },
    {
     "name": "stdout",
     "output_type": "stream",
     "text": [
      "accuracy = 0.8669648974327974, roc_auc = 0.7246364916656465                        \n",
      "                                                                                   \n",
      "------------------------\n",
      "learning_rate    = 0.15000000000000002,\n",
      "max_depth        = 2,\n",
      "min_child_weight = 2,\n",
      "gamma            = 0.1,\n",
      "colsample_bytree = 0.5,\n",
      "subsample        = 0.8500000000000001,\n",
      "n_estimators     = 1000,\n",
      "------------------------\n",
      "\n",
      " 95%|█████████▌| 95/100 [02:48<00:07,  1.54s/trial, best loss: -0.7272787289599495]"
     ]
    },
    {
     "name": "stderr",
     "output_type": "stream",
     "text": [
      "/usr/local/lib/python3.9/site-packages/xgboost/data.py:112: UserWarning: Use subset (sliced data) of np.ndarray is not recommended because it will generate extra copies and increase memory consumption\n",
      "  warnings.warn(\n",
      "\n"
     ]
    },
    {
     "name": "stdout",
     "output_type": "stream",
     "text": [
      "accuracy = 0.8685366541732157, roc_auc = 0.724958590811944                         \n",
      "                                                                                   \n",
      "------------------------\n",
      "learning_rate    = 0.05,\n",
      "max_depth        = 3,\n",
      "min_child_weight = 6,\n",
      "gamma            = 0.1,\n",
      "colsample_bytree = 0.4,\n",
      "subsample        = 0.9000000000000001,\n",
      "n_estimators     = 1000,\n",
      "------------------------\n",
      "\n",
      " 96%|█████████▌| 96/100 [02:49<00:05,  1.28s/trial, best loss: -0.7272787289599495]"
     ]
    },
    {
     "name": "stderr",
     "output_type": "stream",
     "text": [
      "/usr/local/lib/python3.9/site-packages/xgboost/data.py:112: UserWarning: Use subset (sliced data) of np.ndarray is not recommended because it will generate extra copies and increase memory consumption\n",
      "  warnings.warn(\n",
      "\n"
     ]
    },
    {
     "name": "stdout",
     "output_type": "stream",
     "text": [
      "accuracy = 0.8679321323499778, roc_auc = 0.7251766063944003                        \n",
      "                                                                                   \n",
      "------------------------\n",
      "learning_rate    = 0.1,\n",
      "max_depth        = 4,\n",
      "min_child_weight = 7,\n",
      "gamma            = 0.2,\n",
      "colsample_bytree = 0.6000000000000001,\n",
      "subsample        = 0.9500000000000002,\n",
      "n_estimators     = 1000,\n",
      "------------------------\n",
      "\n",
      " 97%|█████████▋| 97/100 [02:51<00:04,  1.49s/trial, best loss: -0.7272787289599495]"
     ]
    },
    {
     "name": "stderr",
     "output_type": "stream",
     "text": [
      "/usr/local/lib/python3.9/site-packages/xgboost/data.py:112: UserWarning: Use subset (sliced data) of np.ndarray is not recommended because it will generate extra copies and increase memory consumption\n",
      "  warnings.warn(\n",
      "\n"
     ]
    },
    {
     "name": "stdout",
     "output_type": "stream",
     "text": [
      "accuracy = 0.8672067061620925, roc_auc = 0.7271281091980056                        \n",
      "                                                                                   \n",
      "------------------------\n",
      "learning_rate    = 0.2,\n",
      "max_depth        = 3,\n",
      "min_child_weight = 1,\n",
      "gamma            = 0.1,\n",
      "colsample_bytree = 0.5,\n",
      "subsample        = 1.0000000000000002,\n",
      "n_estimators     = 1000,\n",
      "------------------------\n",
      "\n",
      " 98%|█████████▊| 98/100 [02:52<00:02,  1.47s/trial, best loss: -0.7272787289599495]"
     ]
    },
    {
     "name": "stderr",
     "output_type": "stream",
     "text": [
      "/usr/local/lib/python3.9/site-packages/xgboost/data.py:112: UserWarning: Use subset (sliced data) of np.ndarray is not recommended because it will generate extra copies and increase memory consumption\n",
      "  warnings.warn(\n",
      "\n"
     ]
    },
    {
     "name": "stdout",
     "output_type": "stream",
     "text": [
      "accuracy = 0.8667230887035022, roc_auc = 0.7262094622237084                        \n",
      "                                                                                   \n",
      "------------------------\n",
      "learning_rate    = 0.1,\n",
      "max_depth        = 1,\n",
      "min_child_weight = 6,\n",
      "gamma            = 0.4,\n",
      "colsample_bytree = 0.6000000000000001,\n",
      "subsample        = 0.8,\n",
      "n_estimators     = 1000,\n",
      "------------------------\n",
      "\n",
      " 99%|█████████▉| 99/100 [02:54<00:01,  1.41s/trial, best loss: -0.7272787289599495]"
     ]
    },
    {
     "name": "stderr",
     "output_type": "stream",
     "text": [
      "/usr/local/lib/python3.9/site-packages/xgboost/data.py:112: UserWarning: Use subset (sliced data) of np.ndarray is not recommended because it will generate extra copies and increase memory consumption\n",
      "  warnings.warn(\n",
      "\n"
     ]
    },
    {
     "name": "stdout",
     "output_type": "stream",
     "text": [
      "accuracy = 0.8675694192560351, roc_auc = 0.7259339754055224                        \n",
      "100%|██████████| 100/100 [02:56<00:00,  1.77s/trial, best loss: -0.7272787289599495]\n"
     ]
    },
    {
     "name": "stderr",
     "output_type": "stream",
     "text": [
      "/usr/local/lib/python3.9/site-packages/xgboost/data.py:112: UserWarning: Use subset (sliced data) of np.ndarray is not recommended because it will generate extra copies and increase memory consumption\n",
      "  warnings.warn(\n",
      "\n"
     ]
    }
   ],
   "source": [
    "# trials = Trials()\n",
    "\n",
    "# best_hyperparams = fmin(\n",
    "#     fn = objective,\n",
    "#     space = params,\n",
    "#     algo = tpe.suggest,\n",
    "#     max_evals = 1000,\n",
    "#     trials = trials,\n",
    "# )\n",
    "# best_hyperparams"
   ]
  },
  {
   "cell_type": "code",
   "execution_count": 255,
   "metadata": {},
   "outputs": [
    {
     "data": {
      "text/plain": [
       "{'colsample_bytree': 3,\n",
       " 'gamma': 0,\n",
       " 'learning_rate': 1,\n",
       " 'max_depth': 2,\n",
       " 'min_child_weight': 5,\n",
       " 'subsample': 3}"
      ]
     },
     "execution_count": 255,
     "metadata": {},
     "output_type": "execute_result"
    }
   ],
   "source": [
    "best_hyperparams"
   ]
  },
  {
   "cell_type": "code",
   "execution_count": 258,
   "metadata": {},
   "outputs": [
    {
     "name": "stderr",
     "output_type": "stream",
     "text": [
      "/usr/local/lib/python3.9/site-packages/xgboost/data.py:112: UserWarning: Use subset (sliced data) of np.ndarray is not recommended because it will generate extra copies and increase memory consumption\n",
      "  warnings.warn(\n"
     ]
    }
   ],
   "source": [
    "# # best roc_auc: 0.7272787289599495\n",
    "# # accuracy: 0.8672067061620925\n",
    "# clf = xgboost.XGBClassifier(\n",
    "#     verbosity         = 0,\n",
    "#     use_label_encoder = False,\n",
    "#     learning_rate     = 0.1,\n",
    "#     max_depth         = 3,\n",
    "#     min_child_weight  = 6,\n",
    "#     gamma             = 0.0,\n",
    "#     colsample_bytree  = 0.6000000000000001,\n",
    "#     subsample         = 0.9500000000000002,\n",
    "#     n_estimators      = 1000,\n",
    "# )\n",
    "\n",
    "# best accuracy: 0.8685366541732157\n",
    "# roc_auc: 0.7245468451198367\n",
    "clf = xgboost.XGBClassifier(\n",
    "    verbosity         = 0,\n",
    "    use_label_encoder = False,\n",
    "    learning_rate     = 0.1,\n",
    "    max_depth         = 2,\n",
    "    min_child_weight  = 5,\n",
    "    gamma             = 0.0,\n",
    "    colsample_bytree  = 0.6000000000000001,\n",
    "    subsample         = 0.8,\n",
    "    n_estimators      = 1000,\n",
    ")\n",
    "\n",
    "clf.fit(X_train, y_train, **fit_params)\n",
    "\n",
    "y_pred = clf.predict(X_test)\n",
    "preds = clf.predict_proba(X_test)[:,1]"
   ]
  },
  {
   "cell_type": "code",
   "execution_count": 259,
   "metadata": {},
   "outputs": [
    {
     "name": "stdout",
     "output_type": "stream",
     "text": [
      "accuracy: 0.8685366541732157\n",
      "roc_auc: 0.7245468451198367\n"
     ]
    },
    {
     "data": {
      "image/png": "[encoded data removed]",
      "text/plain": [
       "<Figure size 576x432 with 1 Axes>"
      ]
     },
     "metadata": {
      "needs_background": "light"
     },
     "output_type": "display_data"
    }
   ],
   "source": [
    "print(\"accuracy:\", accuracy_score(y_test, y_pred))\n",
    "print(\"roc_auc:\", roc_auc_score(y_test, preds))\n",
    "\n",
    "fpr, tpr, _ = roc_curve(y_test, preds, drop_intermediate=False)\n",
    "\n",
    "plt.clf()\n",
    "plt.plot(fpr, tpr)\n",
    "plt.xlabel('FPR')\n",
    "plt.ylabel('TPR')\n",
    "plt.title('ROC curve')\n",
    "plt.show()"
   ]
  },
  {
   "cell_type": "code",
   "execution_count": 272,
   "metadata": {},
   "outputs": [],
   "source": [
    "b_all['ВероятностьОтклика'] = pd.Series(clf.predict_proba(b_all[important_features])[:,1], index=b_all.index)"
   ]
  },
  {
   "cell_type": "code",
   "execution_count": 280,
   "metadata": {},
   "outputs": [],
   "source": [
    "b_all.to_csv('./data/preds.csv')"
   ]
  }
 ],
 "metadata": {
  "kernelspec": {
   "display_name": "Python 3",
   "language": "python",
   "name": "python3"
  },
  "language_info": {
   "codemirror_mode": {
    "name": "ipython",
    "version": 3
   },
   "file_extension": ".py",
   "mimetype": "text/x-python",
   "name": "python",
   "nbconvert_exporter": "python",
   "pygments_lexer": "ipython3",
   "version": "3.8.5"
  }
 },
 "nbformat": 4,
 "nbformat_minor": 5
}
